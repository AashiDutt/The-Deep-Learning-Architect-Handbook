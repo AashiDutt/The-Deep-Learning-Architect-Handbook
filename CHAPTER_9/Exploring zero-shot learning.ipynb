{
 "cells": [
  {
   "cell_type": "code",
   "execution_count": 22,
   "id": "6f35a4ca-741c-46fc-8534-e41dabed63cf",
   "metadata": {},
   "outputs": [],
   "source": [
    "import os \n",
    "from tqdm import tqdm\n",
    "import numpy as np\n",
    "import clip\n",
    "import torch \n",
    "from PIL import Image\n",
    "import pandas as pd"
   ]
  },
  {
   "cell_type": "code",
   "execution_count": 3,
   "id": "82d7664e-949b-4d75-8884-435f2e9d8db7",
   "metadata": {},
   "outputs": [
    {
     "name": "stderr",
     "output_type": "stream",
     "text": [
      "100%|███████████████████████████████████████| 338M/338M [01:12<00:00, 4.86MiB/s]\n"
     ]
    }
   ],
   "source": [
    "device = \"cuda\" if torch.cuda.is_available() else \"cpu\"\n",
    "model, preprocess = clip.load(\"ViT-B/32\", device)"
   ]
  },
  {
   "cell_type": "code",
   "execution_count": 16,
   "id": "a7e05ace-9299-4984-bc61-7dc333ea5d05",
   "metadata": {},
   "outputs": [],
   "source": [
    "def predict_with_pil_image(image_input, clip_labels, top_k=5):\n",
    "    image_input = preprocess(image_input).unsqueeze(0).to(device)\n",
    "    text_inputs = torch.cat([clip.tokenize(cl) for cl in clip_labels]).to(device)\n",
    "    with torch.no_grad():\n",
    "        image_features = model.encode_image(image_input)\n",
    "        text_features = model.encode_text(text_inputs)\n",
    "    image_features /= image_features.norm(dim=-1, keepdim=True)\n",
    "    text_features /= text_features.norm(dim=-1, keepdim=True)\n",
    "    similarity_score_probability = (100.0 * image_features @ text_features.T).softmax(dim=-1)\n",
    "    percentages, indices = similarity_score_probability[0].topk(5)\n",
    "    similarity_score_probability = percentages.numpy() * 100.0 \n",
    "    indices = indices.numpy()\n",
    "    return similarity_score_probability, indices\n"
   ]
  },
  {
   "cell_type": "code",
   "execution_count": 17,
   "id": "022522c5-78e7-45ae-b034-b3cd45ce7dd6",
   "metadata": {},
   "outputs": [],
   "source": [
    "image = Image.open('clips-data-2020/clips/clips-25001.png')\n"
   ]
  },
  {
   "cell_type": "code",
   "execution_count": 18,
   "id": "c24cd98f-5b3e-4f05-9d45-7f00b2b2d389",
   "metadata": {},
   "outputs": [],
   "source": [
    "raw_labels = list(range(100))\n",
    "clip_labels = ['{} number of paper clips where some paper clips are partially occluded'.format(label) for label in raw_labels]\n"
   ]
  },
  {
   "cell_type": "code",
   "execution_count": 19,
   "id": "3ea9e22e-a025-4f95-8e51-d3a475fab1d9",
   "metadata": {},
   "outputs": [
    {
     "name": "stdout",
     "output_type": "stream",
     "text": [
      "\n",
      "Top 5 predictions:\n",
      "\n",
      "0: 3.36%\n",
      "4: 2.78%\n",
      "2: 2.77%\n",
      "3: 2.46%\n",
      "5: 2.42%\n"
     ]
    }
   ],
   "source": [
    "percentages, indices = predict_with_pil_image(image, clip_labels)\n",
    "print(\"\\nTop 5 predictions:\\n\")\n",
    "for percent, index in zip(percentages, indices):\n",
    "    print(f\"{raw_labels[index]}: {percent:.2f}%\")"
   ]
  },
  {
   "cell_type": "code",
   "execution_count": 20,
   "id": "acf3f323-2dc0-4c06-abc5-09d805c243c5",
   "metadata": {},
   "outputs": [],
   "source": [
    "medium_image = Image.open('clips-data-2020/clips/clips-25086.png')\n",
    "hard_image = Image.open('clips-data-2020/clips/clips-25485.png')\n"
   ]
  },
  {
   "cell_type": "code",
   "execution_count": null,
   "id": "ae21f896-e35c-4c10-b1cf-366d4bb77968",
   "metadata": {},
   "outputs": [
    {
     "name": "stderr",
     "output_type": "stream",
     "text": [
      "  2%|▋                                      | 19/1000 [02:02<1:54:56,  7.03s/it]"
     ]
    }
   ],
   "source": [
    "testing_data = pd.read_csv('train.csv')\n",
    "errors = []\n",
    "for idx, row in tqdm(testing_data.iterrows(), total=1000):\n",
    "    image = Image.open(\n",
    "        'clips-data-2020/clips/clips-{}.png'.format(row['id'])\n",
    "    )\n",
    "    percentages, indices = predict_with_pil_image(image, clip_labels, 1)\n",
    "    errors.append(abs(row['clip_count'] - raw_labels[indices[0]]))\n",
    "    if idx == 1000:\n",
    "        break\n",
    "print('{} average count error'.format(np.mean(errors)))"
   ]
  },
  {
   "cell_type": "code",
   "execution_count": null,
   "id": "48d4f73a-282f-4d16-b5f2-95f3952cbf74",
   "metadata": {},
   "outputs": [],
   "source": []
  }
 ],
 "metadata": {
  "kernelspec": {
   "display_name": "Python (py310)",
   "language": "python",
   "name": "py310"
  },
  "language_info": {
   "codemirror_mode": {
    "name": "ipython",
    "version": 3
   },
   "file_extension": ".py",
   "mimetype": "text/x-python",
   "name": "python",
   "nbconvert_exporter": "python",
   "pygments_lexer": "ipython3",
   "version": "3.10.12"
  }
 },
 "nbformat": 4,
 "nbformat_minor": 5
}
