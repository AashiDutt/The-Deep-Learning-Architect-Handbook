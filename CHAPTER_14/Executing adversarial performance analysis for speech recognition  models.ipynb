{
 "cells": [
  {
   "cell_type": "code",
   "execution_count": 1,
   "id": "62b6b84d",
   "metadata": {},
   "outputs": [],
   "source": [
    "import matplotlib.pyplot as plt\n",
    "import numpy as np\n",
    "import torch\n",
    "from tqdm import tqdm_notebook\n",
    "import evaluate\n",
    "import syllables\n",
    "from audiomentations import (\n",
    "    AddBackgroundNoise, \n",
    "    AddGaussianNoise,\n",
    "    AddGaussianSNR, \n",
    "    LoudnessNormalization, \n",
    "    PitchShift,\n",
    "    Shift,\n",
    "    TimeStretch\n",
    ")\n",
    "from datasets import load_dataset\n",
    "from transformers import (\n",
    "    Speech2TextForConditionalGeneration,\n",
    "    Speech2TextProcessor\n",
    ")"
   ]
  },
  {
   "cell_type": "code",
   "execution_count": 2,
   "id": "bf8f8bfd",
   "metadata": {},
   "outputs": [
    {
     "data": {
      "text/plain": [
       "Speech2TextForConditionalGeneration(\n",
       "  (model): Speech2TextModel(\n",
       "    (encoder): Speech2TextEncoder(\n",
       "      (conv): Conv1dSubsampler(\n",
       "        (conv_layers): ModuleList(\n",
       "          (0): Conv1d(80, 1024, kernel_size=(5,), stride=(2,), padding=(2,))\n",
       "          (1): Conv1d(512, 512, kernel_size=(5,), stride=(2,), padding=(2,))\n",
       "        )\n",
       "      )\n",
       "      (embed_positions): Speech2TextSinusoidalPositionalEmbedding()\n",
       "      (layers): ModuleList(\n",
       "        (0-11): 12 x Speech2TextEncoderLayer(\n",
       "          (self_attn): Speech2TextAttention(\n",
       "            (k_proj): Linear(in_features=256, out_features=256, bias=True)\n",
       "            (v_proj): Linear(in_features=256, out_features=256, bias=True)\n",
       "            (q_proj): Linear(in_features=256, out_features=256, bias=True)\n",
       "            (out_proj): Linear(in_features=256, out_features=256, bias=True)\n",
       "          )\n",
       "          (self_attn_layer_norm): LayerNorm((256,), eps=1e-05, elementwise_affine=True)\n",
       "          (activation_fn): ReLU()\n",
       "          (fc1): Linear(in_features=256, out_features=2048, bias=True)\n",
       "          (fc2): Linear(in_features=2048, out_features=256, bias=True)\n",
       "          (final_layer_norm): LayerNorm((256,), eps=1e-05, elementwise_affine=True)\n",
       "        )\n",
       "      )\n",
       "      (layer_norm): LayerNorm((256,), eps=1e-05, elementwise_affine=True)\n",
       "    )\n",
       "    (decoder): Speech2TextDecoder(\n",
       "      (embed_tokens): Embedding(10000, 256, padding_idx=1)\n",
       "      (embed_positions): Speech2TextSinusoidalPositionalEmbedding()\n",
       "      (layers): ModuleList(\n",
       "        (0-5): 6 x Speech2TextDecoderLayer(\n",
       "          (self_attn): Speech2TextAttention(\n",
       "            (k_proj): Linear(in_features=256, out_features=256, bias=True)\n",
       "            (v_proj): Linear(in_features=256, out_features=256, bias=True)\n",
       "            (q_proj): Linear(in_features=256, out_features=256, bias=True)\n",
       "            (out_proj): Linear(in_features=256, out_features=256, bias=True)\n",
       "          )\n",
       "          (activation_fn): ReLU()\n",
       "          (self_attn_layer_norm): LayerNorm((256,), eps=1e-05, elementwise_affine=True)\n",
       "          (encoder_attn): Speech2TextAttention(\n",
       "            (k_proj): Linear(in_features=256, out_features=256, bias=True)\n",
       "            (v_proj): Linear(in_features=256, out_features=256, bias=True)\n",
       "            (q_proj): Linear(in_features=256, out_features=256, bias=True)\n",
       "            (out_proj): Linear(in_features=256, out_features=256, bias=True)\n",
       "          )\n",
       "          (encoder_attn_layer_norm): LayerNorm((256,), eps=1e-05, elementwise_affine=True)\n",
       "          (fc1): Linear(in_features=256, out_features=2048, bias=True)\n",
       "          (fc2): Linear(in_features=2048, out_features=256, bias=True)\n",
       "          (final_layer_norm): LayerNorm((256,), eps=1e-05, elementwise_affine=True)\n",
       "        )\n",
       "      )\n",
       "      (layer_norm): LayerNorm((256,), eps=1e-05, elementwise_affine=True)\n",
       "    )\n",
       "  )\n",
       "  (lm_head): Linear(in_features=256, out_features=10000, bias=False)\n",
       ")"
      ]
     },
     "execution_count": 2,
     "metadata": {},
     "output_type": "execute_result"
    }
   ],
   "source": [
    "device = torch.device(\"cuda\")\n",
    "model = Speech2TextForConditionalGeneration.from_pretrained(\"facebook/s2t-small-librispeech-asr\")\n",
    "processor = Speech2TextProcessor.from_pretrained(\"facebook/s2t-small-librispeech-asr\")\n",
    "model.to(device)"
   ]
  },
  {
   "cell_type": "code",
   "execution_count": 3,
   "id": "8d0ab4a3",
   "metadata": {},
   "outputs": [],
   "source": [
    "wer = evaluate.load(\"wer\")"
   ]
  },
  {
   "cell_type": "code",
   "execution_count": 4,
   "id": "2fef127b",
   "metadata": {},
   "outputs": [
    {
     "name": "stderr",
     "output_type": "stream",
     "text": [
      "Found cached dataset fleurs (/home/dcek/.cache/huggingface/datasets/google___fleurs/en_us/2.0.0/af82dbec419a815084fa63ebd5d5a9f24a6e9acdf9887b9e3b8c6bbd64e0b7ac)\n"
     ]
    }
   ],
   "source": [
    "ds = load_dataset(\"google/fleurs\", 'en_us', split=\"validation\")\n"
   ]
  },
  {
   "cell_type": "code",
   "execution_count": 5,
   "id": "0b240042",
   "metadata": {},
   "outputs": [],
   "source": [
    "gender_map = {'female':1, 'male':0}\n",
    "def get_wer_scores(dataset, transcriptions=None, sampling_rates=None, is_hg_ds=False):\n",
    "    all_wer_score = []\n",
    "\n",
    "    for idx, audio_data in tqdm_notebook(enumerate(dataset), total=len(dataset)):\n",
    "        inputs = processor(\n",
    "            audio_data[\"audio\"][\"array\"] if is_hg_ds else audio_data, \n",
    "            sampling_rate=audio_data[\"audio\"][\"sampling_rate\"] if is_hg_ds else sampling_rates[idx],\n",
    "            return_tensors=\"pt\"\n",
    "        )\n",
    "        generated_ids = model.generate(\n",
    "            inputs[\"input_features\"].to(device), \n",
    "            attention_mask=inputs[\"attention_mask\"].to(device)\n",
    "        )\n",
    "        transcription = processor.batch_decode(generated_ids, skip_special_tokens=True)\n",
    "        wer_score = wer.compute(\n",
    "            predictions=transcription, \n",
    "            references=[audio_data['transcription'] if is_hg_ds else transcriptions[idx]]\n",
    "        )\n",
    "        all_wer_score.append(wer_score)\n",
    "    all_wer_score = np.array(all_wer_score)\n",
    "    wer_score_results = {}\n",
    "    for gender in gender_map.keys():\n",
    "        gender_idx = np.where(all_gender == gender_map[gender])[0]\n",
    "        wer_score_results[gender + '_wer_score'] = all_wer_score[gender_idx].mean()\n",
    "    wer_score_results['wer_score'] = all_wer_score.mean()\n",
    "    return wer_score_results\n",
    "\n"
   ]
  },
  {
   "cell_type": "code",
   "execution_count": 6,
   "id": "ff8d4103",
   "metadata": {},
   "outputs": [],
   "source": [
    "def get_augmented_samples_wer_results(\n",
    "    all_baseline_samples, augment, transcriptions, all_sampling_rates\n",
    "):\n",
    "    all_augmented_samples = []\n",
    "    for idx, audio_sample in enumerate(all_baseline_samples):\n",
    "        augmented_samples = augment(samples=audio_sample, sample_rate=all_sampling_rates[idx])\n",
    "        all_augmented_samples.append(augmented_samples)\n",
    "    results = get_wer_scores(\n",
    "        all_augmented_samples, transcriptions, sampling_rates=all_sampling_rates, is_hg_ds=False\n",
    "    )\n",
    "    return results"
   ]
  },
  {
   "cell_type": "code",
   "execution_count": 7,
   "id": "e245ba1f",
   "metadata": {},
   "outputs": [],
   "source": [
    "all_syllables_per_second = []\n",
    "for audio_data in ds:\n",
    "    num_syllables = syllables.estimate(audio_data['transcription'])\n",
    "    syllables_per_second = num_syllables / (audio_data['num_samples'] / audio_data['audio']['sampling_rate'])\n",
    "    all_syllables_per_second.append(syllables_per_second)\n",
    "    average_syllables_per_second = np.mean(all_syllables_per_second)"
   ]
  },
  {
   "cell_type": "code",
   "execution_count": 8,
   "id": "18182419",
   "metadata": {},
   "outputs": [
    {
     "name": "stderr",
     "output_type": "stream",
     "text": [
      "/tmp/ipykernel_13307/2854252435.py:4: TqdmDeprecationWarning: This function will be removed in tqdm==5.0.0\n",
      "Please use `tqdm.notebook.tqdm` instead of `tqdm.tqdm_notebook`\n",
      "  for idx, audio_data in tqdm_notebook(enumerate(ds), total=len(ds)):\n"
     ]
    },
    {
     "data": {
      "application/vnd.jupyter.widget-view+json": {
       "model_id": "c23a306332d84d38bd710d38d8b43c80",
       "version_major": 2,
       "version_minor": 0
      },
      "text/plain": [
       "  0%|          | 0/394 [00:00<?, ?it/s]"
      ]
     },
     "metadata": {},
     "output_type": "display_data"
    },
    {
     "name": "stderr",
     "output_type": "stream",
     "text": [
      "/home/dcek/anaconda3/envs/py310/lib/python3.10/site-packages/audiomentations/core/transforms_interface.py:57: UserWarning: Warning: input samples dtype is np.float64. Converting to np.float32\n",
      "  warnings.warn(\n",
      "/home/dcek/anaconda3/envs/py310/lib/python3.10/site-packages/audiomentations/core/transforms_interface.py:57: UserWarning: Warning: input samples dtype is np.float64. Converting to np.float32\n",
      "  warnings.warn(\n"
     ]
    }
   ],
   "source": [
    "all_baseline_speed_audio_samples = []\n",
    "transcriptions = []\n",
    "all_sampling_rates = []\n",
    "for idx, audio_data in tqdm_notebook(enumerate(ds), total=len(ds)):\n",
    "    rate = average_syllables_per_second / all_syllables_per_second[idx]\n",
    "    augment = TimeStretch(min_rate=rate, max_rate=rate, p=1.0)\n",
    "    augmented_samples = augment(\n",
    "        samples=audio_data['audio']['array'], \n",
    "        sample_rate=audio_data['audio']['sampling_rate']\n",
    "    )\n",
    "    transcriptions.append(audio_data['transcription'])\n",
    "    all_sampling_rates.append(audio_data['audio']['sampling_rate'])\n",
    "    all_baseline_speed_audio_samples.append(augmented_samples)"
   ]
  },
  {
   "cell_type": "code",
   "execution_count": 9,
   "id": "f29b0cc8",
   "metadata": {},
   "outputs": [],
   "source": [
    "all_gender = np.array(ds['gender'])"
   ]
  },
  {
   "cell_type": "code",
   "execution_count": null,
   "id": "d766a789",
   "metadata": {},
   "outputs": [
    {
     "name": "stderr",
     "output_type": "stream",
     "text": [
      "/tmp/ipykernel_13307/1421106808.py:3: TqdmDeprecationWarning: This function will be removed in tqdm==5.0.0\n",
      "Please use `tqdm.notebook.tqdm` instead of `tqdm.tqdm_notebook`\n",
      "  for rate_to_change in tqdm_notebook(rates):\n"
     ]
    },
    {
     "data": {
      "application/vnd.jupyter.widget-view+json": {
       "model_id": "78d84b1ab10e402682e97be402d7aeeb",
       "version_major": 2,
       "version_minor": 0
      },
      "text/plain": [
       "  0%|          | 0/19 [00:00<?, ?it/s]"
      ]
     },
     "metadata": {},
     "output_type": "display_data"
    },
    {
     "name": "stderr",
     "output_type": "stream",
     "text": [
      "/tmp/ipykernel_13307/2205415706.py:5: TqdmDeprecationWarning: This function will be removed in tqdm==5.0.0\n",
      "Please use `tqdm.notebook.tqdm` instead of `tqdm.tqdm_notebook`\n",
      "  for idx, audio_data in tqdm_notebook(enumerate(dataset), total=len(dataset)):\n"
     ]
    },
    {
     "data": {
      "application/vnd.jupyter.widget-view+json": {
       "model_id": "61e0d1f65bae45b3a2e650117be7ce82",
       "version_major": 2,
       "version_minor": 0
      },
      "text/plain": [
       "  0%|          | 0/394 [00:00<?, ?it/s]"
      ]
     },
     "metadata": {},
     "output_type": "display_data"
    },
    {
     "data": {
      "application/vnd.jupyter.widget-view+json": {
       "model_id": "9c843cbbd95749ffa8819737359dd8d9",
       "version_major": 2,
       "version_minor": 0
      },
      "text/plain": [
       "  0%|          | 0/394 [00:00<?, ?it/s]"
      ]
     },
     "metadata": {},
     "output_type": "display_data"
    }
   ],
   "source": [
    "rates = np.linspace(0.1, 1, 9).tolist() + list(range(1, 11))\n",
    "wer_results_by_rate = []\n",
    "for rate_to_change in tqdm_notebook(rates): \n",
    "    augment = TimeStretch(min_rate=rate_to_change, max_rate=rate_to_change, p=1.0)\n",
    "    results = get_augmented_samples_wer_results(\n",
    "        all_baseline_speed_audio_samples, augment, transcriptions, all_sampling_rates\n",
    "    )\n",
    "    wer_results_by_rate.append(results)"
   ]
  },
  {
   "cell_type": "code",
   "execution_count": null,
   "id": "6498f9c6",
   "metadata": {},
   "outputs": [],
   "source": [
    "labels = [\"female\", \"male\", \"overall\"]\n",
    "plt.xlabel(\"Syllables per second\")\n",
    "plt.ylabel(\"WER\")\n",
    "for idx, gender in enumerate([\"female_\", \"male_\", \"\"]):\n",
    "    plt.plot(\n",
    "        [average_syllables_per_second * i for i in rates],\n",
    "        [wr[gender + 'wer_score'] for wr in \n",
    "        wer_results_by_rate], \n",
    "        label=labels[idx]\n",
    "    )\n",
    "    plt.legend()"
   ]
  },
  {
   "cell_type": "code",
   "execution_count": null,
   "id": "5e61ea05",
   "metadata": {},
   "outputs": [],
   "source": [
    "baseline_samples = [audio_data['audio']['array'] for \n",
    "audio_data in ds]\n",
    "snr_rates = np.linspace(1, 100, 25)\n",
    "wer_results_by_snr = []\n",
    "for snr_rate in tqdm_notebook(snr_rates): \n",
    "    all_augmented_samples = []\n",
    "    augment = AddGaussianSNR(\n",
    "        min_snr_in_db=snr_rate,\n",
    "        max_snr_in_db=snr_rate,\n",
    "        p=1.0\n",
    "    )\n",
    "    results = get_augmented_samples_wer_results(\n",
    "        baseline_samples, augment, transcriptions, all_sampling_rates\n",
    "    )\n",
    "    wer_results_by_snr.append(results)"
   ]
  },
  {
   "cell_type": "code",
   "execution_count": null,
   "id": "0e168113",
   "metadata": {},
   "outputs": [],
   "source": [
    "plt.xlabel(“SNR (dB)”)\n",
    "plt.ylabel(“WER”)\n",
    "for idx, gender in enumerate([\"female_\", \"male_\", \"\"]):\n",
    "    plt.plot(\n",
    "        snr_rates,\n",
    "        [wr[gender + ‘wer_score’] for wr in wer_results_by_snr], \n",
    "        label=labels[idx]\n",
    "    )\n",
    "    plt.legend()"
   ]
  },
  {
   "cell_type": "code",
   "execution_count": null,
   "id": "211f383a",
   "metadata": {},
   "outputs": [],
   "source": [
    "wer_results_by_loudness = []\n",
    "loudness_db = np.linspace(-31, 100, 25)\n",
    "for db in tqdm_notebook(loudness_db): \n",
    "    augment = LoudnessNormalization(\n",
    "        min_lufs_in_db=db,\n",
    "        max_lufs_in_db=db,\n",
    "        p=1.0\n",
    "    )\n",
    "    results = get_augmented_samples_wer_results(\n",
    "        baseline_samples, augment, transcriptions, all_sampling_rates\n",
    "    )\n",
    "    wer_results_by_loudness.append(results)"
   ]
  },
  {
   "cell_type": "code",
   "execution_count": null,
   "id": "c090212a",
   "metadata": {},
   "outputs": [],
   "source": [
    "labels = [\"female\", \"male\", \"overall\"]\n",
    "plt.xlabel(\"SNR (dB)\")\n",
    "plt.ylabel(\"WER\")\n",
    "for idx, gender in enumerate([\"female_\", \"male_\", \"\"]):\n",
    "    plt.plot(\n",
    "        loudness_db,\n",
    "        [wr[gender + 'wer_score'] for wr in \n",
    "         wer_results_by_loudness], \n",
    "        label=labels[idx]\n",
    "    )\n",
    "    plt.legend()"
   ]
  },
  {
   "cell_type": "code",
   "execution_count": null,
   "id": "0315f668",
   "metadata": {},
   "outputs": [],
   "source": [
    "snrs = np.linspace(-50, 50, 20)\n",
    "wer_results_by_background_noise_snr = []\n",
    "for snr in tqdm_notebook(snrs): \n",
    "    augment = AddBackgroundNoise(\n",
    "        sounds_path=\"motorbikes\",\n",
    "        min_snr_in_db=snr,\n",
    "        max_snr_in_db=snr,\n",
    "        p=1.0\n",
    "    )\n",
    "    results = get_augmented_samples_wer_results(\n",
    "        baseline_samples, augment, transcriptions, all_sampling_rates\n",
    "    )\n",
    "    wer_results_by_background_noise_snr.append(results)\n"
   ]
  },
  {
   "cell_type": "code",
   "execution_count": null,
   "id": "8911a31a",
   "metadata": {},
   "outputs": [],
   "source": [
    "plt.xlabel(\"SNR (dB)\")\n",
    "plt.ylabel(\"WER\")\n",
    "for idx, gender in enumerate([\"female_\", \"male_\", \"\"]):\n",
    "    plt.plot(\n",
    "        snrs,\n",
    "        [wr[gender + ‘wer_score’] for wr in wer_results_by_background_noise_snr], \n",
    "        label=labels[idx]\n",
    "    )\n",
    "    plt.legend()\n"
   ]
  },
  {
   "cell_type": "code",
   "execution_count": null,
   "id": "e3ab26bb",
   "metadata": {},
   "outputs": [],
   "source": []
  },
  {
   "cell_type": "code",
   "execution_count": null,
   "id": "054cf315",
   "metadata": {},
   "outputs": [],
   "source": []
  }
 ],
 "metadata": {
  "kernelspec": {
   "display_name": "py310",
   "language": "python",
   "name": "py310"
  },
  "language_info": {
   "codemirror_mode": {
    "name": "ipython",
    "version": 3
   },
   "file_extension": ".py",
   "mimetype": "text/x-python",
   "name": "python",
   "nbconvert_exporter": "python",
   "pygments_lexer": "ipython3",
   "version": "3.10.4"
  }
 },
 "nbformat": 4,
 "nbformat_minor": 5
}
