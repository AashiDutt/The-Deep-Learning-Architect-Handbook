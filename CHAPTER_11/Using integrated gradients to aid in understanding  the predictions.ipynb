{
 "cells": [
  {
   "cell_type": "code",
   "execution_count": 27,
   "id": "1b3d3594-f23d-4632-8d18-db0de7fb79f3",
   "metadata": {},
   "outputs": [],
   "source": [
    "from transformers import (\n",
    "    DebertaForSequenceClassification,\n",
    "    EvalPrediction,\n",
    "    DebertaConfig,\n",
    "    DebertaTokenizer,\n",
    "    Trainer,\n",
    "    TrainingArguments,\n",
    "    IntervalStrategy,\n",
    "EarlyStoppingCallback\n",
    ")\n",
    "import pandas as pd\n",
    "from sklearn.model_selection import train_test_split\n",
    "import torch\n"
   ]
  },
  {
   "cell_type": "code",
   "execution_count": 3,
   "id": "562f8280-fc2b-44de-b9d7-61f92b93e579",
   "metadata": {},
   "outputs": [],
   "source": [
    "df = pd.read_csv('text_sentiment_dataset.csv')\n"
   ]
  },
  {
   "cell_type": "code",
   "execution_count": 4,
   "id": "df4c1827-64fa-4005-bd05-33f36909da99",
   "metadata": {},
   "outputs": [],
   "source": [
    "label2id = {\"negative\": 0, \"neutral\": 1, \"positive\": 2}\n",
    "id2label = {v: k for k, v in label2id.items()}"
   ]
  },
  {
   "cell_type": "code",
   "execution_count": 6,
   "id": "e9639dc6-13a5-4c6d-8b1d-8797b5ca2f75",
   "metadata": {},
   "outputs": [
    {
     "data": {
      "application/vnd.jupyter.widget-view+json": {
       "model_id": "4ce138a04e15489680849002279e1c9d",
       "version_major": 2,
       "version_minor": 0
      },
      "text/plain": [
       "Downloading (…)olve/main/vocab.json:   0%|          | 0.00/899k [00:00<?, ?B/s]"
      ]
     },
     "metadata": {},
     "output_type": "display_data"
    },
    {
     "data": {
      "application/vnd.jupyter.widget-view+json": {
       "model_id": "9b4aff0945df4508a8e291d1af9aaf2b",
       "version_major": 2,
       "version_minor": 0
      },
      "text/plain": [
       "Downloading (…)olve/main/merges.txt:   0%|          | 0.00/456k [00:00<?, ?B/s]"
      ]
     },
     "metadata": {},
     "output_type": "display_data"
    },
    {
     "data": {
      "application/vnd.jupyter.widget-view+json": {
       "model_id": "c840060205c04b108b9c17f1654a8c95",
       "version_major": 2,
       "version_minor": 0
      },
      "text/plain": [
       "Downloading (…)okenizer_config.json:   0%|          | 0.00/52.0 [00:00<?, ?B/s]"
      ]
     },
     "metadata": {},
     "output_type": "display_data"
    },
    {
     "data": {
      "application/vnd.jupyter.widget-view+json": {
       "model_id": "d4812a2d0f574c0887eb9ef4d49517ee",
       "version_major": 2,
       "version_minor": 0
      },
      "text/plain": [
       "Downloading (…)lve/main/config.json:   0%|          | 0.00/474 [00:00<?, ?B/s]"
      ]
     },
     "metadata": {},
     "output_type": "display_data"
    }
   ],
   "source": [
    "tokenizer = DebertaTokenizer.from_pretrained(\"microsoft/deberta-base\")\n",
    "def preprocess_function(examples):\n",
    "    inputs = tokenizer(examples[\"Text\"].values.tolist(), padding=\"max_length\", truncation=True)\n",
    "    inputs[\"labels\"] = [label2id[label] for label in examples[\"Sentiment\"].values]\n",
    "    return inputs"
   ]
  },
  {
   "cell_type": "code",
   "execution_count": 10,
   "id": "e0757fc1-2186-4643-be6d-ecacb4e8a129",
   "metadata": {},
   "outputs": [],
   "source": [
    "train_df, test_df = train_test_split(df, test_size=0.2, random_state=42)\n"
   ]
  },
  {
   "cell_type": "code",
   "execution_count": 15,
   "id": "193a40d1-d92e-4cf2-968f-7b5a273b4bbe",
   "metadata": {},
   "outputs": [],
   "source": [
    "class TextClassificationDataset(torch.utils.data.Dataset):\n",
    "    def __init__(self, examples):\n",
    "        self.examples = examples \n",
    "    def __getitem__(self, index):\n",
    "        return {k: torch.tensor(v[index]) for k, v in \n",
    "        self.examples.items()} \n",
    "    def __len__(self):\n",
    "        return len(self.examples[\"input_ids\"])\n",
    "train_dataset = TextClassificationDataset(preprocess_function(train_df))\n",
    "test_dataset = TextClassificationDataset(preprocess_function(test_df))"
   ]
  },
  {
   "cell_type": "code",
   "execution_count": 19,
   "id": "8023c76e-64d1-4b8a-a068-cac080405b50",
   "metadata": {},
   "outputs": [],
   "source": [
    "deberta_v3_config = {\n",
    "    \"model_type\": \"deberta-v2\",\n",
    "    \"attention_probs_dropout_prob\": 0.1,\n",
    "    \"hidden_act\": \"gelu\",\n",
    "    \"hidden_dropout_prob\": 0.1,\n",
    "    \"hidden_size\": 768,\n",
    "    \"initializer_range\": 0.02,\n",
    "    \"intermediate_size\": 3072,\n",
    "    \"max_position_embeddings\": 512,\n",
    "    \"relative_attention\": True,\n",
    "    \"position_buckets\": 256,\n",
    "    \"norm_rel_ebd\": \"layer_norm\",\n",
    "    \"share_att_key\": True,\n",
    "    \"pos_att_type\": \"p2c|c2p\",\n",
    "    \"layer_norm_eps\": 1e-7,\n",
    "    \"max_relative_positions\": -1,\n",
    "    \"position_biased_input\": False,\n",
    "    \"num_attention_heads\": 12,\n",
    "    \"num_hidden_layers\": 12,\n",
    "    \"type_vocab_size\": 0,\n",
    "    \"vocab_size\": 128100\n",
    "}\n"
   ]
  },
  {
   "cell_type": "code",
   "execution_count": 20,
   "id": "77ef14f9-3856-405d-b5cb-5763bc07a8e5",
   "metadata": {},
   "outputs": [],
   "source": [
    "deberta_config = {\n",
    "    \"model_type\": \"deberta-v2\",\n",
    "    \"attention_probs_dropout_prob\": 0.1,\n",
    "    \"hidden_act\": \"gelu\",\n",
    "    \"hidden_dropout_prob\": 0.1,\n",
    "    \"hidden_size\": 768,\n",
    "    \"initializer_range\": 0.02,\n",
    "    \"intermediate_size\": 3072,\n",
    "    \"max_position_embeddings\": 512,\n",
    "    \"relative_attention\": True,\n",
    "    \"position_buckets\": 256,\n",
    "    \"norm_rel_ebd\": \"layer_norm\",\n",
    "    \"share_att_key\": True,\n",
    "    \"pos_att_type\": \"p2c|c2p\",\n",
    "    \"layer_norm_eps\": 1e-7,\n",
    "    \"max_relative_positions\": -1,\n",
    "    \"position_biased_input\": False,\n",
    "    \"num_attention_heads\": 12,\n",
    "    \"num_hidden_layers\": 12,\n",
    "    \"type_vocab_size\": 0,\n",
    "    \"vocab_size\": 128100\n",
    "}\n",
    "model_config = DebertaConfig(id2label=id2label, label2id=label2id, **deberta_v3_config)\n",
    "model = DebertaForSequenceClassification(model_config)"
   ]
  },
  {
   "cell_type": "code",
   "execution_count": 21,
   "id": "07aec3c5-3c02-4d86-bd0c-7277a97b64e1",
   "metadata": {},
   "outputs": [],
   "source": [
    "def compute_metrics(p: EvalPrediction):\n",
    "    preds = p.predictions[0] if isinstance(p.predictions, tuple) else p.predictions\n",
    "    preds = np.argmax(preds, axis=1)\n",
    "    return {\"accuracy\": (preds == p.label_ids).astype(np.float32).mean().item()}"
   ]
  },
  {
   "cell_type": "code",
   "execution_count": 25,
   "id": "5f66720e-ff97-46d7-bf74-7e3a7f7fa589",
   "metadata": {},
   "outputs": [],
   "source": [
    "training_args = TrainingArguments(\n",
    "    output_dir=\"./results\",\n",
    "    num_train_epochs=1000,\n",
    "    per_device_train_batch_size=8,\n",
    "    per_device_eval_batch_size=16,\n",
    "    warmup_steps=100,\n",
    "    weight_decay=0.01,\n",
    "    logging_dir=\"./logs\",\n",
    "    logging_steps=10,\n",
    "    evaluation_strategy=IntervalStrategy.EPOCH,\n",
    "    save_strategy=IntervalStrategy.EPOCH,\n",
    "    load_best_model_at_end=True,\n",
    "    learning_rate=0.000025,\n",
    "    save_total_limit=2,\n",
    ")"
   ]
  },
  {
   "cell_type": "code",
   "execution_count": 28,
   "id": "2fc1d6c2-eaf6-46b0-9d9d-a62df5240563",
   "metadata": {},
   "outputs": [],
   "source": [
    "trainer = Trainer(\n",
    "    model=model,\n",
    "    args=training_args,\n",
    "    train_dataset=train_dataset,\n",
    "    eval_dataset=test_dataset,\n",
    "    compute_metrics=compute_metrics,\n",
    "    callbacks = [EarlyStoppingCallback(early_stopping_patience=20)]\n",
    "    )"
   ]
  },
  {
   "cell_type": "code",
   "execution_count": null,
   "id": "67bf77a7-5b2b-4dcb-ae5d-36fb1369e4d5",
   "metadata": {},
   "outputs": [
    {
     "name": "stderr",
     "output_type": "stream",
     "text": [
      "\n",
      "KeyboardInterrupt\n",
      "\n"
     ]
    }
   ],
   "source": [
    "trainer.train()\n",
    "trainer_v2.evaluate()"
   ]
  },
  {
   "cell_type": "code",
   "execution_count": null,
   "id": "38998b64-2834-4e02-82ab-66eb85e21486",
   "metadata": {},
   "outputs": [],
   "source": [
    "from transformers_interpret import SequenceClassificationExplainer\n",
    "cls_explainer = SequenceClassificationExplainer(model, tokenizer)"
   ]
  },
  {
   "cell_type": "code",
   "execution_count": null,
   "id": "0ff4e844-3108-4fa9-826a-75c8f422e517",
   "metadata": {},
   "outputs": [],
   "source": [
    "for idx in [0, 8, 6, 12]:\n",
    "    text = test_df['Text'].iloc[idx]\n",
    "    label = test_df['Sentiment'].iloc[idx]\n",
    "    word_attributions = cls_explainer(text)\n",
    "    cls_explainer.visualize()\n"
   ]
  },
  {
   "cell_type": "code",
   "execution_count": null,
   "id": "c48302ec-bb12-4d6d-b05d-a256427fdcd0",
   "metadata": {},
   "outputs": [],
   "source": [
    "from transformers import TextClassificationPipeline\n",
    "full_model = TextClassificationPipeline(model=model, tokenizer=tokenizer)\n",
    "print(full_model(\"day\"))\n",
    "print(full_model(\"day day\"))\n",
    "print(full_model(\"day day day\"))\n",
    "print(full_model(\"day day day day\"))\n",
    "print(full_model(\"bored\"))\n",
    "print(full_model(\"bored bored\"))\n",
    "print(full_model(\"bored bored bored\"))\n",
    "print(full_model(\"bored bored bored bored\"))"
   ]
  }
 ],
 "metadata": {
  "kernelspec": {
   "display_name": "Python (py310)",
   "language": "python",
   "name": "py310"
  },
  "language_info": {
   "codemirror_mode": {
    "name": "ipython",
    "version": 3
   },
   "file_extension": ".py",
   "mimetype": "text/x-python",
   "name": "python",
   "nbconvert_exporter": "python",
   "pygments_lexer": "ipython3",
   "version": "3.10.12"
  }
 },
 "nbformat": 4,
 "nbformat_minor": 5
}
