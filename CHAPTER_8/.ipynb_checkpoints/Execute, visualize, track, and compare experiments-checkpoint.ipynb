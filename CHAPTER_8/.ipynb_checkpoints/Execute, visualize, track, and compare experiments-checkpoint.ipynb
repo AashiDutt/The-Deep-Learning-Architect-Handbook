{
 "cells": [
  {
   "cell_type": "code",
   "execution_count": 1,
   "id": "1e8945f5-734a-474b-a052-b5727edceeb5",
   "metadata": {},
   "outputs": [],
   "source": [
    "import json\n",
    "import os\n",
    "import numpy as np\n",
    "import torch\n",
    "import torch.nn as nn\n",
    "import torch.nn.functional as F\n",
    "from catalyst import dl, utils\n",
    "from catalyst.contrib.datasets import MNIST\n",
    "from sklearn import datasets\n",
    "from sklearn.metrics import log_loss\n",
    "from sklearn.model_selection import train_test_split\n",
    "from sklearn.preprocessing import MinMaxScaler\n",
    "from torch import nn as nn\n",
    "from torch import optim\n",
    "from torch.utils.data import DataLoader\n",
    "from torch.utils.data import TensorDataset\n",
    "from catalyst.loggers.mlflow import MLflowLogger"
   ]
  },
  {
   "cell_type": "code",
   "execution_count": 2,
   "id": "26d814f6-7f72-4f42-8f2a-9030f4defca4",
   "metadata": {},
   "outputs": [
    {
     "data": {
      "text/plain": [
       "<torch._C.Generator at 0x7fc490279610>"
      ]
     },
     "execution_count": 2,
     "metadata": {},
     "output_type": "execute_result"
    }
   ],
   "source": [
    "torch.manual_seed(0)\n"
   ]
  },
  {
   "cell_type": "code",
   "execution_count": 3,
   "id": "c4a4f679-7ba0-4dcd-aca6-7e5cd69d1c65",
   "metadata": {},
   "outputs": [],
   "source": [
    "iris = datasets.load_iris()\n",
    "iris_input_dataset = iris['data']\n",
    "target = torch.from_numpy(iris['target'])\n"
   ]
  },
  {
   "cell_type": "code",
   "execution_count": 4,
   "id": "782864ec-6f1b-44eb-bb19-68f8b59014e2",
   "metadata": {},
   "outputs": [],
   "source": [
    "scaler = MinMaxScaler()\n",
    "scaler.fit(iris_input_dataset)\n",
    "iris_input_dataset = torch.from_numpy(scaler.transform(iris_input_dataset)).float()"
   ]
  },
  {
   "cell_type": "code",
   "execution_count": 5,
   "id": "dc05d5fc-92a6-46a8-8b72-dc02d9e17271",
   "metadata": {},
   "outputs": [],
   "source": [
    "X_train, X_test, y_train, y_test = train_test_split(iris_input_dataset, target, test_size=0.33, random_state=42)"
   ]
  },
  {
   "cell_type": "code",
   "execution_count": 6,
   "id": "2e129cf6-6fd2-4759-b58b-0106b61dbb8d",
   "metadata": {},
   "outputs": [],
   "source": [
    "training_dataset = TensorDataset(X_train, y_train)\n",
    "validation_dataset = TensorDataset(X_test, y_test)\n",
    "train_loader = DataLoader(training_dataset, batch_size=10, num_workers=1)\n",
    "valid_loader = DataLoader(validation_dataset, batch_size=10, num_workers=1)\n",
    "loaders = {\"train\": train_loader, \"valid\": valid_loader}"
   ]
  },
  {
   "cell_type": "code",
   "execution_count": 7,
   "id": "9a48d42c-771f-4605-aef4-b60c2d15e8a3",
   "metadata": {},
   "outputs": [],
   "source": [
    "criterion = nn.CrossEntropyLoss()\n"
   ]
  },
  {
   "cell_type": "code",
   "execution_count": 8,
   "id": "f720541c-0771-49c6-b020-a789eb2a82cd",
   "metadata": {},
   "outputs": [],
   "source": [
    "runner = dl.SupervisedRunner(\n",
    "    input_key=\"features\", output_key=\"logits\", target_key=\"targets\", loss_key=\"loss\"\n",
    ")\n"
   ]
  },
  {
   "cell_type": "code",
   "execution_count": 9,
   "id": "2f21120a-4531-49aa-ad27-1ca6522d1e56",
   "metadata": {},
   "outputs": [],
   "source": [
    "def get_random_configurations(number_of_configurations, rng):\n",
    "    layer_configurations = []\n",
    "    for _ in range(number_of_configurations):\n",
    "        layer_configuration = []\n",
    "        number_of_hidden_layers = rng.randint(low=1, high=6)\n",
    "        for _ in range(number_of_hidden_layers):\n",
    "            layer_configuration.append(rng.randint(low=2, high=100))\n",
    "        layer_configurations.append(layer_configuration)\n",
    "    return layer_configurations\n",
    "rng = np.random.RandomState(1234)\n",
    "number_of_configurations = 20\n",
    "layer_configurations = get_random_configurations(number_of_configurations, rng)\n"
   ]
  },
  {
   "cell_type": "code",
   "execution_count": 10,
   "id": "4c287263-beea-43fa-ab63-adbb76aed5c5",
   "metadata": {},
   "outputs": [
    {
     "data": {
      "text/plain": [
       "[[40, 55, 78, 26],\n",
       " [17, 51],\n",
       " [28, 32],\n",
       " [32, 28, 60, 94],\n",
       " [75],\n",
       " [78, 39, 36],\n",
       " [69, 13, 2],\n",
       " [77, 82],\n",
       " [4, 21, 14, 67],\n",
       " [83, 16, 73, 62],\n",
       " [48, 30, 83],\n",
       " [98, 14, 71, 97, 33],\n",
       " [91, 86],\n",
       " [43],\n",
       " [58],\n",
       " [72, 58, 88, 46, 92],\n",
       " [49, 51, 20, 87],\n",
       " [39, 40, 9],\n",
       " [69, 7, 49, 49, 17],\n",
       " [12, 30, 6]]"
      ]
     },
     "execution_count": 10,
     "metadata": {},
     "output_type": "execute_result"
    }
   ],
   "source": [
    "layer_configurations"
   ]
  },
  {
   "cell_type": "code",
   "execution_count": 11,
   "id": "98401c40-6d20-4e85-8536-98a3dfd0a93e",
   "metadata": {},
   "outputs": [],
   "source": [
    "class MLP(nn.Module):\n",
    "    def __init__(self, input_layer_size, output_layer_size, layer_configuration, activation_type='relu'):\n",
    "        super(MLP, self).__init__()\n",
    "        self.fully_connected_layers = nn.ModuleDict()\n",
    "        self.activation_type = activation_type\n",
    "        hidden_layer_number = 0\n",
    "        for hidden_layer_idx in range(len(layer_configuration)):\n",
    "            if hidden_layer_idx == 0:\n",
    "                self.fully_connected_layers[str(hidden_layer_number)] = nn.Linear(\n",
    "                    input_layer_size, layer_configuration[hidden_layer_idx]\n",
    "                )\n",
    "                hidden_layer_number += 1\n",
    "            if hidden_layer_idx == len(layer_configuration) - 1:\n",
    "                self.fully_connected_layers[str(hidden_layer_number)] = nn.Linear(\n",
    "                    layer_configuration[hidden_layer_idx],\n",
    "                    output_layer_size\n",
    "                )\n",
    "            else:\n",
    "                self.fully_connected_layers[str(hidden_layer_number)] = nn.Linear(\n",
    "                    layer_configuration[hidden_layer_idx],\n",
    "                    layer_configuration[hidden_layer_idx+1]\n",
    "                )\n",
    "                hidden_layer_number += 1\n",
    "    def forward(self, x):\n",
    "        for fc_key in self.fully_connected_layers:\n",
    "            x = self.fully_connected_layers[fc_key](x)\n",
    "            if fc_key != str(len(self.fully_connected_layers) -1):\n",
    "                x = F.relu(x)\n",
    "            else:\n",
    "                x = F.softmax(x)\n",
    "        return x"
   ]
  },
  {
   "cell_type": "code",
   "execution_count": 19,
   "id": "9f12bcf1-5d10-4698-994a-5c2aaca71ca2",
   "metadata": {},
   "outputs": [],
   "source": [
    "def train_and_evaluate_mlp(trial_number, layer_configuration, epochs):\n",
    "    model = MLP(\n",
    "        input_layer_size=iris_input_dataset.shape[1],\n",
    "        layer_configuration=layer_configuration,\n",
    "        output_layer_size=len(np.unique(target))\n",
    "    )\n",
    "    optimizer = optim.Adam(model.parameters(), lr=0.02)\n",
    "    checkpoint_logdir = \"experiments\"\n",
    "    loggers = {\"mlflow\": MLflowLogger(experiment=\"test_exp\", run=\"test_run\")}\n",
    "    runner.train(\n",
    "        model=model,\n",
    "        hparams={},\n",
    "        criterion=criterion,\n",
    "        optimizer=optimizer,\n",
    "        loaders=loaders,\n",
    "        num_epochs=epochs,\n",
    "        callbacks=[\n",
    "            dl.CheckpointCallback(\n",
    "                logdir=checkpoint_logdir,\n",
    "                loader_key=\"valid\",\n",
    "                metric_key=\"loss\",\n",
    "                mode=\"model\",\n",
    "            )\n",
    "        ],\n",
    "        logdir=\"./logs\",\n",
    "        valid_loader=\"valid\",\n",
    "        valid_metric=\"loss\",\n",
    "        minimize_valid_metric=True,\n",
    "        verbose=True,\n",
    "        loggers=loggers,\n",
    "    )\n",
    "    "
   ]
  },
  {
   "cell_type": "code",
   "execution_count": 20,
   "id": "9cf336c8-7ce3-4f8e-b359-3c7bb6ec77be",
   "metadata": {},
   "outputs": [
    {
     "data": {
      "application/vnd.jupyter.widget-view+json": {
       "model_id": "afe64439651c4089a9deb5d763c19a5d",
       "version_major": 2,
       "version_minor": 0
      },
      "text/plain": [
       "1/10 * Epoch (train):   0%|          | 0/10 [00:00<?, ?it/s]"
      ]
     },
     "metadata": {},
     "output_type": "display_data"
    },
    {
     "name": "stdout",
     "output_type": "stream",
     "text": [
      "train (1/10) loss: 0.9763587355613709 | loss/mean: 0.9763587355613709 | loss/std: 0.10698749295865581 | lr: 0.02 | momentum: 0.9\n"
     ]
    },
    {
     "name": "stderr",
     "output_type": "stream",
     "text": [
      "/tmp/ipykernel_9708/182905000.py:30: UserWarning: Implicit dimension choice for softmax has been deprecated. Change the call to include dim=X as an argument.\n",
      "  x = F.softmax(x)\n"
     ]
    },
    {
     "data": {
      "application/vnd.jupyter.widget-view+json": {
       "model_id": "f3df2a6ffec54821a1b2f3aa41279beb",
       "version_major": 2,
       "version_minor": 0
      },
      "text/plain": [
       "1/10 * Epoch (valid):   0%|          | 0/5 [00:00<?, ?it/s]"
      ]
     },
     "metadata": {},
     "output_type": "display_data"
    },
    {
     "name": "stdout",
     "output_type": "stream",
     "text": [
      "valid (1/10) loss: 0.8250154256820679 | loss/mean: 0.8250154256820679 | loss/std: 0.16391473347218385 | lr: 0.02 | momentum: 0.9\n",
      "* Epoch (1/10) \n"
     ]
    },
    {
     "data": {
      "application/vnd.jupyter.widget-view+json": {
       "model_id": "ed09fb710d474e2786d03a459a299765",
       "version_major": 2,
       "version_minor": 0
      },
      "text/plain": [
       "2/10 * Epoch (train):   0%|          | 0/10 [00:00<?, ?it/s]"
      ]
     },
     "metadata": {},
     "output_type": "display_data"
    },
    {
     "name": "stdout",
     "output_type": "stream",
     "text": [
      "train (2/10) loss: 0.8309035420417785 | loss/mean: 0.8309035420417785 | loss/std: 0.052162993541782096 | lr: 0.02 | momentum: 0.9\n"
     ]
    },
    {
     "data": {
      "application/vnd.jupyter.widget-view+json": {
       "model_id": "78a4165523e640c7ae73d7a54789040c",
       "version_major": 2,
       "version_minor": 0
      },
      "text/plain": [
       "2/10 * Epoch (valid):   0%|          | 0/5 [00:00<?, ?it/s]"
      ]
     },
     "metadata": {},
     "output_type": "display_data"
    },
    {
     "name": "stdout",
     "output_type": "stream",
     "text": [
      "valid (2/10) loss: 0.7209554195404053 | loss/mean: 0.7209554195404053 | loss/std: 0.1017836446791273 | lr: 0.02 | momentum: 0.9\n",
      "* Epoch (2/10) \n"
     ]
    },
    {
     "data": {
      "application/vnd.jupyter.widget-view+json": {
       "model_id": "89f059d782aa46148aa4a28698f43866",
       "version_major": 2,
       "version_minor": 0
      },
      "text/plain": [
       "3/10 * Epoch (train):   0%|          | 0/10 [00:00<?, ?it/s]"
      ]
     },
     "metadata": {},
     "output_type": "display_data"
    },
    {
     "name": "stdout",
     "output_type": "stream",
     "text": [
      "train (3/10) loss: 0.6848497748374939 | loss/mean: 0.6848497748374939 | loss/std: 0.06544799680030126 | lr: 0.02 | momentum: 0.9\n"
     ]
    },
    {
     "data": {
      "application/vnd.jupyter.widget-view+json": {
       "model_id": "a6be7bb95aef4e18bcca1777c6fe797c",
       "version_major": 2,
       "version_minor": 0
      },
      "text/plain": [
       "3/10 * Epoch (valid):   0%|          | 0/5 [00:00<?, ?it/s]"
      ]
     },
     "metadata": {},
     "output_type": "display_data"
    },
    {
     "name": "stdout",
     "output_type": "stream",
     "text": [
      "valid (3/10) loss: 0.6308364272117615 | loss/mean: 0.6308364272117615 | loss/std: 0.09735562563329393 | lr: 0.02 | momentum: 0.9\n",
      "* Epoch (3/10) \n"
     ]
    },
    {
     "data": {
      "application/vnd.jupyter.widget-view+json": {
       "model_id": "5daccd478b03445a8cc3a673504afd0f",
       "version_major": 2,
       "version_minor": 0
      },
      "text/plain": [
       "4/10 * Epoch (train):   0%|          | 0/10 [00:00<?, ?it/s]"
      ]
     },
     "metadata": {},
     "output_type": "display_data"
    },
    {
     "name": "stdout",
     "output_type": "stream",
     "text": [
      "train (4/10) loss: 0.6097493290901184 | loss/mean: 0.6097493290901184 | loss/std: 0.04802303781303631 | lr: 0.02 | momentum: 0.9\n"
     ]
    },
    {
     "data": {
      "application/vnd.jupyter.widget-view+json": {
       "model_id": "7ffeae63d9e442be8ea46b033b70a27f",
       "version_major": 2,
       "version_minor": 0
      },
      "text/plain": [
       "4/10 * Epoch (valid):   0%|          | 0/5 [00:00<?, ?it/s]"
      ]
     },
     "metadata": {},
     "output_type": "display_data"
    },
    {
     "name": "stdout",
     "output_type": "stream",
     "text": [
      "valid (4/10) loss: 0.5809637427330017 | loss/mean: 0.5809637427330017 | loss/std: 0.032753960076642406 | lr: 0.02 | momentum: 0.9\n",
      "* Epoch (4/10) \n"
     ]
    },
    {
     "data": {
      "application/vnd.jupyter.widget-view+json": {
       "model_id": "53ddc1df24e24deb8534ceaba4652a93",
       "version_major": 2,
       "version_minor": 0
      },
      "text/plain": [
       "5/10 * Epoch (train):   0%|          | 0/10 [00:00<?, ?it/s]"
      ]
     },
     "metadata": {},
     "output_type": "display_data"
    },
    {
     "name": "stdout",
     "output_type": "stream",
     "text": [
      "train (5/10) loss: 0.5977155685424805 | loss/mean: 0.5977155685424805 | loss/std: 0.05929471200170352 | lr: 0.02 | momentum: 0.9\n"
     ]
    },
    {
     "data": {
      "application/vnd.jupyter.widget-view+json": {
       "model_id": "16596f16067c42e899d2c17deb144884",
       "version_major": 2,
       "version_minor": 0
      },
      "text/plain": [
       "5/10 * Epoch (valid):   0%|          | 0/5 [00:00<?, ?it/s]"
      ]
     },
     "metadata": {},
     "output_type": "display_data"
    },
    {
     "name": "stdout",
     "output_type": "stream",
     "text": [
      "valid (5/10) loss: 0.5792567729949951 | loss/mean: 0.5792567729949951 | loss/std: 0.05491537185595135 | lr: 0.02 | momentum: 0.9\n",
      "* Epoch (5/10) \n"
     ]
    },
    {
     "data": {
      "application/vnd.jupyter.widget-view+json": {
       "model_id": "099241154cde4f82aa8948da6f553029",
       "version_major": 2,
       "version_minor": 0
      },
      "text/plain": [
       "6/10 * Epoch (train):   0%|          | 0/10 [00:00<?, ?it/s]"
      ]
     },
     "metadata": {},
     "output_type": "display_data"
    },
    {
     "name": "stdout",
     "output_type": "stream",
     "text": [
      "train (6/10) loss: 0.6045595943927765 | loss/mean: 0.6045595943927765 | loss/std: 0.0715774841119495 | lr: 0.02 | momentum: 0.9\n"
     ]
    },
    {
     "data": {
      "application/vnd.jupyter.widget-view+json": {
       "model_id": "b1cab49531044adf8c4aaecbd5cb56dc",
       "version_major": 2,
       "version_minor": 0
      },
      "text/plain": [
       "6/10 * Epoch (valid):   0%|          | 0/5 [00:00<?, ?it/s]"
      ]
     },
     "metadata": {},
     "output_type": "display_data"
    },
    {
     "name": "stdout",
     "output_type": "stream",
     "text": [
      "valid (6/10) loss: 0.6194616436958313 | loss/mean: 0.6194616436958313 | loss/std: 0.10882204798276765 | lr: 0.02 | momentum: 0.9\n",
      "* Epoch (6/10) \n"
     ]
    },
    {
     "data": {
      "application/vnd.jupyter.widget-view+json": {
       "model_id": "a898fc66a6f44bacaa3b69f8badfd055",
       "version_major": 2,
       "version_minor": 0
      },
      "text/plain": [
       "7/10 * Epoch (train):   0%|          | 0/10 [00:00<?, ?it/s]"
      ]
     },
     "metadata": {},
     "output_type": "display_data"
    },
    {
     "name": "stdout",
     "output_type": "stream",
     "text": [
      "train (7/10) loss: 0.6622497320175171 | loss/mean: 0.6622497320175171 | loss/std: 0.10094008398271737 | lr: 0.02 | momentum: 0.9\n"
     ]
    },
    {
     "data": {
      "application/vnd.jupyter.widget-view+json": {
       "model_id": "3c04403324334b669173eda18f3914b7",
       "version_major": 2,
       "version_minor": 0
      },
      "text/plain": [
       "7/10 * Epoch (valid):   0%|          | 0/5 [00:00<?, ?it/s]"
      ]
     },
     "metadata": {},
     "output_type": "display_data"
    },
    {
     "name": "stdout",
     "output_type": "stream",
     "text": [
      "valid (7/10) loss: 0.5881604313850403 | loss/mean: 0.5881604313850403 | loss/std: 0.0705725045777221 | lr: 0.02 | momentum: 0.9\n",
      "* Epoch (7/10) \n"
     ]
    },
    {
     "data": {
      "application/vnd.jupyter.widget-view+json": {
       "model_id": "5b642cb1cf644a0d95e4b42a4ea9c0eb",
       "version_major": 2,
       "version_minor": 0
      },
      "text/plain": [
       "8/10 * Epoch (train):   0%|          | 0/10 [00:00<?, ?it/s]"
      ]
     },
     "metadata": {},
     "output_type": "display_data"
    },
    {
     "name": "stdout",
     "output_type": "stream",
     "text": [
      "train (8/10) loss: 0.6465096473693848 | loss/mean: 0.6465096473693848 | loss/std: 0.08383822521607946 | lr: 0.02 | momentum: 0.9\n"
     ]
    },
    {
     "data": {
      "application/vnd.jupyter.widget-view+json": {
       "model_id": "7cbafe8e97e34c9eb6ac6f6427775b29",
       "version_major": 2,
       "version_minor": 0
      },
      "text/plain": [
       "8/10 * Epoch (valid):   0%|          | 0/5 [00:00<?, ?it/s]"
      ]
     },
     "metadata": {},
     "output_type": "display_data"
    },
    {
     "name": "stdout",
     "output_type": "stream",
     "text": [
      "valid (8/10) loss: 0.742832624912262 | loss/mean: 0.742832624912262 | loss/std: 0.12064413076579106 | lr: 0.02 | momentum: 0.9\n",
      "* Epoch (8/10) \n"
     ]
    },
    {
     "data": {
      "application/vnd.jupyter.widget-view+json": {
       "model_id": "3d05a4c06aea4f939bc80766f89cb99a",
       "version_major": 2,
       "version_minor": 0
      },
      "text/plain": [
       "9/10 * Epoch (train):   0%|          | 0/10 [00:00<?, ?it/s]"
      ]
     },
     "metadata": {},
     "output_type": "display_data"
    },
    {
     "name": "stdout",
     "output_type": "stream",
     "text": [
      "train (9/10) loss: 0.833983963727951 | loss/mean: 0.833983963727951 | loss/std: 0.11220593547083615 | lr: 0.02 | momentum: 0.9\n"
     ]
    },
    {
     "data": {
      "application/vnd.jupyter.widget-view+json": {
       "model_id": "1dd2c44dbc6d41709f12c76932486645",
       "version_major": 2,
       "version_minor": 0
      },
      "text/plain": [
       "9/10 * Epoch (valid):   0%|          | 0/5 [00:00<?, ?it/s]"
      ]
     },
     "metadata": {},
     "output_type": "display_data"
    },
    {
     "name": "stdout",
     "output_type": "stream",
     "text": [
      "valid (9/10) loss: 0.8477526664733886 | loss/mean: 0.8477526664733886 | loss/std: 0.20029038023759912 | lr: 0.02 | momentum: 0.9\n",
      "* Epoch (9/10) \n"
     ]
    },
    {
     "data": {
      "application/vnd.jupyter.widget-view+json": {
       "model_id": "e76692c5449f4843b656008675be82ab",
       "version_major": 2,
       "version_minor": 0
      },
      "text/plain": [
       "10/10 * Epoch (train):   0%|          | 0/10 [00:00<?, ?it/s]"
      ]
     },
     "metadata": {},
     "output_type": "display_data"
    },
    {
     "name": "stdout",
     "output_type": "stream",
     "text": [
      "train (10/10) loss: 0.7579654633998871 | loss/mean: 0.7579654633998871 | loss/std: 0.10104050953189324 | lr: 0.02 | momentum: 0.9\n"
     ]
    },
    {
     "data": {
      "application/vnd.jupyter.widget-view+json": {
       "model_id": "67e2df9aea394e39897646bec65cef15",
       "version_major": 2,
       "version_minor": 0
      },
      "text/plain": [
       "10/10 * Epoch (valid):   0%|          | 0/5 [00:00<?, ?it/s]"
      ]
     },
     "metadata": {},
     "output_type": "display_data"
    },
    {
     "name": "stdout",
     "output_type": "stream",
     "text": [
      "valid (10/10) loss: 0.5768581032752991 | loss/mean: 0.5768581032752991 | loss/std: 0.03883448536461268 | lr: 0.02 | momentum: 0.9\n",
      "* Epoch (10/10) \n",
      "Top models:\n",
      "experiments/model.0010.pth\t10.0000\n"
     ]
    },
    {
     "data": {
      "application/vnd.jupyter.widget-view+json": {
       "model_id": "a30993bf9fb04497bd14a3b5a1bc77ba",
       "version_major": 2,
       "version_minor": 0
      },
      "text/plain": [
       "1/10 * Epoch (train):   0%|          | 0/10 [00:00<?, ?it/s]"
      ]
     },
     "metadata": {},
     "output_type": "display_data"
    },
    {
     "name": "stdout",
     "output_type": "stream",
     "text": [
      "train (1/10) loss: 1.023148202896118 | loss/mean: 1.023148202896118 | loss/std: 0.06618131752602993 | lr: 0.02 | momentum: 0.9\n"
     ]
    },
    {
     "data": {
      "application/vnd.jupyter.widget-view+json": {
       "model_id": "14e93d1c228b4be58f57436533a79e1f",
       "version_major": 2,
       "version_minor": 0
      },
      "text/plain": [
       "1/10 * Epoch (valid):   0%|          | 0/5 [00:00<?, ?it/s]"
      ]
     },
     "metadata": {},
     "output_type": "display_data"
    },
    {
     "name": "stdout",
     "output_type": "stream",
     "text": [
      "valid (1/10) loss: 0.8612443208694458 | loss/mean: 0.8612443208694458 | loss/std: 0.09836935240023859 | lr: 0.02 | momentum: 0.9\n",
      "* Epoch (1/10) \n"
     ]
    },
    {
     "data": {
      "application/vnd.jupyter.widget-view+json": {
       "model_id": "ae248bc7b21847b39a806afc03f72ac3",
       "version_major": 2,
       "version_minor": 0
      },
      "text/plain": [
       "2/10 * Epoch (train):   0%|          | 0/10 [00:00<?, ?it/s]"
      ]
     },
     "metadata": {},
     "output_type": "display_data"
    },
    {
     "name": "stdout",
     "output_type": "stream",
     "text": [
      "train (2/10) loss: 0.8191352605819703 | loss/mean: 0.8191352605819703 | loss/std: 0.055280853581671424 | lr: 0.02 | momentum: 0.9\n"
     ]
    },
    {
     "data": {
      "application/vnd.jupyter.widget-view+json": {
       "model_id": "9a6a959299a843c6aae35e9d8e6cc073",
       "version_major": 2,
       "version_minor": 0
      },
      "text/plain": [
       "2/10 * Epoch (valid):   0%|          | 0/5 [00:00<?, ?it/s]"
      ]
     },
     "metadata": {},
     "output_type": "display_data"
    },
    {
     "name": "stdout",
     "output_type": "stream",
     "text": [
      "valid (2/10) loss: 0.7266236901283264 | loss/mean: 0.7266236901283264 | loss/std: 0.08132020652370874 | lr: 0.02 | momentum: 0.9\n",
      "* Epoch (2/10) \n"
     ]
    },
    {
     "data": {
      "application/vnd.jupyter.widget-view+json": {
       "model_id": "5ab952e357fb422f9bb43f1cc30d1294",
       "version_major": 2,
       "version_minor": 0
      },
      "text/plain": [
       "3/10 * Epoch (train):   0%|          | 0/10 [00:00<?, ?it/s]"
      ]
     },
     "metadata": {},
     "output_type": "display_data"
    },
    {
     "name": "stdout",
     "output_type": "stream",
     "text": [
      "train (3/10) loss: 0.6960615575313569 | loss/mean: 0.6960615575313569 | loss/std: 0.04016607148480381 | lr: 0.02 | momentum: 0.9\n"
     ]
    },
    {
     "data": {
      "application/vnd.jupyter.widget-view+json": {
       "model_id": "5c3b8cd69a1c49038b11e3c80a2ac956",
       "version_major": 2,
       "version_minor": 0
      },
      "text/plain": [
       "3/10 * Epoch (valid):   0%|          | 0/5 [00:00<?, ?it/s]"
      ]
     },
     "metadata": {},
     "output_type": "display_data"
    },
    {
     "name": "stdout",
     "output_type": "stream",
     "text": [
      "valid (3/10) loss: 0.6338885426521301 | loss/mean: 0.6338885426521301 | loss/std: 0.054965639549353615 | lr: 0.02 | momentum: 0.9\n",
      "* Epoch (3/10) \n"
     ]
    },
    {
     "data": {
      "application/vnd.jupyter.widget-view+json": {
       "model_id": "335e818066524e98b77bcf11cb421b44",
       "version_major": 2,
       "version_minor": 0
      },
      "text/plain": [
       "4/10 * Epoch (train):   0%|          | 0/10 [00:00<?, ?it/s]"
      ]
     },
     "metadata": {},
     "output_type": "display_data"
    },
    {
     "name": "stdout",
     "output_type": "stream",
     "text": [
      "train (4/10) loss: 0.6212317526340484 | loss/mean: 0.6212317526340484 | loss/std: 0.035694471591532724 | lr: 0.02 | momentum: 0.9\n"
     ]
    },
    {
     "data": {
      "application/vnd.jupyter.widget-view+json": {
       "model_id": "8a38b7e49fdb44ec8e04831a12d6a74b",
       "version_major": 2,
       "version_minor": 0
      },
      "text/plain": [
       "4/10 * Epoch (valid):   0%|          | 0/5 [00:00<?, ?it/s]"
      ]
     },
     "metadata": {},
     "output_type": "display_data"
    },
    {
     "name": "stdout",
     "output_type": "stream",
     "text": [
      "valid (4/10) loss: 0.6113190174102783 | loss/mean: 0.6113190174102783 | loss/std: 0.06498100673483749 | lr: 0.02 | momentum: 0.9\n",
      "* Epoch (4/10) \n"
     ]
    },
    {
     "data": {
      "application/vnd.jupyter.widget-view+json": {
       "model_id": "4514f8fbaaf2440da75e85511e213677",
       "version_major": 2,
       "version_minor": 0
      },
      "text/plain": [
       "5/10 * Epoch (train):   0%|          | 0/10 [00:00<?, ?it/s]"
      ]
     },
     "metadata": {},
     "output_type": "display_data"
    },
    {
     "name": "stdout",
     "output_type": "stream",
     "text": [
      "train (5/10) loss: 0.6049151539802551 | loss/mean: 0.6049151539802551 | loss/std: 0.0429654991260232 | lr: 0.02 | momentum: 0.9\n"
     ]
    },
    {
     "data": {
      "application/vnd.jupyter.widget-view+json": {
       "model_id": "eea19d6e47a643d5a6d30c7f28cce2a9",
       "version_major": 2,
       "version_minor": 0
      },
      "text/plain": [
       "5/10 * Epoch (valid):   0%|          | 0/5 [00:00<?, ?it/s]"
      ]
     },
     "metadata": {},
     "output_type": "display_data"
    },
    {
     "name": "stdout",
     "output_type": "stream",
     "text": [
      "valid (5/10) loss: 0.612663185596466 | loss/mean: 0.612663185596466 | loss/std: 0.07509904054264936 | lr: 0.02 | momentum: 0.9\n",
      "* Epoch (5/10) \n"
     ]
    },
    {
     "data": {
      "application/vnd.jupyter.widget-view+json": {
       "model_id": "0ca4892afcee47728464d716debf1c75",
       "version_major": 2,
       "version_minor": 0
      },
      "text/plain": [
       "6/10 * Epoch (train):   0%|          | 0/10 [00:00<?, ?it/s]"
      ]
     },
     "metadata": {},
     "output_type": "display_data"
    },
    {
     "name": "stdout",
     "output_type": "stream",
     "text": [
      "train (6/10) loss: 0.6255345821380615 | loss/mean: 0.6255345821380615 | loss/std: 0.06267037559139985 | lr: 0.02 | momentum: 0.9\n"
     ]
    },
    {
     "data": {
      "application/vnd.jupyter.widget-view+json": {
       "model_id": "80167e2109da440faf5e9d1531df3091",
       "version_major": 2,
       "version_minor": 0
      },
      "text/plain": [
       "6/10 * Epoch (valid):   0%|          | 0/5 [00:00<?, ?it/s]"
      ]
     },
     "metadata": {},
     "output_type": "display_data"
    },
    {
     "name": "stdout",
     "output_type": "stream",
     "text": [
      "valid (6/10) loss: 0.6341090679168702 | loss/mean: 0.6341090679168702 | loss/std: 0.08783070643409521 | lr: 0.02 | momentum: 0.9\n",
      "* Epoch (6/10) \n"
     ]
    },
    {
     "data": {
      "application/vnd.jupyter.widget-view+json": {
       "model_id": "8baedd865fb6474f84af684a38eafd73",
       "version_major": 2,
       "version_minor": 0
      },
      "text/plain": [
       "7/10 * Epoch (train):   0%|          | 0/10 [00:00<?, ?it/s]"
      ]
     },
     "metadata": {},
     "output_type": "display_data"
    },
    {
     "name": "stdout",
     "output_type": "stream",
     "text": [
      "train (7/10) loss: 0.6523970305919646 | loss/mean: 0.6523970305919646 | loss/std: 0.06705678775369037 | lr: 0.02 | momentum: 0.9\n"
     ]
    },
    {
     "data": {
      "application/vnd.jupyter.widget-view+json": {
       "model_id": "bc152641cdfc438c9e93346bc35aa788",
       "version_major": 2,
       "version_minor": 0
      },
      "text/plain": [
       "7/10 * Epoch (valid):   0%|          | 0/5 [00:00<?, ?it/s]"
      ]
     },
     "metadata": {},
     "output_type": "display_data"
    },
    {
     "name": "stdout",
     "output_type": "stream",
     "text": [
      "valid (7/10) loss: 0.6019370317459106 | loss/mean: 0.6019370317459106 | loss/std: 0.043033990488841795 | lr: 0.02 | momentum: 0.9\n",
      "* Epoch (7/10) \n"
     ]
    },
    {
     "data": {
      "application/vnd.jupyter.widget-view+json": {
       "model_id": "1def9328db3d4d9ea922272611fe9333",
       "version_major": 2,
       "version_minor": 0
      },
      "text/plain": [
       "8/10 * Epoch (train):   0%|          | 0/10 [00:00<?, ?it/s]"
      ]
     },
     "metadata": {},
     "output_type": "display_data"
    },
    {
     "name": "stdout",
     "output_type": "stream",
     "text": [
      "train (8/10) loss: 0.6002037048339844 | loss/mean: 0.6002037048339844 | loss/std: 0.04473723163948611 | lr: 0.02 | momentum: 0.9\n"
     ]
    },
    {
     "data": {
      "application/vnd.jupyter.widget-view+json": {
       "model_id": "ef0baa97491b40b69ce68ea73e3ebffe",
       "version_major": 2,
       "version_minor": 0
      },
      "text/plain": [
       "8/10 * Epoch (valid):   0%|          | 0/5 [00:00<?, ?it/s]"
      ]
     },
     "metadata": {},
     "output_type": "display_data"
    },
    {
     "name": "stdout",
     "output_type": "stream",
     "text": [
      "valid (8/10) loss: 0.5850607395172119 | loss/mean: 0.5850607395172119 | loss/std: 0.03373068103328931 | lr: 0.02 | momentum: 0.9\n",
      "* Epoch (8/10) \n"
     ]
    },
    {
     "data": {
      "application/vnd.jupyter.widget-view+json": {
       "model_id": "8c4ad49b7c2d4193a32a84f381513e2e",
       "version_major": 2,
       "version_minor": 0
      },
      "text/plain": [
       "9/10 * Epoch (train):   0%|          | 0/10 [00:00<?, ?it/s]"
      ]
     },
     "metadata": {},
     "output_type": "display_data"
    },
    {
     "name": "stdout",
     "output_type": "stream",
     "text": [
      "train (9/10) loss: 0.5995481789112092 | loss/mean: 0.5995481789112092 | loss/std: 0.053460196453178156 | lr: 0.02 | momentum: 0.9\n"
     ]
    },
    {
     "data": {
      "application/vnd.jupyter.widget-view+json": {
       "model_id": "7e141ba5cc694ade88cc830a0e126629",
       "version_major": 2,
       "version_minor": 0
      },
      "text/plain": [
       "9/10 * Epoch (valid):   0%|          | 0/5 [00:00<?, ?it/s]"
      ]
     },
     "metadata": {},
     "output_type": "display_data"
    },
    {
     "name": "stdout",
     "output_type": "stream",
     "text": [
      "valid (9/10) loss: 0.5854417443275451 | loss/mean: 0.5854417443275451 | loss/std: 0.03361002599030699 | lr: 0.02 | momentum: 0.9\n",
      "* Epoch (9/10) \n"
     ]
    },
    {
     "data": {
      "application/vnd.jupyter.widget-view+json": {
       "model_id": "e5c28fdce3ae4b99894f0b3aab9a77f7",
       "version_major": 2,
       "version_minor": 0
      },
      "text/plain": [
       "10/10 * Epoch (train):   0%|          | 0/10 [00:00<?, ?it/s]"
      ]
     },
     "metadata": {},
     "output_type": "display_data"
    },
    {
     "name": "stdout",
     "output_type": "stream",
     "text": [
      "train (10/10) loss: 0.6018306851387024 | loss/mean: 0.6018306851387024 | loss/std: 0.05862010845514806 | lr: 0.02 | momentum: 0.9\n"
     ]
    },
    {
     "data": {
      "application/vnd.jupyter.widget-view+json": {
       "model_id": "0b75e3d80cbf4bf182658541e0fc7b0f",
       "version_major": 2,
       "version_minor": 0
      },
      "text/plain": [
       "10/10 * Epoch (valid):   0%|          | 0/5 [00:00<?, ?it/s]"
      ]
     },
     "metadata": {},
     "output_type": "display_data"
    },
    {
     "name": "stdout",
     "output_type": "stream",
     "text": [
      "valid (10/10) loss: 0.5876497507095337 | loss/mean: 0.5876497507095337 | loss/std: 0.03387908444959286 | lr: 0.02 | momentum: 0.9\n",
      "* Epoch (10/10) \n",
      "Top models:\n",
      "experiments/model.0010.pth\t10.0000\n"
     ]
    },
    {
     "data": {
      "application/vnd.jupyter.widget-view+json": {
       "model_id": "42d8dbe4dcf8460d929b85499e27ef79",
       "version_major": 2,
       "version_minor": 0
      },
      "text/plain": [
       "1/10 * Epoch (train):   0%|          | 0/10 [00:00<?, ?it/s]"
      ]
     },
     "metadata": {},
     "output_type": "display_data"
    },
    {
     "name": "stdout",
     "output_type": "stream",
     "text": [
      "train (1/10) loss: 1.030384612083435 | loss/mean: 1.030384612083435 | loss/std: 0.05889908995871453 | lr: 0.02 | momentum: 0.9\n"
     ]
    },
    {
     "data": {
      "application/vnd.jupyter.widget-view+json": {
       "model_id": "56b9202e56bf47ab9d2d43de3341f582",
       "version_major": 2,
       "version_minor": 0
      },
      "text/plain": [
       "1/10 * Epoch (valid):   0%|          | 0/5 [00:00<?, ?it/s]"
      ]
     },
     "metadata": {},
     "output_type": "display_data"
    },
    {
     "name": "stdout",
     "output_type": "stream",
     "text": [
      "valid (1/10) loss: 0.889264190196991 | loss/mean: 0.889264190196991 | loss/std: 0.07594285963109668 | lr: 0.02 | momentum: 0.9\n",
      "* Epoch (1/10) \n"
     ]
    },
    {
     "data": {
      "application/vnd.jupyter.widget-view+json": {
       "model_id": "ef80aff2bf6d448d9c920cac67b5846d",
       "version_major": 2,
       "version_minor": 0
      },
      "text/plain": [
       "2/10 * Epoch (train):   0%|          | 0/10 [00:00<?, ?it/s]"
      ]
     },
     "metadata": {},
     "output_type": "display_data"
    },
    {
     "name": "stdout",
     "output_type": "stream",
     "text": [
      "train (2/10) loss: 0.8400177657604218 | loss/mean: 0.8400177657604218 | loss/std: 0.052500551159279533 | lr: 0.02 | momentum: 0.9\n"
     ]
    },
    {
     "data": {
      "application/vnd.jupyter.widget-view+json": {
       "model_id": "dd872435a6cc43b9a5dee2531772031b",
       "version_major": 2,
       "version_minor": 0
      },
      "text/plain": [
       "2/10 * Epoch (valid):   0%|          | 0/5 [00:00<?, ?it/s]"
      ]
     },
     "metadata": {},
     "output_type": "display_data"
    },
    {
     "name": "stdout",
     "output_type": "stream",
     "text": [
      "valid (2/10) loss: 0.7460446357727051 | loss/mean: 0.7460446357727051 | loss/std: 0.08366475475444467 | lr: 0.02 | momentum: 0.9\n",
      "* Epoch (2/10) \n"
     ]
    },
    {
     "data": {
      "application/vnd.jupyter.widget-view+json": {
       "model_id": "476dfcdb78684dd7b8d36320ae6da810",
       "version_major": 2,
       "version_minor": 0
      },
      "text/plain": [
       "3/10 * Epoch (train):   0%|          | 0/10 [00:00<?, ?it/s]"
      ]
     },
     "metadata": {},
     "output_type": "display_data"
    },
    {
     "name": "stdout",
     "output_type": "stream",
     "text": [
      "train (3/10) loss: 0.7301766097545623 | loss/mean: 0.7301766097545623 | loss/std: 0.0377262902326515 | lr: 0.02 | momentum: 0.9\n"
     ]
    },
    {
     "data": {
      "application/vnd.jupyter.widget-view+json": {
       "model_id": "191cb2dcbde94150a74b2aa36b085b81",
       "version_major": 2,
       "version_minor": 0
      },
      "text/plain": [
       "3/10 * Epoch (valid):   0%|          | 0/5 [00:00<?, ?it/s]"
      ]
     },
     "metadata": {},
     "output_type": "display_data"
    },
    {
     "name": "stdout",
     "output_type": "stream",
     "text": [
      "valid (3/10) loss: 0.6593926668167114 | loss/mean: 0.6593926668167114 | loss/std: 0.05148089197151414 | lr: 0.02 | momentum: 0.9\n",
      "* Epoch (3/10) \n"
     ]
    },
    {
     "data": {
      "application/vnd.jupyter.widget-view+json": {
       "model_id": "00fdaf887ec641a1893048f3b8361faa",
       "version_major": 2,
       "version_minor": 0
      },
      "text/plain": [
       "4/10 * Epoch (train):   0%|          | 0/10 [00:00<?, ?it/s]"
      ]
     },
     "metadata": {},
     "output_type": "display_data"
    },
    {
     "name": "stdout",
     "output_type": "stream",
     "text": [
      "train (4/10) loss: 0.6395414531230927 | loss/mean: 0.6395414531230927 | loss/std: 0.031129134425629056 | lr: 0.02 | momentum: 0.9\n"
     ]
    },
    {
     "data": {
      "application/vnd.jupyter.widget-view+json": {
       "model_id": "69db7982feca4da491ad6335522cacda",
       "version_major": 2,
       "version_minor": 0
      },
      "text/plain": [
       "4/10 * Epoch (valid):   0%|          | 0/5 [00:00<?, ?it/s]"
      ]
     },
     "metadata": {},
     "output_type": "display_data"
    },
    {
     "name": "stdout",
     "output_type": "stream",
     "text": [
      "valid (4/10) loss: 0.625333595275879 | loss/mean: 0.625333595275879 | loss/std: 0.06244953207933074 | lr: 0.02 | momentum: 0.9\n",
      "* Epoch (4/10) \n"
     ]
    },
    {
     "data": {
      "application/vnd.jupyter.widget-view+json": {
       "model_id": "b7ce6c231cd34fa9a8617f4f7bf7f899",
       "version_major": 2,
       "version_minor": 0
      },
      "text/plain": [
       "5/10 * Epoch (train):   0%|          | 0/10 [00:00<?, ?it/s]"
      ]
     },
     "metadata": {},
     "output_type": "display_data"
    },
    {
     "name": "stdout",
     "output_type": "stream",
     "text": [
      "train (5/10) loss: 0.6152883589267731 | loss/mean: 0.6152883589267731 | loss/std: 0.0452990633632833 | lr: 0.02 | momentum: 0.9\n"
     ]
    },
    {
     "data": {
      "application/vnd.jupyter.widget-view+json": {
       "model_id": "faf67c5ba0a649a59ae5de0f1e39956f",
       "version_major": 2,
       "version_minor": 0
      },
      "text/plain": [
       "5/10 * Epoch (valid):   0%|          | 0/5 [00:00<?, ?it/s]"
      ]
     },
     "metadata": {},
     "output_type": "display_data"
    },
    {
     "name": "stdout",
     "output_type": "stream",
     "text": [
      "valid (5/10) loss: 0.6267513036727905 | loss/mean: 0.6267513036727905 | loss/std: 0.07499939920080582 | lr: 0.02 | momentum: 0.9\n",
      "* Epoch (5/10) \n"
     ]
    },
    {
     "data": {
      "application/vnd.jupyter.widget-view+json": {
       "model_id": "3972b70febf2443297e22135cb8a5d0e",
       "version_major": 2,
       "version_minor": 0
      },
      "text/plain": [
       "6/10 * Epoch (train):   0%|          | 0/10 [00:00<?, ?it/s]"
      ]
     },
     "metadata": {},
     "output_type": "display_data"
    },
    {
     "name": "stdout",
     "output_type": "stream",
     "text": [
      "train (6/10) loss: 0.6247577369213104 | loss/mean: 0.6247577369213104 | loss/std: 0.05073953318575833 | lr: 0.02 | momentum: 0.9\n"
     ]
    },
    {
     "data": {
      "application/vnd.jupyter.widget-view+json": {
       "model_id": "11dc9f124a944a4b8fd701c115667db5",
       "version_major": 2,
       "version_minor": 0
      },
      "text/plain": [
       "6/10 * Epoch (valid):   0%|          | 0/5 [00:00<?, ?it/s]"
      ]
     },
     "metadata": {},
     "output_type": "display_data"
    },
    {
     "name": "stdout",
     "output_type": "stream",
     "text": [
      "valid (6/10) loss: 0.6290136098861694 | loss/mean: 0.6290136098861694 | loss/std: 0.07837733149168322 | lr: 0.02 | momentum: 0.9\n",
      "* Epoch (6/10) \n"
     ]
    },
    {
     "data": {
      "application/vnd.jupyter.widget-view+json": {
       "model_id": "93beb1bd4a614375b7d704ea70cf091f",
       "version_major": 2,
       "version_minor": 0
      },
      "text/plain": [
       "7/10 * Epoch (train):   0%|          | 0/10 [00:00<?, ?it/s]"
      ]
     },
     "metadata": {},
     "output_type": "display_data"
    },
    {
     "name": "stdout",
     "output_type": "stream",
     "text": [
      "train (7/10) loss: 0.6636632025241852 | loss/mean: 0.6636632025241852 | loss/std: 0.0740274789740619 | lr: 0.02 | momentum: 0.9\n"
     ]
    },
    {
     "data": {
      "application/vnd.jupyter.widget-view+json": {
       "model_id": "b4d2d94527b44dd097dcbf9e6e30e8b5",
       "version_major": 2,
       "version_minor": 0
      },
      "text/plain": [
       "7/10 * Epoch (valid):   0%|          | 0/5 [00:00<?, ?it/s]"
      ]
     },
     "metadata": {},
     "output_type": "display_data"
    },
    {
     "name": "stdout",
     "output_type": "stream",
     "text": [
      "valid (7/10) loss: 0.618508493900299 | loss/mean: 0.618508493900299 | loss/std: 0.06324150470386247 | lr: 0.02 | momentum: 0.9\n",
      "* Epoch (7/10) \n"
     ]
    },
    {
     "data": {
      "application/vnd.jupyter.widget-view+json": {
       "model_id": "58e7dc98a81b4430a86238fce23cb80b",
       "version_major": 2,
       "version_minor": 0
      },
      "text/plain": [
       "8/10 * Epoch (train):   0%|          | 0/10 [00:00<?, ?it/s]"
      ]
     },
     "metadata": {},
     "output_type": "display_data"
    },
    {
     "name": "stdout",
     "output_type": "stream",
     "text": [
      "train (8/10) loss: 0.5954481780529023 | loss/mean: 0.5954481780529023 | loss/std: 0.04243447975954259 | lr: 0.02 | momentum: 0.9\n"
     ]
    },
    {
     "data": {
      "application/vnd.jupyter.widget-view+json": {
       "model_id": "ba8a79c52a914dbb8285c5f6f1d2a21e",
       "version_major": 2,
       "version_minor": 0
      },
      "text/plain": [
       "8/10 * Epoch (valid):   0%|          | 0/5 [00:00<?, ?it/s]"
      ]
     },
     "metadata": {},
     "output_type": "display_data"
    },
    {
     "name": "stdout",
     "output_type": "stream",
     "text": [
      "valid (8/10) loss: 0.5832824349403382 | loss/mean: 0.5832824349403382 | loss/std: 0.041847142169141406 | lr: 0.02 | momentum: 0.9\n",
      "* Epoch (8/10) \n"
     ]
    },
    {
     "data": {
      "application/vnd.jupyter.widget-view+json": {
       "model_id": "73cc1d1941df4f2086a336bb63ab11c4",
       "version_major": 2,
       "version_minor": 0
      },
      "text/plain": [
       "9/10 * Epoch (train):   0%|          | 0/10 [00:00<?, ?it/s]"
      ]
     },
     "metadata": {},
     "output_type": "display_data"
    },
    {
     "name": "stdout",
     "output_type": "stream",
     "text": [
      "train (9/10) loss: 0.6025312185287476 | loss/mean: 0.6025312185287476 | loss/std: 0.05560368050402522 | lr: 0.02 | momentum: 0.9\n"
     ]
    },
    {
     "data": {
      "application/vnd.jupyter.widget-view+json": {
       "model_id": "fdcdc649befe4c4f9de0e93aac980ce9",
       "version_major": 2,
       "version_minor": 0
      },
      "text/plain": [
       "9/10 * Epoch (valid):   0%|          | 0/5 [00:00<?, ?it/s]"
      ]
     },
     "metadata": {},
     "output_type": "display_data"
    },
    {
     "name": "stdout",
     "output_type": "stream",
     "text": [
      "valid (9/10) loss: 0.5835438966751099 | loss/mean: 0.5835438966751099 | loss/std: 0.03130113548181574 | lr: 0.02 | momentum: 0.9\n",
      "* Epoch (9/10) \n"
     ]
    },
    {
     "data": {
      "application/vnd.jupyter.widget-view+json": {
       "model_id": "df6f1e82aba5439fa3339177fd60647a",
       "version_major": 2,
       "version_minor": 0
      },
      "text/plain": [
       "10/10 * Epoch (train):   0%|          | 0/10 [00:00<?, ?it/s]"
      ]
     },
     "metadata": {},
     "output_type": "display_data"
    },
    {
     "name": "stdout",
     "output_type": "stream",
     "text": [
      "train (10/10) loss: 0.6097554326057435 | loss/mean: 0.6097554326057435 | loss/std: 0.06423236040724935 | lr: 0.02 | momentum: 0.9\n"
     ]
    },
    {
     "data": {
      "application/vnd.jupyter.widget-view+json": {
       "model_id": "cc77365202d743f1a8d8aa39bc6877cf",
       "version_major": 2,
       "version_minor": 0
      },
      "text/plain": [
       "10/10 * Epoch (valid):   0%|          | 0/5 [00:00<?, ?it/s]"
      ]
     },
     "metadata": {},
     "output_type": "display_data"
    },
    {
     "name": "stdout",
     "output_type": "stream",
     "text": [
      "valid (10/10) loss: 0.5867594361305237 | loss/mean: 0.5867594361305237 | loss/std: 0.0324077627852769 | lr: 0.02 | momentum: 0.9\n",
      "* Epoch (10/10) \n",
      "Top models:\n",
      "experiments/model.0010.pth\t10.0000\n"
     ]
    },
    {
     "data": {
      "application/vnd.jupyter.widget-view+json": {
       "model_id": "593f7f93ba78424193302b962b2dad65",
       "version_major": 2,
       "version_minor": 0
      },
      "text/plain": [
       "1/10 * Epoch (train):   0%|          | 0/10 [00:00<?, ?it/s]"
      ]
     },
     "metadata": {},
     "output_type": "display_data"
    },
    {
     "name": "stdout",
     "output_type": "stream",
     "text": [
      "train (1/10) loss: 1.0080785036087037 | loss/mean: 1.0080785036087037 | loss/std: 0.08541860751075857 | lr: 0.02 | momentum: 0.9\n"
     ]
    },
    {
     "data": {
      "application/vnd.jupyter.widget-view+json": {
       "model_id": "f6c54930f6914e1892087585cf6b5fdd",
       "version_major": 2,
       "version_minor": 0
      },
      "text/plain": [
       "1/10 * Epoch (valid):   0%|          | 0/5 [00:00<?, ?it/s]"
      ]
     },
     "metadata": {},
     "output_type": "display_data"
    },
    {
     "name": "stdout",
     "output_type": "stream",
     "text": [
      "valid (1/10) loss: 0.7953631639480591 | loss/mean: 0.7953631639480591 | loss/std: 0.07878890729451458 | lr: 0.02 | momentum: 0.9\n",
      "* Epoch (1/10) \n"
     ]
    },
    {
     "data": {
      "application/vnd.jupyter.widget-view+json": {
       "model_id": "0dcbfe04dc134463a52202219370a70a",
       "version_major": 2,
       "version_minor": 0
      },
      "text/plain": [
       "2/10 * Epoch (train):   0%|          | 0/10 [00:00<?, ?it/s]"
      ]
     },
     "metadata": {},
     "output_type": "display_data"
    },
    {
     "name": "stdout",
     "output_type": "stream",
     "text": [
      "train (2/10) loss: 0.818928861618042 | loss/mean: 0.818928861618042 | loss/std: 0.05940525658403836 | lr: 0.02 | momentum: 0.9\n"
     ]
    },
    {
     "data": {
      "application/vnd.jupyter.widget-view+json": {
       "model_id": "33139665c426478abf8713ce6bee6eec",
       "version_major": 2,
       "version_minor": 0
      },
      "text/plain": [
       "2/10 * Epoch (valid):   0%|          | 0/5 [00:00<?, ?it/s]"
      ]
     },
     "metadata": {},
     "output_type": "display_data"
    },
    {
     "name": "stdout",
     "output_type": "stream",
     "text": [
      "valid (2/10) loss: 0.7206320405006409 | loss/mean: 0.7206320405006409 | loss/std: 0.06816991781086404 | lr: 0.02 | momentum: 0.9\n",
      "* Epoch (2/10) \n"
     ]
    },
    {
     "data": {
      "application/vnd.jupyter.widget-view+json": {
       "model_id": "75a7477a2d3c4997b2d21951b6491d42",
       "version_major": 2,
       "version_minor": 0
      },
      "text/plain": [
       "3/10 * Epoch (train):   0%|          | 0/10 [00:00<?, ?it/s]"
      ]
     },
     "metadata": {},
     "output_type": "display_data"
    },
    {
     "name": "stdout",
     "output_type": "stream",
     "text": [
      "train (3/10) loss: 0.7136258780956268 | loss/mean: 0.7136258780956268 | loss/std: 0.07598604328289944 | lr: 0.02 | momentum: 0.9\n"
     ]
    },
    {
     "data": {
      "application/vnd.jupyter.widget-view+json": {
       "model_id": "ec37a6d37e0b4533a69d77e7f66629ba",
       "version_major": 2,
       "version_minor": 0
      },
      "text/plain": [
       "3/10 * Epoch (valid):   0%|          | 0/5 [00:00<?, ?it/s]"
      ]
     },
     "metadata": {},
     "output_type": "display_data"
    },
    {
     "name": "stdout",
     "output_type": "stream",
     "text": [
      "valid (3/10) loss: 0.737908935546875 | loss/mean: 0.737908935546875 | loss/std: 0.12279696938346715 | lr: 0.02 | momentum: 0.9\n",
      "* Epoch (3/10) \n"
     ]
    },
    {
     "data": {
      "application/vnd.jupyter.widget-view+json": {
       "model_id": "9b88d0563102450a94a221807b0c719e",
       "version_major": 2,
       "version_minor": 0
      },
      "text/plain": [
       "4/10 * Epoch (train):   0%|          | 0/10 [00:00<?, ?it/s]"
      ]
     },
     "metadata": {},
     "output_type": "display_data"
    },
    {
     "name": "stdout",
     "output_type": "stream",
     "text": [
      "train (4/10) loss: 0.6147135257720947 | loss/mean: 0.6147135257720947 | loss/std: 0.05736337787150809 | lr: 0.02 | momentum: 0.9\n"
     ]
    },
    {
     "data": {
      "application/vnd.jupyter.widget-view+json": {
       "model_id": "1ee4043b50014d7ba3d0bfba33e409c6",
       "version_major": 2,
       "version_minor": 0
      },
      "text/plain": [
       "4/10 * Epoch (valid):   0%|          | 0/5 [00:00<?, ?it/s]"
      ]
     },
     "metadata": {},
     "output_type": "display_data"
    },
    {
     "name": "stdout",
     "output_type": "stream",
     "text": [
      "valid (4/10) loss: 0.5890608668327332 | loss/mean: 0.5890608668327332 | loss/std: 0.06706301116761898 | lr: 0.02 | momentum: 0.9\n",
      "* Epoch (4/10) \n"
     ]
    },
    {
     "data": {
      "application/vnd.jupyter.widget-view+json": {
       "model_id": "96c963b478a94f8b9a84e4b996abc016",
       "version_major": 2,
       "version_minor": 0
      },
      "text/plain": [
       "5/10 * Epoch (train):   0%|          | 0/10 [00:00<?, ?it/s]"
      ]
     },
     "metadata": {},
     "output_type": "display_data"
    },
    {
     "name": "stdout",
     "output_type": "stream",
     "text": [
      "train (5/10) loss: 0.6178202152252197 | loss/mean: 0.6178202152252197 | loss/std: 0.06974262494715676 | lr: 0.02 | momentum: 0.9\n"
     ]
    },
    {
     "data": {
      "application/vnd.jupyter.widget-view+json": {
       "model_id": "358bea62ed8a4fbb9be8ac1028bb2839",
       "version_major": 2,
       "version_minor": 0
      },
      "text/plain": [
       "5/10 * Epoch (valid):   0%|          | 0/5 [00:00<?, ?it/s]"
      ]
     },
     "metadata": {},
     "output_type": "display_data"
    },
    {
     "name": "stdout",
     "output_type": "stream",
     "text": [
      "valid (5/10) loss: 0.576318621635437 | loss/mean: 0.576318621635437 | loss/std: 0.04698622808515894 | lr: 0.02 | momentum: 0.9\n",
      "* Epoch (5/10) \n"
     ]
    },
    {
     "data": {
      "application/vnd.jupyter.widget-view+json": {
       "model_id": "4677bba3bb4745e2904852e705e12f2e",
       "version_major": 2,
       "version_minor": 0
      },
      "text/plain": [
       "6/10 * Epoch (train):   0%|          | 0/10 [00:00<?, ?it/s]"
      ]
     },
     "metadata": {},
     "output_type": "display_data"
    },
    {
     "name": "stdout",
     "output_type": "stream",
     "text": [
      "train (6/10) loss: 0.6060700893402099 | loss/mean: 0.6060700893402099 | loss/std: 0.06274153273810083 | lr: 0.02 | momentum: 0.9\n"
     ]
    },
    {
     "data": {
      "application/vnd.jupyter.widget-view+json": {
       "model_id": "313eeea9a4bd4d0d945ee62b7abd60f0",
       "version_major": 2,
       "version_minor": 0
      },
      "text/plain": [
       "6/10 * Epoch (valid):   0%|          | 0/5 [00:00<?, ?it/s]"
      ]
     },
     "metadata": {},
     "output_type": "display_data"
    },
    {
     "name": "stdout",
     "output_type": "stream",
     "text": [
      "valid (6/10) loss: 0.576352846622467 | loss/mean: 0.576352846622467 | loss/std: 0.0494511550218018 | lr: 0.02 | momentum: 0.9\n",
      "* Epoch (6/10) \n"
     ]
    },
    {
     "data": {
      "application/vnd.jupyter.widget-view+json": {
       "model_id": "3fa54316db844bc2b00b20d0c2a0d7da",
       "version_major": 2,
       "version_minor": 0
      },
      "text/plain": [
       "7/10 * Epoch (train):   0%|          | 0/10 [00:00<?, ?it/s]"
      ]
     },
     "metadata": {},
     "output_type": "display_data"
    },
    {
     "name": "stdout",
     "output_type": "stream",
     "text": [
      "train (7/10) loss: 0.7374445855617523 | loss/mean: 0.7374445855617523 | loss/std: 0.1294084774262543 | lr: 0.02 | momentum: 0.9\n"
     ]
    },
    {
     "data": {
      "application/vnd.jupyter.widget-view+json": {
       "model_id": "88a5978d952548819c4c825c90a74f7c",
       "version_major": 2,
       "version_minor": 0
      },
      "text/plain": [
       "7/10 * Epoch (valid):   0%|          | 0/5 [00:00<?, ?it/s]"
      ]
     },
     "metadata": {},
     "output_type": "display_data"
    },
    {
     "name": "stdout",
     "output_type": "stream",
     "text": [
      "valid (7/10) loss: 0.5788604497909546 | loss/mean: 0.5788604497909546 | loss/std: 0.038373300763406046 | lr: 0.02 | momentum: 0.9\n",
      "* Epoch (7/10) \n"
     ]
    },
    {
     "data": {
      "application/vnd.jupyter.widget-view+json": {
       "model_id": "d5eb2fb0c59640c9aa66eba3fe61f745",
       "version_major": 2,
       "version_minor": 0
      },
      "text/plain": [
       "8/10 * Epoch (train):   0%|          | 0/10 [00:00<?, ?it/s]"
      ]
     },
     "metadata": {},
     "output_type": "display_data"
    },
    {
     "name": "stdout",
     "output_type": "stream",
     "text": [
      "train (8/10) loss: 0.7007094979286193 | loss/mean: 0.7007094979286193 | loss/std: 0.13720586687168815 | lr: 0.02 | momentum: 0.9\n"
     ]
    },
    {
     "data": {
      "application/vnd.jupyter.widget-view+json": {
       "model_id": "ec69c800603541058e3329e895510ca1",
       "version_major": 2,
       "version_minor": 0
      },
      "text/plain": [
       "8/10 * Epoch (valid):   0%|          | 0/5 [00:00<?, ?it/s]"
      ]
     },
     "metadata": {},
     "output_type": "display_data"
    },
    {
     "name": "stdout",
     "output_type": "stream",
     "text": [
      "valid (8/10) loss: 0.7703786969184876 | loss/mean: 0.7703786969184876 | loss/std: 0.13306622471146004 | lr: 0.02 | momentum: 0.9\n",
      "* Epoch (8/10) \n"
     ]
    },
    {
     "data": {
      "application/vnd.jupyter.widget-view+json": {
       "model_id": "a3eecb1fe8d54846a8c6ba60f7ce23bf",
       "version_major": 2,
       "version_minor": 0
      },
      "text/plain": [
       "9/10 * Epoch (train):   0%|          | 0/10 [00:00<?, ?it/s]"
      ]
     },
     "metadata": {},
     "output_type": "display_data"
    },
    {
     "name": "stdout",
     "output_type": "stream",
     "text": [
      "train (9/10) loss: 0.8053872525691986 | loss/mean: 0.8053872525691986 | loss/std: 0.24754393830716528 | lr: 0.02 | momentum: 0.9\n"
     ]
    },
    {
     "data": {
      "application/vnd.jupyter.widget-view+json": {
       "model_id": "b4284303469a4670810654365b4a1989",
       "version_major": 2,
       "version_minor": 0
      },
      "text/plain": [
       "9/10 * Epoch (valid):   0%|          | 0/5 [00:00<?, ?it/s]"
      ]
     },
     "metadata": {},
     "output_type": "display_data"
    },
    {
     "name": "stdout",
     "output_type": "stream",
     "text": [
      "valid (9/10) loss: 0.595939576625824 | loss/mean: 0.595939576625824 | loss/std: 0.05444768524853363 | lr: 0.02 | momentum: 0.9\n",
      "* Epoch (9/10) \n"
     ]
    },
    {
     "data": {
      "application/vnd.jupyter.widget-view+json": {
       "model_id": "24dbdd1e30fd4e9fbfeace9461fddbac",
       "version_major": 2,
       "version_minor": 0
      },
      "text/plain": [
       "10/10 * Epoch (train):   0%|          | 0/10 [00:00<?, ?it/s]"
      ]
     },
     "metadata": {},
     "output_type": "display_data"
    },
    {
     "name": "stdout",
     "output_type": "stream",
     "text": [
      "train (10/10) loss: 0.7851045429706573 | loss/mean: 0.7851045429706573 | loss/std: 0.12580634509586233 | lr: 0.02 | momentum: 0.9\n"
     ]
    },
    {
     "data": {
      "application/vnd.jupyter.widget-view+json": {
       "model_id": "746aa5755cc346f89ec068f9caac8dfe",
       "version_major": 2,
       "version_minor": 0
      },
      "text/plain": [
       "10/10 * Epoch (valid):   0%|          | 0/5 [00:00<?, ?it/s]"
      ]
     },
     "metadata": {},
     "output_type": "display_data"
    },
    {
     "name": "stdout",
     "output_type": "stream",
     "text": [
      "valid (10/10) loss: 0.8507855415344239 | loss/mean: 0.8507855415344239 | loss/std: 0.20167085492802184 | lr: 0.02 | momentum: 0.9\n",
      "* Epoch (10/10) \n",
      "Top models:\n",
      "experiments/model.0010.pth\t10.0000\n"
     ]
    },
    {
     "data": {
      "application/vnd.jupyter.widget-view+json": {
       "model_id": "ed260b2ba92044fda76abaa4e5ebf5de",
       "version_major": 2,
       "version_minor": 0
      },
      "text/plain": [
       "1/10 * Epoch (train):   0%|          | 0/10 [00:00<?, ?it/s]"
      ]
     },
     "metadata": {},
     "output_type": "display_data"
    },
    {
     "name": "stdout",
     "output_type": "stream",
     "text": [
      "train (1/10) loss: 1.0023467898368836 | loss/mean: 1.0023467898368836 | loss/std: 0.07649850613967357 | lr: 0.02 | momentum: 0.9\n"
     ]
    },
    {
     "data": {
      "application/vnd.jupyter.widget-view+json": {
       "model_id": "7c9a4760125a4f18805855dfcc0e96aa",
       "version_major": 2,
       "version_minor": 0
      },
      "text/plain": [
       "1/10 * Epoch (valid):   0%|          | 0/5 [00:00<?, ?it/s]"
      ]
     },
     "metadata": {},
     "output_type": "display_data"
    },
    {
     "name": "stdout",
     "output_type": "stream",
     "text": [
      "valid (1/10) loss: 0.8623501658439636 | loss/mean: 0.8623501658439636 | loss/std: 0.11431776314435774 | lr: 0.02 | momentum: 0.9\n",
      "* Epoch (1/10) \n"
     ]
    },
    {
     "data": {
      "application/vnd.jupyter.widget-view+json": {
       "model_id": "1153362e87c141e5a641d2b59a828b0c",
       "version_major": 2,
       "version_minor": 0
      },
      "text/plain": [
       "2/10 * Epoch (train):   0%|          | 0/10 [00:00<?, ?it/s]"
      ]
     },
     "metadata": {},
     "output_type": "display_data"
    },
    {
     "name": "stdout",
     "output_type": "stream",
     "text": [
      "train (2/10) loss: 0.8327854633331299 | loss/mean: 0.8327854633331299 | loss/std: 0.04899256678324851 | lr: 0.02 | momentum: 0.9\n"
     ]
    },
    {
     "data": {
      "application/vnd.jupyter.widget-view+json": {
       "model_id": "cd5279ac0f3f4634bde6460060304627",
       "version_major": 2,
       "version_minor": 0
      },
      "text/plain": [
       "2/10 * Epoch (valid):   0%|          | 0/5 [00:00<?, ?it/s]"
      ]
     },
     "metadata": {},
     "output_type": "display_data"
    },
    {
     "name": "stdout",
     "output_type": "stream",
     "text": [
      "valid (2/10) loss: 0.7458891034126282 | loss/mean: 0.7458891034126282 | loss/std: 0.06486000217883725 | lr: 0.02 | momentum: 0.9\n",
      "* Epoch (2/10) \n"
     ]
    },
    {
     "data": {
      "application/vnd.jupyter.widget-view+json": {
       "model_id": "abd6b07e893f43448b94d46f1161b74c",
       "version_major": 2,
       "version_minor": 0
      },
      "text/plain": [
       "3/10 * Epoch (train):   0%|          | 0/10 [00:00<?, ?it/s]"
      ]
     },
     "metadata": {},
     "output_type": "display_data"
    },
    {
     "name": "stdout",
     "output_type": "stream",
     "text": [
      "train (3/10) loss: 0.7356805801391602 | loss/mean: 0.7356805801391602 | loss/std: 0.03578166955761657 | lr: 0.02 | momentum: 0.9\n"
     ]
    },
    {
     "data": {
      "application/vnd.jupyter.widget-view+json": {
       "model_id": "bae82d88cc8546bb83dfc10a9fcbb74f",
       "version_major": 2,
       "version_minor": 0
      },
      "text/plain": [
       "3/10 * Epoch (valid):   0%|          | 0/5 [00:00<?, ?it/s]"
      ]
     },
     "metadata": {},
     "output_type": "display_data"
    },
    {
     "name": "stdout",
     "output_type": "stream",
     "text": [
      "valid (3/10) loss: 0.6834115147590637 | loss/mean: 0.6834115147590637 | loss/std: 0.045832271603445454 | lr: 0.02 | momentum: 0.9\n",
      "* Epoch (3/10) \n"
     ]
    },
    {
     "data": {
      "application/vnd.jupyter.widget-view+json": {
       "model_id": "42b7520437154abcbf7faa7cca4ab4ff",
       "version_major": 2,
       "version_minor": 0
      },
      "text/plain": [
       "4/10 * Epoch (train):   0%|          | 0/10 [00:00<?, ?it/s]"
      ]
     },
     "metadata": {},
     "output_type": "display_data"
    },
    {
     "name": "stdout",
     "output_type": "stream",
     "text": [
      "train (4/10) loss: 0.6760709345340729 | loss/mean: 0.6760709345340729 | loss/std: 0.03518247497814413 | lr: 0.02 | momentum: 0.9\n"
     ]
    },
    {
     "data": {
      "application/vnd.jupyter.widget-view+json": {
       "model_id": "46ad17838fc04500aebcc1ae3d878279",
       "version_major": 2,
       "version_minor": 0
      },
      "text/plain": [
       "4/10 * Epoch (valid):   0%|          | 0/5 [00:00<?, ?it/s]"
      ]
     },
     "metadata": {},
     "output_type": "display_data"
    },
    {
     "name": "stdout",
     "output_type": "stream",
     "text": [
      "valid (4/10) loss: 0.6406271934509278 | loss/mean: 0.6406271934509278 | loss/std: 0.04140880211645237 | lr: 0.02 | momentum: 0.9\n",
      "* Epoch (4/10) \n"
     ]
    },
    {
     "data": {
      "application/vnd.jupyter.widget-view+json": {
       "model_id": "9f7a455469f14bcbb40b38efa4c61583",
       "version_major": 2,
       "version_minor": 0
      },
      "text/plain": [
       "5/10 * Epoch (train):   0%|          | 0/10 [00:00<?, ?it/s]"
      ]
     },
     "metadata": {},
     "output_type": "display_data"
    },
    {
     "name": "stdout",
     "output_type": "stream",
     "text": [
      "train (5/10) loss: 0.6477998435497284 | loss/mean: 0.6477998435497284 | loss/std: 0.04058230220363298 | lr: 0.02 | momentum: 0.9\n"
     ]
    },
    {
     "data": {
      "application/vnd.jupyter.widget-view+json": {
       "model_id": "12c6e117738d41f2a9f74f822a3178ae",
       "version_major": 2,
       "version_minor": 0
      },
      "text/plain": [
       "5/10 * Epoch (valid):   0%|          | 0/5 [00:00<?, ?it/s]"
      ]
     },
     "metadata": {},
     "output_type": "display_data"
    },
    {
     "name": "stdout",
     "output_type": "stream",
     "text": [
      "valid (5/10) loss: 0.6176398515701294 | loss/mean: 0.6176398515701294 | loss/std: 0.03590413012099117 | lr: 0.02 | momentum: 0.9\n",
      "* Epoch (5/10) \n"
     ]
    },
    {
     "data": {
      "application/vnd.jupyter.widget-view+json": {
       "model_id": "8536675fe0c14ea5b181697c5522dc87",
       "version_major": 2,
       "version_minor": 0
      },
      "text/plain": [
       "6/10 * Epoch (train):   0%|          | 0/10 [00:00<?, ?it/s]"
      ]
     },
     "metadata": {},
     "output_type": "display_data"
    },
    {
     "name": "stdout",
     "output_type": "stream",
     "text": [
      "train (6/10) loss: 0.6391749382019043 | loss/mean: 0.6391749382019043 | loss/std: 0.04833057989022951 | lr: 0.02 | momentum: 0.9\n"
     ]
    },
    {
     "data": {
      "application/vnd.jupyter.widget-view+json": {
       "model_id": "af160aed1d464e3dbd4caac6b5c4a4a2",
       "version_major": 2,
       "version_minor": 0
      },
      "text/plain": [
       "6/10 * Epoch (valid):   0%|          | 0/5 [00:00<?, ?it/s]"
      ]
     },
     "metadata": {},
     "output_type": "display_data"
    },
    {
     "name": "stdout",
     "output_type": "stream",
     "text": [
      "valid (6/10) loss: 0.610216212272644 | loss/mean: 0.610216212272644 | loss/std: 0.03604491000124478 | lr: 0.02 | momentum: 0.9\n",
      "* Epoch (6/10) \n"
     ]
    },
    {
     "data": {
      "application/vnd.jupyter.widget-view+json": {
       "model_id": "ba6879c8270e40be9780ef8328a0f3a3",
       "version_major": 2,
       "version_minor": 0
      },
      "text/plain": [
       "7/10 * Epoch (train):   0%|          | 0/10 [00:00<?, ?it/s]"
      ]
     },
     "metadata": {},
     "output_type": "display_data"
    },
    {
     "name": "stdout",
     "output_type": "stream",
     "text": [
      "train (7/10) loss: 0.6224183380603789 | loss/mean: 0.6224183380603789 | loss/std: 0.04064154145552094 | lr: 0.02 | momentum: 0.9\n"
     ]
    },
    {
     "data": {
      "application/vnd.jupyter.widget-view+json": {
       "model_id": "42271d71f8854c088a585d09155bb48c",
       "version_major": 2,
       "version_minor": 0
      },
      "text/plain": [
       "7/10 * Epoch (valid):   0%|          | 0/5 [00:00<?, ?it/s]"
      ]
     },
     "metadata": {},
     "output_type": "display_data"
    },
    {
     "name": "stdout",
     "output_type": "stream",
     "text": [
      "valid (7/10) loss: 0.6014699578285218 | loss/mean: 0.6014699578285218 | loss/std: 0.03206254131789701 | lr: 0.02 | momentum: 0.9\n",
      "* Epoch (7/10) \n"
     ]
    },
    {
     "data": {
      "application/vnd.jupyter.widget-view+json": {
       "model_id": "8776b7a841da4795b6bd1e1c83e00a77",
       "version_major": 2,
       "version_minor": 0
      },
      "text/plain": [
       "8/10 * Epoch (train):   0%|          | 0/10 [00:00<?, ?it/s]"
      ]
     },
     "metadata": {},
     "output_type": "display_data"
    },
    {
     "name": "stdout",
     "output_type": "stream",
     "text": [
      "train (8/10) loss: 0.6142204105854034 | loss/mean: 0.6142204105854034 | loss/std: 0.03921218294442682 | lr: 0.02 | momentum: 0.9\n"
     ]
    },
    {
     "data": {
      "application/vnd.jupyter.widget-view+json": {
       "model_id": "9357a0bc5067401f820bec401f5755d4",
       "version_major": 2,
       "version_minor": 0
      },
      "text/plain": [
       "8/10 * Epoch (valid):   0%|          | 0/5 [00:00<?, ?it/s]"
      ]
     },
     "metadata": {},
     "output_type": "display_data"
    },
    {
     "name": "stdout",
     "output_type": "stream",
     "text": [
      "valid (8/10) loss: 0.5965311527252197 | loss/mean: 0.5965311527252197 | loss/std: 0.031345393719239924 | lr: 0.02 | momentum: 0.9\n",
      "* Epoch (8/10) \n"
     ]
    },
    {
     "data": {
      "application/vnd.jupyter.widget-view+json": {
       "model_id": "d1297a65c0bd4fd084828d9e384cd2eb",
       "version_major": 2,
       "version_minor": 0
      },
      "text/plain": [
       "9/10 * Epoch (train):   0%|          | 0/10 [00:00<?, ?it/s]"
      ]
     },
     "metadata": {},
     "output_type": "display_data"
    },
    {
     "name": "stdout",
     "output_type": "stream",
     "text": [
      "train (9/10) loss: 0.6139503777027131 | loss/mean: 0.6139503777027131 | loss/std: 0.044326401040470025 | lr: 0.02 | momentum: 0.9\n"
     ]
    },
    {
     "data": {
      "application/vnd.jupyter.widget-view+json": {
       "model_id": "8e23f8a526954a31bb67c9417810b2d0",
       "version_major": 2,
       "version_minor": 0
      },
      "text/plain": [
       "9/10 * Epoch (valid):   0%|          | 0/5 [00:00<?, ?it/s]"
      ]
     },
     "metadata": {},
     "output_type": "display_data"
    },
    {
     "name": "stdout",
     "output_type": "stream",
     "text": [
      "valid (9/10) loss: 0.5950181007385253 | loss/mean: 0.5950181007385253 | loss/std: 0.030687218319508405 | lr: 0.02 | momentum: 0.9\n",
      "* Epoch (9/10) \n"
     ]
    },
    {
     "data": {
      "application/vnd.jupyter.widget-view+json": {
       "model_id": "48df44acc84a47ee86151ba96dc405be",
       "version_major": 2,
       "version_minor": 0
      },
      "text/plain": [
       "10/10 * Epoch (train):   0%|          | 0/10 [00:00<?, ?it/s]"
      ]
     },
     "metadata": {},
     "output_type": "display_data"
    },
    {
     "name": "stdout",
     "output_type": "stream",
     "text": [
      "train (10/10) loss: 0.6073829233646393 | loss/mean: 0.6073829233646393 | loss/std: 0.04035701035852891 | lr: 0.02 | momentum: 0.9\n"
     ]
    },
    {
     "data": {
      "application/vnd.jupyter.widget-view+json": {
       "model_id": "7d23649fcc974b7c893169370e6d0cd5",
       "version_major": 2,
       "version_minor": 0
      },
      "text/plain": [
       "10/10 * Epoch (valid):   0%|          | 0/5 [00:00<?, ?it/s]"
      ]
     },
     "metadata": {},
     "output_type": "display_data"
    },
    {
     "name": "stdout",
     "output_type": "stream",
     "text": [
      "valid (10/10) loss: 0.5918319582939148 | loss/mean: 0.5918319582939148 | loss/std: 0.030397975427927635 | lr: 0.02 | momentum: 0.9\n",
      "* Epoch (10/10) \n",
      "Top models:\n",
      "experiments/model.0010.pth\t10.0000\n"
     ]
    },
    {
     "data": {
      "application/vnd.jupyter.widget-view+json": {
       "model_id": "ea63b6f2d556431bb913f453a6530c70",
       "version_major": 2,
       "version_minor": 0
      },
      "text/plain": [
       "1/10 * Epoch (train):   0%|          | 0/10 [00:00<?, ?it/s]"
      ]
     },
     "metadata": {},
     "output_type": "display_data"
    },
    {
     "name": "stdout",
     "output_type": "stream",
     "text": [
      "train (1/10) loss: 1.0525316834449767 | loss/mean: 1.0525316834449767 | loss/std: 0.06314712628389368 | lr: 0.02 | momentum: 0.9\n"
     ]
    },
    {
     "data": {
      "application/vnd.jupyter.widget-view+json": {
       "model_id": "4dae24a06dd14d7b803e971dc05a50ec",
       "version_major": 2,
       "version_minor": 0
      },
      "text/plain": [
       "1/10 * Epoch (valid):   0%|          | 0/5 [00:00<?, ?it/s]"
      ]
     },
     "metadata": {},
     "output_type": "display_data"
    },
    {
     "name": "stdout",
     "output_type": "stream",
     "text": [
      "valid (1/10) loss: 0.9323266983032227 | loss/mean: 0.9323266983032227 | loss/std: 0.0897917853405879 | lr: 0.02 | momentum: 0.9\n",
      "* Epoch (1/10) \n"
     ]
    },
    {
     "data": {
      "application/vnd.jupyter.widget-view+json": {
       "model_id": "14d80fa7d5e346cb9fd8d83269f2160e",
       "version_major": 2,
       "version_minor": 0
      },
      "text/plain": [
       "2/10 * Epoch (train):   0%|          | 0/10 [00:00<?, ?it/s]"
      ]
     },
     "metadata": {},
     "output_type": "display_data"
    },
    {
     "name": "stdout",
     "output_type": "stream",
     "text": [
      "train (2/10) loss: 0.8405437886714935 | loss/mean: 0.8405437886714935 | loss/std: 0.07179157015925632 | lr: 0.02 | momentum: 0.9\n"
     ]
    },
    {
     "data": {
      "application/vnd.jupyter.widget-view+json": {
       "model_id": "3b7a017953d74f389f2751769b747054",
       "version_major": 2,
       "version_minor": 0
      },
      "text/plain": [
       "2/10 * Epoch (valid):   0%|          | 0/5 [00:00<?, ?it/s]"
      ]
     },
     "metadata": {},
     "output_type": "display_data"
    },
    {
     "name": "stdout",
     "output_type": "stream",
     "text": [
      "valid (2/10) loss: 0.6857564210891723 | loss/mean: 0.6857564210891723 | loss/std: 0.05574015271326607 | lr: 0.02 | momentum: 0.9\n",
      "* Epoch (2/10) \n"
     ]
    },
    {
     "data": {
      "application/vnd.jupyter.widget-view+json": {
       "model_id": "cf0038d443ea42ddbb7ff511154af02b",
       "version_major": 2,
       "version_minor": 0
      },
      "text/plain": [
       "3/10 * Epoch (train):   0%|          | 0/10 [00:00<?, ?it/s]"
      ]
     },
     "metadata": {},
     "output_type": "display_data"
    },
    {
     "name": "stdout",
     "output_type": "stream",
     "text": [
      "train (3/10) loss: 0.6526101648807525 | loss/mean: 0.6526101648807525 | loss/std: 0.038020492866858664 | lr: 0.02 | momentum: 0.9\n"
     ]
    },
    {
     "data": {
      "application/vnd.jupyter.widget-view+json": {
       "model_id": "5ab9a448a3624e3badab98011aca5284",
       "version_major": 2,
       "version_minor": 0
      },
      "text/plain": [
       "3/10 * Epoch (valid):   0%|          | 0/5 [00:00<?, ?it/s]"
      ]
     },
     "metadata": {},
     "output_type": "display_data"
    },
    {
     "name": "stdout",
     "output_type": "stream",
     "text": [
      "valid (3/10) loss: 0.612192976474762 | loss/mean: 0.612192976474762 | loss/std: 0.059825082594436384 | lr: 0.02 | momentum: 0.9\n",
      "* Epoch (3/10) \n"
     ]
    },
    {
     "data": {
      "application/vnd.jupyter.widget-view+json": {
       "model_id": "fc416aaf154249ad852999c1613ba2b0",
       "version_major": 2,
       "version_minor": 0
      },
      "text/plain": [
       "4/10 * Epoch (train):   0%|          | 0/10 [00:00<?, ?it/s]"
      ]
     },
     "metadata": {},
     "output_type": "display_data"
    },
    {
     "name": "stdout",
     "output_type": "stream",
     "text": [
      "train (4/10) loss: 0.6122573792934418 | loss/mean: 0.6122573792934418 | loss/std: 0.046754344365883056 | lr: 0.02 | momentum: 0.9\n"
     ]
    },
    {
     "data": {
      "application/vnd.jupyter.widget-view+json": {
       "model_id": "939deb3bdc2a477e9b999088b2363abc",
       "version_major": 2,
       "version_minor": 0
      },
      "text/plain": [
       "4/10 * Epoch (valid):   0%|          | 0/5 [00:00<?, ?it/s]"
      ]
     },
     "metadata": {},
     "output_type": "display_data"
    },
    {
     "name": "stdout",
     "output_type": "stream",
     "text": [
      "valid (4/10) loss: 0.5831914901733398 | loss/mean: 0.5831914901733398 | loss/std: 0.04948646103543325 | lr: 0.02 | momentum: 0.9\n",
      "* Epoch (4/10) \n"
     ]
    },
    {
     "data": {
      "application/vnd.jupyter.widget-view+json": {
       "model_id": "ef8596bf0b9d40c187c082df9d608ffe",
       "version_major": 2,
       "version_minor": 0
      },
      "text/plain": [
       "5/10 * Epoch (train):   0%|          | 0/10 [00:00<?, ?it/s]"
      ]
     },
     "metadata": {},
     "output_type": "display_data"
    },
    {
     "name": "stdout",
     "output_type": "stream",
     "text": [
      "train (5/10) loss: 0.5867764890193939 | loss/mean: 0.5867764890193939 | loss/std: 0.044404610824837876 | lr: 0.02 | momentum: 0.9\n"
     ]
    },
    {
     "data": {
      "application/vnd.jupyter.widget-view+json": {
       "model_id": "a3d9071b83aa442f9bff247beeef4f20",
       "version_major": 2,
       "version_minor": 0
      },
      "text/plain": [
       "5/10 * Epoch (valid):   0%|          | 0/5 [00:00<?, ?it/s]"
      ]
     },
     "metadata": {},
     "output_type": "display_data"
    },
    {
     "name": "stdout",
     "output_type": "stream",
     "text": [
      "valid (5/10) loss: 0.5784675121307373 | loss/mean: 0.5784675121307373 | loss/std: 0.03960115856009696 | lr: 0.02 | momentum: 0.9\n",
      "* Epoch (5/10) \n"
     ]
    },
    {
     "data": {
      "application/vnd.jupyter.widget-view+json": {
       "model_id": "0c4e6c8074bc4016a4c7a395d2bd4f76",
       "version_major": 2,
       "version_minor": 0
      },
      "text/plain": [
       "6/10 * Epoch (train):   0%|          | 0/10 [00:00<?, ?it/s]"
      ]
     },
     "metadata": {},
     "output_type": "display_data"
    },
    {
     "name": "stdout",
     "output_type": "stream",
     "text": [
      "train (6/10) loss: 0.607336974143982 | loss/mean: 0.607336974143982 | loss/std: 0.07690192932889761 | lr: 0.02 | momentum: 0.9\n"
     ]
    },
    {
     "data": {
      "application/vnd.jupyter.widget-view+json": {
       "model_id": "1deeb1b4695e4e2799414130d5a01a90",
       "version_major": 2,
       "version_minor": 0
      },
      "text/plain": [
       "6/10 * Epoch (valid):   0%|          | 0/5 [00:00<?, ?it/s]"
      ]
     },
     "metadata": {},
     "output_type": "display_data"
    },
    {
     "name": "stdout",
     "output_type": "stream",
     "text": [
      "valid (6/10) loss: 0.6088173270225525 | loss/mean: 0.6088173270225525 | loss/std: 0.07986065865647471 | lr: 0.02 | momentum: 0.9\n",
      "* Epoch (6/10) \n"
     ]
    },
    {
     "data": {
      "application/vnd.jupyter.widget-view+json": {
       "model_id": "fe19a49b015e495295ef688006eecb65",
       "version_major": 2,
       "version_minor": 0
      },
      "text/plain": [
       "7/10 * Epoch (train):   0%|          | 0/10 [00:00<?, ?it/s]"
      ]
     },
     "metadata": {},
     "output_type": "display_data"
    },
    {
     "name": "stdout",
     "output_type": "stream",
     "text": [
      "train (7/10) loss: 0.6201981365680694 | loss/mean: 0.6201981365680694 | loss/std: 0.07084973884502109 | lr: 0.02 | momentum: 0.9\n"
     ]
    },
    {
     "data": {
      "application/vnd.jupyter.widget-view+json": {
       "model_id": "0c7e55d53e4c4f41bd0e975ed175ca80",
       "version_major": 2,
       "version_minor": 0
      },
      "text/plain": [
       "7/10 * Epoch (valid):   0%|          | 0/5 [00:00<?, ?it/s]"
      ]
     },
     "metadata": {},
     "output_type": "display_data"
    },
    {
     "name": "stdout",
     "output_type": "stream",
     "text": [
      "valid (7/10) loss: 0.6548127651214599 | loss/mean: 0.6548127651214599 | loss/std: 0.09714792607392517 | lr: 0.02 | momentum: 0.9\n",
      "* Epoch (7/10) \n"
     ]
    },
    {
     "data": {
      "application/vnd.jupyter.widget-view+json": {
       "model_id": "3e60bb9f3eeb46b6b0dd92dc70ffade9",
       "version_major": 2,
       "version_minor": 0
      },
      "text/plain": [
       "8/10 * Epoch (train):   0%|          | 0/10 [00:00<?, ?it/s]"
      ]
     },
     "metadata": {},
     "output_type": "display_data"
    },
    {
     "name": "stdout",
     "output_type": "stream",
     "text": [
      "train (8/10) loss: 0.671356862783432 | loss/mean: 0.671356862783432 | loss/std: 0.08920936367903208 | lr: 0.02 | momentum: 0.9\n"
     ]
    },
    {
     "data": {
      "application/vnd.jupyter.widget-view+json": {
       "model_id": "7dde56af66304d95a1f24117c5cf5d14",
       "version_major": 2,
       "version_minor": 0
      },
      "text/plain": [
       "8/10 * Epoch (valid):   0%|          | 0/5 [00:00<?, ?it/s]"
      ]
     },
     "metadata": {},
     "output_type": "display_data"
    },
    {
     "name": "stdout",
     "output_type": "stream",
     "text": [
      "valid (8/10) loss: 0.5991439461708069 | loss/mean: 0.5991439461708069 | loss/std: 0.04640723815088218 | lr: 0.02 | momentum: 0.9\n",
      "* Epoch (8/10) \n"
     ]
    },
    {
     "data": {
      "application/vnd.jupyter.widget-view+json": {
       "model_id": "8f263e8c465a43d6959ffc598c656ab8",
       "version_major": 2,
       "version_minor": 0
      },
      "text/plain": [
       "9/10 * Epoch (train):   0%|          | 0/10 [00:00<?, ?it/s]"
      ]
     },
     "metadata": {},
     "output_type": "display_data"
    },
    {
     "name": "stdout",
     "output_type": "stream",
     "text": [
      "train (9/10) loss: 0.6806130945682526 | loss/mean: 0.6806130945682526 | loss/std: 0.09990837237403949 | lr: 0.02 | momentum: 0.9\n"
     ]
    },
    {
     "data": {
      "application/vnd.jupyter.widget-view+json": {
       "model_id": "e0b16757dcf2499c878f6910831910df",
       "version_major": 2,
       "version_minor": 0
      },
      "text/plain": [
       "9/10 * Epoch (valid):   0%|          | 0/5 [00:00<?, ?it/s]"
      ]
     },
     "metadata": {},
     "output_type": "display_data"
    },
    {
     "name": "stdout",
     "output_type": "stream",
     "text": [
      "valid (9/10) loss: 0.6311645269393921 | loss/mean: 0.6311645269393921 | loss/std: 0.08406716995964679 | lr: 0.02 | momentum: 0.9\n",
      "* Epoch (9/10) \n"
     ]
    },
    {
     "data": {
      "application/vnd.jupyter.widget-view+json": {
       "model_id": "1a2c9888432f4bc7a9f0d55a691c88b6",
       "version_major": 2,
       "version_minor": 0
      },
      "text/plain": [
       "10/10 * Epoch (train):   0%|          | 0/10 [00:00<?, ?it/s]"
      ]
     },
     "metadata": {},
     "output_type": "display_data"
    },
    {
     "name": "stdout",
     "output_type": "stream",
     "text": [
      "train (10/10) loss: 0.6176819562911987 | loss/mean: 0.6176819562911987 | loss/std: 0.05440783977916336 | lr: 0.02 | momentum: 0.9\n"
     ]
    },
    {
     "data": {
      "application/vnd.jupyter.widget-view+json": {
       "model_id": "3e8ed76aa5334649bcf12a9315236eb7",
       "version_major": 2,
       "version_minor": 0
      },
      "text/plain": [
       "10/10 * Epoch (valid):   0%|          | 0/5 [00:00<?, ?it/s]"
      ]
     },
     "metadata": {},
     "output_type": "display_data"
    },
    {
     "name": "stdout",
     "output_type": "stream",
     "text": [
      "valid (10/10) loss: 0.5827178359031677 | loss/mean: 0.5827178359031677 | loss/std: 0.04177683515262233 | lr: 0.02 | momentum: 0.9\n",
      "* Epoch (10/10) \n",
      "Top models:\n",
      "experiments/model.0010.pth\t10.0000\n"
     ]
    },
    {
     "data": {
      "application/vnd.jupyter.widget-view+json": {
       "model_id": "cb02be85b443448aae977d8cbee81d4b",
       "version_major": 2,
       "version_minor": 0
      },
      "text/plain": [
       "1/10 * Epoch (train):   0%|          | 0/10 [00:00<?, ?it/s]"
      ]
     },
     "metadata": {},
     "output_type": "display_data"
    },
    {
     "name": "stdout",
     "output_type": "stream",
     "text": [
      "train (1/10) loss: 1.1029972672462465 | loss/mean: 1.1029972672462465 | loss/std: 0.030882823537679606 | lr: 0.02 | momentum: 0.9\n"
     ]
    },
    {
     "data": {
      "application/vnd.jupyter.widget-view+json": {
       "model_id": "4145617af46d408387e130301bc34765",
       "version_major": 2,
       "version_minor": 0
      },
      "text/plain": [
       "1/10 * Epoch (valid):   0%|          | 0/5 [00:00<?, ?it/s]"
      ]
     },
     "metadata": {},
     "output_type": "display_data"
    },
    {
     "name": "stdout",
     "output_type": "stream",
     "text": [
      "valid (1/10) loss: 1.1166245460510253 | loss/mean: 1.1166245460510253 | loss/std: 0.05210680025625237 | lr: 0.02 | momentum: 0.9\n",
      "* Epoch (1/10) \n"
     ]
    },
    {
     "data": {
      "application/vnd.jupyter.widget-view+json": {
       "model_id": "862a11a6b4bc4ee8b10487da17786a45",
       "version_major": 2,
       "version_minor": 0
      },
      "text/plain": [
       "2/10 * Epoch (train):   0%|          | 0/10 [00:00<?, ?it/s]"
      ]
     },
     "metadata": {},
     "output_type": "display_data"
    },
    {
     "name": "stdout",
     "output_type": "stream",
     "text": [
      "train (2/10) loss: 1.1001486778259277 | loss/mean: 1.1001486778259277 | loss/std: 0.025974360725808297 | lr: 0.02 | momentum: 0.9\n"
     ]
    },
    {
     "data": {
      "application/vnd.jupyter.widget-view+json": {
       "model_id": "daf642b73e47488b8177aa5d0b87ef9d",
       "version_major": 2,
       "version_minor": 0
      },
      "text/plain": [
       "2/10 * Epoch (valid):   0%|          | 0/5 [00:00<?, ?it/s]"
      ]
     },
     "metadata": {},
     "output_type": "display_data"
    },
    {
     "name": "stdout",
     "output_type": "stream",
     "text": [
      "valid (2/10) loss: 1.1130475282669068 | loss/mean: 1.1130475282669068 | loss/std: 0.04357351555540951 | lr: 0.02 | momentum: 0.9\n",
      "* Epoch (2/10) \n"
     ]
    },
    {
     "data": {
      "application/vnd.jupyter.widget-view+json": {
       "model_id": "6c948745e93b4300bd0b4893a4be53d8",
       "version_major": 2,
       "version_minor": 0
      },
      "text/plain": [
       "3/10 * Epoch (train):   0%|          | 0/10 [00:00<?, ?it/s]"
      ]
     },
     "metadata": {},
     "output_type": "display_data"
    },
    {
     "name": "stdout",
     "output_type": "stream",
     "text": [
      "train (3/10) loss: 1.0988327264785767 | loss/mean: 1.0988327264785767 | loss/std: 0.02274453167142318 | lr: 0.02 | momentum: 0.9\n"
     ]
    },
    {
     "data": {
      "application/vnd.jupyter.widget-view+json": {
       "model_id": "c16efc761f0f4c00971e32cbc8d37640",
       "version_major": 2,
       "version_minor": 0
      },
      "text/plain": [
       "3/10 * Epoch (valid):   0%|          | 0/5 [00:00<?, ?it/s]"
      ]
     },
     "metadata": {},
     "output_type": "display_data"
    },
    {
     "name": "stdout",
     "output_type": "stream",
     "text": [
      "valid (3/10) loss: 1.1106632947921753 | loss/mean: 1.1106632947921753 | loss/std: 0.037172401344391835 | lr: 0.02 | momentum: 0.9\n",
      "* Epoch (3/10) \n"
     ]
    },
    {
     "data": {
      "application/vnd.jupyter.widget-view+json": {
       "model_id": "65e1d22ec7ed48e5822c124c133bd797",
       "version_major": 2,
       "version_minor": 0
      },
      "text/plain": [
       "4/10 * Epoch (train):   0%|          | 0/10 [00:00<?, ?it/s]"
      ]
     },
     "metadata": {},
     "output_type": "display_data"
    },
    {
     "name": "stdout",
     "output_type": "stream",
     "text": [
      "train (4/10) loss: 1.0981364488601684 | loss/mean: 1.0981364488601684 | loss/std: 0.02057658399331713 | lr: 0.02 | momentum: 0.9\n"
     ]
    },
    {
     "data": {
      "application/vnd.jupyter.widget-view+json": {
       "model_id": "0a37f83c419f43a0ada2818488240f19",
       "version_major": 2,
       "version_minor": 0
      },
      "text/plain": [
       "4/10 * Epoch (valid):   0%|          | 0/5 [00:00<?, ?it/s]"
      ]
     },
     "metadata": {},
     "output_type": "display_data"
    },
    {
     "name": "stdout",
     "output_type": "stream",
     "text": [
      "valid (4/10) loss: 1.1090929985046387 | loss/mean: 1.1090929985046387 | loss/std: 0.032608227517009786 | lr: 0.02 | momentum: 0.9\n",
      "* Epoch (4/10) \n"
     ]
    },
    {
     "data": {
      "application/vnd.jupyter.widget-view+json": {
       "model_id": "87a50e00e42846eebcdc5bbacd4dfe6b",
       "version_major": 2,
       "version_minor": 0
      },
      "text/plain": [
       "5/10 * Epoch (train):   0%|          | 0/10 [00:00<?, ?it/s]"
      ]
     },
     "metadata": {},
     "output_type": "display_data"
    },
    {
     "name": "stdout",
     "output_type": "stream",
     "text": [
      "train (5/10) loss: 1.097789227962494 | loss/mean: 1.097789227962494 | loss/std: 0.019165847346960606 | lr: 0.02 | momentum: 0.9\n"
     ]
    },
    {
     "data": {
      "application/vnd.jupyter.widget-view+json": {
       "model_id": "cd4421e40e5b4a70a6b58027582e0706",
       "version_major": 2,
       "version_minor": 0
      },
      "text/plain": [
       "5/10 * Epoch (valid):   0%|          | 0/5 [00:00<?, ?it/s]"
      ]
     },
     "metadata": {},
     "output_type": "display_data"
    },
    {
     "name": "stdout",
     "output_type": "stream",
     "text": [
      "valid (5/10) loss: 1.1080559968948365 | loss/mean: 1.1080559968948365 | loss/std: 0.029458484094012638 | lr: 0.02 | momentum: 0.9\n",
      "* Epoch (5/10) \n"
     ]
    },
    {
     "data": {
      "application/vnd.jupyter.widget-view+json": {
       "model_id": "6b1615321cb34e0e8772c6f408a5a976",
       "version_major": 2,
       "version_minor": 0
      },
      "text/plain": [
       "6/10 * Epoch (train):   0%|          | 0/10 [00:00<?, ?it/s]"
      ]
     },
     "metadata": {},
     "output_type": "display_data"
    },
    {
     "name": "stdout",
     "output_type": "stream",
     "text": [
      "train (6/10) loss: 1.0976251482963562 | loss/mean: 1.0976251482963562 | loss/std: 0.018244147410784936 | lr: 0.02 | momentum: 0.9\n"
     ]
    },
    {
     "data": {
      "application/vnd.jupyter.widget-view+json": {
       "model_id": "5d0cdda4790946569a9acba75bf16799",
       "version_major": 2,
       "version_minor": 0
      },
      "text/plain": [
       "6/10 * Epoch (valid):   0%|          | 0/5 [00:00<?, ?it/s]"
      ]
     },
     "metadata": {},
     "output_type": "display_data"
    },
    {
     "name": "stdout",
     "output_type": "stream",
     "text": [
      "valid (6/10) loss: 1.1073584079742431 | loss/mean: 1.1073584079742431 | loss/std: 0.027307238426226906 | lr: 0.02 | momentum: 0.9\n",
      "* Epoch (6/10) \n"
     ]
    },
    {
     "data": {
      "application/vnd.jupyter.widget-view+json": {
       "model_id": "f04623e39c0b47b38366c31e3abb3866",
       "version_major": 2,
       "version_minor": 0
      },
      "text/plain": [
       "7/10 * Epoch (train):   0%|          | 0/10 [00:00<?, ?it/s]"
      ]
     },
     "metadata": {},
     "output_type": "display_data"
    },
    {
     "name": "stdout",
     "output_type": "stream",
     "text": [
      "train (7/10) loss: 1.0975504040718078 | loss/mean: 1.0975504040718078 | loss/std: 0.017617901689430702 | lr: 0.02 | momentum: 0.9\n"
     ]
    },
    {
     "data": {
      "application/vnd.jupyter.widget-view+json": {
       "model_id": "573e892880e24f63a474e845ffa580a5",
       "version_major": 2,
       "version_minor": 0
      },
      "text/plain": [
       "7/10 * Epoch (valid):   0%|          | 0/5 [00:00<?, ?it/s]"
      ]
     },
     "metadata": {},
     "output_type": "display_data"
    },
    {
     "name": "stdout",
     "output_type": "stream",
     "text": [
      "valid (7/10) loss: 1.1068762063980102 | loss/mean: 1.1068762063980102 | loss/std: 0.025825682571447156 | lr: 0.02 | momentum: 0.9\n",
      "* Epoch (7/10) \n"
     ]
    },
    {
     "data": {
      "application/vnd.jupyter.widget-view+json": {
       "model_id": "e80f94eeb100422da024d5f3984369c8",
       "version_major": 2,
       "version_minor": 0
      },
      "text/plain": [
       "8/10 * Epoch (train):   0%|          | 0/10 [00:00<?, ?it/s]"
      ]
     },
     "metadata": {},
     "output_type": "display_data"
    },
    {
     "name": "stdout",
     "output_type": "stream",
     "text": [
      "train (8/10) loss: 1.097516942024231 | loss/mean: 1.097516942024231 | loss/std: 0.017167153732126853 | lr: 0.02 | momentum: 0.9\n"
     ]
    },
    {
     "data": {
      "application/vnd.jupyter.widget-view+json": {
       "model_id": "5e6131be01164c35864e70140afb86f2",
       "version_major": 2,
       "version_minor": 0
      },
      "text/plain": [
       "8/10 * Epoch (valid):   0%|          | 0/5 [00:00<?, ?it/s]"
      ]
     },
     "metadata": {},
     "output_type": "display_data"
    },
    {
     "name": "stdout",
     "output_type": "stream",
     "text": [
      "valid (8/10) loss: 1.106532382965088 | loss/mean: 1.106532382965088 | loss/std: 0.02478455928460296 | lr: 0.02 | momentum: 0.9\n",
      "* Epoch (8/10) \n"
     ]
    },
    {
     "data": {
      "application/vnd.jupyter.widget-view+json": {
       "model_id": "43d6dd6aa76d4d19a0b3f38fff90b3e0",
       "version_major": 2,
       "version_minor": 0
      },
      "text/plain": [
       "9/10 * Epoch (train):   0%|          | 0/10 [00:00<?, ?it/s]"
      ]
     },
     "metadata": {},
     "output_type": "display_data"
    },
    {
     "name": "stdout",
     "output_type": "stream",
     "text": [
      "train (9/10) loss: 1.0975015282630922 | loss/mean: 1.0975015282630922 | loss/std: 0.016823516321279566 | lr: 0.02 | momentum: 0.9\n"
     ]
    },
    {
     "data": {
      "application/vnd.jupyter.widget-view+json": {
       "model_id": "c2ecbcc344fa4b069799a48d99e40d81",
       "version_major": 2,
       "version_minor": 0
      },
      "text/plain": [
       "9/10 * Epoch (valid):   0%|          | 0/5 [00:00<?, ?it/s]"
      ]
     },
     "metadata": {},
     "output_type": "display_data"
    },
    {
     "name": "stdout",
     "output_type": "stream",
     "text": [
      "valid (9/10) loss: 1.1062801599502563 | loss/mean: 1.1062801599502563 | loss/std: 0.024034461315775812 | lr: 0.02 | momentum: 0.9\n",
      "* Epoch (9/10) \n"
     ]
    },
    {
     "data": {
      "application/vnd.jupyter.widget-view+json": {
       "model_id": "682e5829a8814bb9b72025b34fb43990",
       "version_major": 2,
       "version_minor": 0
      },
      "text/plain": [
       "10/10 * Epoch (train):   0%|          | 0/10 [00:00<?, ?it/s]"
      ]
     },
     "metadata": {},
     "output_type": "display_data"
    },
    {
     "name": "stdout",
     "output_type": "stream",
     "text": [
      "train (10/10) loss: 1.097493803501129 | loss/mean: 1.097493803501129 | loss/std: 0.016549599310891196 | lr: 0.02 | momentum: 0.9\n"
     ]
    },
    {
     "data": {
      "application/vnd.jupyter.widget-view+json": {
       "model_id": "7899d566740144c3b10edc9d9ec9f010",
       "version_major": 2,
       "version_minor": 0
      },
      "text/plain": [
       "10/10 * Epoch (valid):   0%|          | 0/5 [00:00<?, ?it/s]"
      ]
     },
     "metadata": {},
     "output_type": "display_data"
    },
    {
     "name": "stdout",
     "output_type": "stream",
     "text": [
      "valid (10/10) loss: 1.1060896635055542 | loss/mean: 1.1060896635055542 | loss/std: 0.023479974393890213 | lr: 0.02 | momentum: 0.9\n",
      "* Epoch (10/10) \n",
      "Top models:\n",
      "experiments/model.0010.pth\t10.0000\n"
     ]
    },
    {
     "data": {
      "application/vnd.jupyter.widget-view+json": {
       "model_id": "6bdf66544c0f4cb094a3574e81f36911",
       "version_major": 2,
       "version_minor": 0
      },
      "text/plain": [
       "1/10 * Epoch (train):   0%|          | 0/10 [00:00<?, ?it/s]"
      ]
     },
     "metadata": {},
     "output_type": "display_data"
    },
    {
     "name": "stdout",
     "output_type": "stream",
     "text": [
      "train (1/10) loss: 0.9295184850692749 | loss/mean: 0.9295184850692749 | loss/std: 0.11816499077979638 | lr: 0.02 | momentum: 0.9\n"
     ]
    },
    {
     "data": {
      "application/vnd.jupyter.widget-view+json": {
       "model_id": "85838525ac2b4862a95dbf9452f322e2",
       "version_major": 2,
       "version_minor": 0
      },
      "text/plain": [
       "1/10 * Epoch (valid):   0%|          | 0/5 [00:00<?, ?it/s]"
      ]
     },
     "metadata": {},
     "output_type": "display_data"
    },
    {
     "name": "stdout",
     "output_type": "stream",
     "text": [
      "valid (1/10) loss: 0.7207405686378479 | loss/mean: 0.7207405686378479 | loss/std: 0.06373605385308208 | lr: 0.02 | momentum: 0.9\n",
      "* Epoch (1/10) \n"
     ]
    },
    {
     "data": {
      "application/vnd.jupyter.widget-view+json": {
       "model_id": "e008ac87eeef43439fef9d08f9b75020",
       "version_major": 2,
       "version_minor": 0
      },
      "text/plain": [
       "2/10 * Epoch (train):   0%|          | 0/10 [00:00<?, ?it/s]"
      ]
     },
     "metadata": {},
     "output_type": "display_data"
    },
    {
     "name": "stdout",
     "output_type": "stream",
     "text": [
      "train (2/10) loss: 0.7089476227760315 | loss/mean: 0.7089476227760315 | loss/std: 0.05910339521529409 | lr: 0.02 | momentum: 0.9\n"
     ]
    },
    {
     "data": {
      "application/vnd.jupyter.widget-view+json": {
       "model_id": "52a74d2721cb4cc786474a6984526f01",
       "version_major": 2,
       "version_minor": 0
      },
      "text/plain": [
       "2/10 * Epoch (valid):   0%|          | 0/5 [00:00<?, ?it/s]"
      ]
     },
     "metadata": {},
     "output_type": "display_data"
    },
    {
     "name": "stdout",
     "output_type": "stream",
     "text": [
      "valid (2/10) loss: 0.6538740754127502 | loss/mean: 0.6538740754127502 | loss/std: 0.07357587447163616 | lr: 0.02 | momentum: 0.9\n",
      "* Epoch (2/10) \n"
     ]
    },
    {
     "data": {
      "application/vnd.jupyter.widget-view+json": {
       "model_id": "540c35fe08cf42429a33e92263863947",
       "version_major": 2,
       "version_minor": 0
      },
      "text/plain": [
       "3/10 * Epoch (train):   0%|          | 0/10 [00:00<?, ?it/s]"
      ]
     },
     "metadata": {},
     "output_type": "display_data"
    },
    {
     "name": "stdout",
     "output_type": "stream",
     "text": [
      "train (3/10) loss: 0.6506457149982453 | loss/mean: 0.6506457149982453 | loss/std: 0.04724080174061814 | lr: 0.02 | momentum: 0.9\n"
     ]
    },
    {
     "data": {
      "application/vnd.jupyter.widget-view+json": {
       "model_id": "c1c17053ffa044c1b93654f4544ff74a",
       "version_major": 2,
       "version_minor": 0
      },
      "text/plain": [
       "3/10 * Epoch (valid):   0%|          | 0/5 [00:00<?, ?it/s]"
      ]
     },
     "metadata": {},
     "output_type": "display_data"
    },
    {
     "name": "stdout",
     "output_type": "stream",
     "text": [
      "valid (3/10) loss: 0.6452373147010804 | loss/mean: 0.6452373147010804 | loss/std: 0.08077170518205681 | lr: 0.02 | momentum: 0.9\n",
      "* Epoch (3/10) \n"
     ]
    },
    {
     "data": {
      "application/vnd.jupyter.widget-view+json": {
       "model_id": "fbac0402dc644ab8938b85500de46391",
       "version_major": 2,
       "version_minor": 0
      },
      "text/plain": [
       "4/10 * Epoch (train):   0%|          | 0/10 [00:00<?, ?it/s]"
      ]
     },
     "metadata": {},
     "output_type": "display_data"
    },
    {
     "name": "stdout",
     "output_type": "stream",
     "text": [
      "train (4/10) loss: 0.6553415358066559 | loss/mean: 0.6553415358066559 | loss/std: 0.06528218567169962 | lr: 0.02 | momentum: 0.9\n"
     ]
    },
    {
     "data": {
      "application/vnd.jupyter.widget-view+json": {
       "model_id": "ed854e1401b24d498704bcd4cd3adc87",
       "version_major": 2,
       "version_minor": 0
      },
      "text/plain": [
       "4/10 * Epoch (valid):   0%|          | 0/5 [00:00<?, ?it/s]"
      ]
     },
     "metadata": {},
     "output_type": "display_data"
    },
    {
     "name": "stdout",
     "output_type": "stream",
     "text": [
      "valid (4/10) loss: 0.5835132718086242 | loss/mean: 0.5835132718086242 | loss/std: 0.02969018320211091 | lr: 0.02 | momentum: 0.9\n",
      "* Epoch (4/10) \n"
     ]
    },
    {
     "data": {
      "application/vnd.jupyter.widget-view+json": {
       "model_id": "568a631e79de421aa4f5722537f39e88",
       "version_major": 2,
       "version_minor": 0
      },
      "text/plain": [
       "5/10 * Epoch (train):   0%|          | 0/10 [00:00<?, ?it/s]"
      ]
     },
     "metadata": {},
     "output_type": "display_data"
    },
    {
     "name": "stdout",
     "output_type": "stream",
     "text": [
      "train (5/10) loss: 0.658927583694458 | loss/mean: 0.658927583694458 | loss/std: 0.08925094112221889 | lr: 0.02 | momentum: 0.9\n"
     ]
    },
    {
     "data": {
      "application/vnd.jupyter.widget-view+json": {
       "model_id": "b46325eaa59b47afa275da0c828491c2",
       "version_major": 2,
       "version_minor": 0
      },
      "text/plain": [
       "5/10 * Epoch (valid):   0%|          | 0/5 [00:00<?, ?it/s]"
      ]
     },
     "metadata": {},
     "output_type": "display_data"
    },
    {
     "name": "stdout",
     "output_type": "stream",
     "text": [
      "valid (5/10) loss: 0.5781643390655518 | loss/mean: 0.5781643390655518 | loss/std: 0.026995578725583457 | lr: 0.02 | momentum: 0.9\n",
      "* Epoch (5/10) \n"
     ]
    },
    {
     "data": {
      "application/vnd.jupyter.widget-view+json": {
       "model_id": "717f4fc4cd8843a5affb8c8c9cb9b9af",
       "version_major": 2,
       "version_minor": 0
      },
      "text/plain": [
       "6/10 * Epoch (train):   0%|          | 0/10 [00:00<?, ?it/s]"
      ]
     },
     "metadata": {},
     "output_type": "display_data"
    },
    {
     "name": "stdout",
     "output_type": "stream",
     "text": [
      "train (6/10) loss: 0.5916520535945892 | loss/mean: 0.5916520535945892 | loss/std: 0.05542719370796635 | lr: 0.02 | momentum: 0.9\n"
     ]
    },
    {
     "data": {
      "application/vnd.jupyter.widget-view+json": {
       "model_id": "65f782b3e4fc40afa72e5cdadb7a02db",
       "version_major": 2,
       "version_minor": 0
      },
      "text/plain": [
       "6/10 * Epoch (valid):   0%|          | 0/5 [00:00<?, ?it/s]"
      ]
     },
     "metadata": {},
     "output_type": "display_data"
    },
    {
     "name": "stdout",
     "output_type": "stream",
     "text": [
      "valid (6/10) loss: 0.5884732604026794 | loss/mean: 0.5884732604026794 | loss/std: 0.05555131765269237 | lr: 0.02 | momentum: 0.9\n",
      "* Epoch (6/10) \n"
     ]
    },
    {
     "data": {
      "application/vnd.jupyter.widget-view+json": {
       "model_id": "97479a052599400fb0d0ec7001bff5f0",
       "version_major": 2,
       "version_minor": 0
      },
      "text/plain": [
       "7/10 * Epoch (train):   0%|          | 0/10 [00:00<?, ?it/s]"
      ]
     },
     "metadata": {},
     "output_type": "display_data"
    },
    {
     "name": "stdout",
     "output_type": "stream",
     "text": [
      "train (7/10) loss: 0.6165164768695831 | loss/mean: 0.6165164768695831 | loss/std: 0.06690575787409085 | lr: 0.02 | momentum: 0.9\n"
     ]
    },
    {
     "data": {
      "application/vnd.jupyter.widget-view+json": {
       "model_id": "928ac6ca0fa04da88536dbf7bdc5c65f",
       "version_major": 2,
       "version_minor": 0
      },
      "text/plain": [
       "7/10 * Epoch (valid):   0%|          | 0/5 [00:00<?, ?it/s]"
      ]
     },
     "metadata": {},
     "output_type": "display_data"
    },
    {
     "name": "stdout",
     "output_type": "stream",
     "text": [
      "valid (7/10) loss: 0.5893872499465942 | loss/mean: 0.5893872499465942 | loss/std: 0.0356033560157542 | lr: 0.02 | momentum: 0.9\n",
      "* Epoch (7/10) \n"
     ]
    },
    {
     "data": {
      "application/vnd.jupyter.widget-view+json": {
       "model_id": "0ae6b2db824043429f31599ae13156d9",
       "version_major": 2,
       "version_minor": 0
      },
      "text/plain": [
       "8/10 * Epoch (train):   0%|          | 0/10 [00:00<?, ?it/s]"
      ]
     },
     "metadata": {},
     "output_type": "display_data"
    },
    {
     "name": "stdout",
     "output_type": "stream",
     "text": [
      "train (8/10) loss: 0.5954655408859253 | loss/mean: 0.5954655408859253 | loss/std: 0.0423661162545737 | lr: 0.02 | momentum: 0.9\n"
     ]
    },
    {
     "data": {
      "application/vnd.jupyter.widget-view+json": {
       "model_id": "cbd8a38343a84871b459bf23a5432247",
       "version_major": 2,
       "version_minor": 0
      },
      "text/plain": [
       "8/10 * Epoch (valid):   0%|          | 0/5 [00:00<?, ?it/s]"
      ]
     },
     "metadata": {},
     "output_type": "display_data"
    },
    {
     "name": "stdout",
     "output_type": "stream",
     "text": [
      "valid (8/10) loss: 0.5785757660865783 | loss/mean: 0.5785757660865783 | loss/std: 0.03422324969193398 | lr: 0.02 | momentum: 0.9\n",
      "* Epoch (8/10) \n"
     ]
    },
    {
     "data": {
      "application/vnd.jupyter.widget-view+json": {
       "model_id": "9d0309c1abe64cfb9bd7d2eb1729a7d1",
       "version_major": 2,
       "version_minor": 0
      },
      "text/plain": [
       "9/10 * Epoch (train):   0%|          | 0/10 [00:00<?, ?it/s]"
      ]
     },
     "metadata": {},
     "output_type": "display_data"
    },
    {
     "name": "stdout",
     "output_type": "stream",
     "text": [
      "train (9/10) loss: 0.6126774966716767 | loss/mean: 0.6126774966716767 | loss/std: 0.07111737698708845 | lr: 0.02 | momentum: 0.9\n"
     ]
    },
    {
     "data": {
      "application/vnd.jupyter.widget-view+json": {
       "model_id": "f7ae8e42b2a546b79377dd15e9f1a6f2",
       "version_major": 2,
       "version_minor": 0
      },
      "text/plain": [
       "9/10 * Epoch (valid):   0%|          | 0/5 [00:00<?, ?it/s]"
      ]
     },
     "metadata": {},
     "output_type": "display_data"
    },
    {
     "name": "stdout",
     "output_type": "stream",
     "text": [
      "valid (9/10) loss: 0.5862150907516479 | loss/mean: 0.5862150907516479 | loss/std: 0.03563951503785974 | lr: 0.02 | momentum: 0.9\n",
      "* Epoch (9/10) \n"
     ]
    },
    {
     "data": {
      "application/vnd.jupyter.widget-view+json": {
       "model_id": "2cd9c62d32aa48e5859bb05fbd736861",
       "version_major": 2,
       "version_minor": 0
      },
      "text/plain": [
       "10/10 * Epoch (train):   0%|          | 0/10 [00:00<?, ?it/s]"
      ]
     },
     "metadata": {},
     "output_type": "display_data"
    },
    {
     "name": "stdout",
     "output_type": "stream",
     "text": [
      "train (10/10) loss: 0.5786520719528199 | loss/mean: 0.5786520719528199 | loss/std: 0.04275780687441831 | lr: 0.02 | momentum: 0.9\n"
     ]
    },
    {
     "data": {
      "application/vnd.jupyter.widget-view+json": {
       "model_id": "79791b6ee7ec49bcb004bef3f5a69248",
       "version_major": 2,
       "version_minor": 0
      },
      "text/plain": [
       "10/10 * Epoch (valid):   0%|          | 0/5 [00:00<?, ?it/s]"
      ]
     },
     "metadata": {},
     "output_type": "display_data"
    },
    {
     "name": "stdout",
     "output_type": "stream",
     "text": [
      "valid (10/10) loss: 0.5759395360946655 | loss/mean: 0.5759395360946655 | loss/std: 0.04216534677937313 | lr: 0.02 | momentum: 0.9\n",
      "* Epoch (10/10) \n",
      "Top models:\n",
      "experiments/model.0010.pth\t10.0000\n"
     ]
    },
    {
     "data": {
      "application/vnd.jupyter.widget-view+json": {
       "model_id": "458c24e2ef30432fb305c7af849a5a0a",
       "version_major": 2,
       "version_minor": 0
      },
      "text/plain": [
       "1/10 * Epoch (train):   0%|          | 0/10 [00:00<?, ?it/s]"
      ]
     },
     "metadata": {},
     "output_type": "display_data"
    },
    {
     "name": "stdout",
     "output_type": "stream",
     "text": [
      "train (1/10) loss: 1.0865851998329163 | loss/mean: 1.0865851998329163 | loss/std: 0.02669242917748531 | lr: 0.02 | momentum: 0.9\n"
     ]
    },
    {
     "data": {
      "application/vnd.jupyter.widget-view+json": {
       "model_id": "6137b6e1bf714d3986888a2c45dd34c5",
       "version_major": 2,
       "version_minor": 0
      },
      "text/plain": [
       "1/10 * Epoch (valid):   0%|          | 0/5 [00:00<?, ?it/s]"
      ]
     },
     "metadata": {},
     "output_type": "display_data"
    },
    {
     "name": "stdout",
     "output_type": "stream",
     "text": [
      "valid (1/10) loss: 0.9957550406455994 | loss/mean: 0.9957550406455994 | loss/std: 0.03012931323655291 | lr: 0.02 | momentum: 0.9\n",
      "* Epoch (1/10) \n"
     ]
    },
    {
     "data": {
      "application/vnd.jupyter.widget-view+json": {
       "model_id": "a462fec4075c4eeb8aaec5aec045153a",
       "version_major": 2,
       "version_minor": 0
      },
      "text/plain": [
       "2/10 * Epoch (train):   0%|          | 0/10 [00:00<?, ?it/s]"
      ]
     },
     "metadata": {},
     "output_type": "display_data"
    },
    {
     "name": "stdout",
     "output_type": "stream",
     "text": [
      "train (2/10) loss: 0.8773194134235383 | loss/mean: 0.8773194134235383 | loss/std: 0.0790910401556081 | lr: 0.02 | momentum: 0.9\n"
     ]
    },
    {
     "data": {
      "application/vnd.jupyter.widget-view+json": {
       "model_id": "95d5fd85ef404f34b0f35a584c6017c9",
       "version_major": 2,
       "version_minor": 0
      },
      "text/plain": [
       "2/10 * Epoch (valid):   0%|          | 0/5 [00:00<?, ?it/s]"
      ]
     },
     "metadata": {},
     "output_type": "display_data"
    },
    {
     "name": "stdout",
     "output_type": "stream",
     "text": [
      "valid (2/10) loss: 0.7334404706954956 | loss/mean: 0.7334404706954956 | loss/std: 0.08508805069200134 | lr: 0.02 | momentum: 0.9\n",
      "* Epoch (2/10) \n"
     ]
    },
    {
     "data": {
      "application/vnd.jupyter.widget-view+json": {
       "model_id": "0dcd83df345649d59dcbb800a414ebc2",
       "version_major": 2,
       "version_minor": 0
      },
      "text/plain": [
       "3/10 * Epoch (train):   0%|          | 0/10 [00:00<?, ?it/s]"
      ]
     },
     "metadata": {},
     "output_type": "display_data"
    },
    {
     "name": "stdout",
     "output_type": "stream",
     "text": [
      "train (3/10) loss: 0.6993038773536682 | loss/mean: 0.6993038773536682 | loss/std: 0.039025352332644855 | lr: 0.02 | momentum: 0.9\n"
     ]
    },
    {
     "data": {
      "application/vnd.jupyter.widget-view+json": {
       "model_id": "ce92f4baa6dd41e69445a4d1d5415329",
       "version_major": 2,
       "version_minor": 0
      },
      "text/plain": [
       "3/10 * Epoch (valid):   0%|          | 0/5 [00:00<?, ?it/s]"
      ]
     },
     "metadata": {},
     "output_type": "display_data"
    },
    {
     "name": "stdout",
     "output_type": "stream",
     "text": [
      "valid (3/10) loss: 0.7210292458534241 | loss/mean: 0.7210292458534241 | loss/std: 0.11468677047429582 | lr: 0.02 | momentum: 0.9\n",
      "* Epoch (3/10) \n"
     ]
    },
    {
     "data": {
      "application/vnd.jupyter.widget-view+json": {
       "model_id": "7e3d6b1b89d04a98a986deb91d18a13e",
       "version_major": 2,
       "version_minor": 0
      },
      "text/plain": [
       "4/10 * Epoch (train):   0%|          | 0/10 [00:00<?, ?it/s]"
      ]
     },
     "metadata": {},
     "output_type": "display_data"
    },
    {
     "name": "stdout",
     "output_type": "stream",
     "text": [
      "train (4/10) loss: 0.6287056386470795 | loss/mean: 0.6287056386470795 | loss/std: 0.035211847241743026 | lr: 0.02 | momentum: 0.9\n"
     ]
    },
    {
     "data": {
      "application/vnd.jupyter.widget-view+json": {
       "model_id": "c5aca9e7da6c4181a31108f003e79e31",
       "version_major": 2,
       "version_minor": 0
      },
      "text/plain": [
       "4/10 * Epoch (valid):   0%|          | 0/5 [00:00<?, ?it/s]"
      ]
     },
     "metadata": {},
     "output_type": "display_data"
    },
    {
     "name": "stdout",
     "output_type": "stream",
     "text": [
      "valid (4/10) loss: 0.62687908411026 | loss/mean: 0.62687908411026 | loss/std: 0.08721871425374866 | lr: 0.02 | momentum: 0.9\n",
      "* Epoch (4/10) \n"
     ]
    },
    {
     "data": {
      "application/vnd.jupyter.widget-view+json": {
       "model_id": "a5f0bb3d644e479f900880a19a02e011",
       "version_major": 2,
       "version_minor": 0
      },
      "text/plain": [
       "5/10 * Epoch (train):   0%|          | 0/10 [00:00<?, ?it/s]"
      ]
     },
     "metadata": {},
     "output_type": "display_data"
    },
    {
     "name": "stdout",
     "output_type": "stream",
     "text": [
      "train (5/10) loss: 0.6369826316833497 | loss/mean: 0.6369826316833497 | loss/std: 0.09800166540094854 | lr: 0.02 | momentum: 0.9\n"
     ]
    },
    {
     "data": {
      "application/vnd.jupyter.widget-view+json": {
       "model_id": "a913e6ddfb194380a76cb719b59ee5cd",
       "version_major": 2,
       "version_minor": 0
      },
      "text/plain": [
       "5/10 * Epoch (valid):   0%|          | 0/5 [00:00<?, ?it/s]"
      ]
     },
     "metadata": {},
     "output_type": "display_data"
    },
    {
     "name": "stdout",
     "output_type": "stream",
     "text": [
      "valid (5/10) loss: 0.769257640838623 | loss/mean: 0.769257640838623 | loss/std: 0.13475983953902076 | lr: 0.02 | momentum: 0.9\n",
      "* Epoch (5/10) \n"
     ]
    },
    {
     "data": {
      "application/vnd.jupyter.widget-view+json": {
       "model_id": "c5868625f95b444d96e489e423ff998a",
       "version_major": 2,
       "version_minor": 0
      },
      "text/plain": [
       "6/10 * Epoch (train):   0%|          | 0/10 [00:00<?, ?it/s]"
      ]
     },
     "metadata": {},
     "output_type": "display_data"
    },
    {
     "name": "stdout",
     "output_type": "stream",
     "text": [
      "train (6/10) loss: 0.6519611597061158 | loss/mean: 0.6519611597061158 | loss/std: 0.07514423994841933 | lr: 0.02 | momentum: 0.9\n"
     ]
    },
    {
     "data": {
      "application/vnd.jupyter.widget-view+json": {
       "model_id": "87d9188375d54ee1838d8eb9bee76c80",
       "version_major": 2,
       "version_minor": 0
      },
      "text/plain": [
       "6/10 * Epoch (valid):   0%|          | 0/5 [00:00<?, ?it/s]"
      ]
     },
     "metadata": {},
     "output_type": "display_data"
    },
    {
     "name": "stdout",
     "output_type": "stream",
     "text": [
      "valid (6/10) loss: 0.7591234922409058 | loss/mean: 0.7591234922409058 | loss/std: 0.13014316400440495 | lr: 0.02 | momentum: 0.9\n",
      "* Epoch (6/10) \n"
     ]
    },
    {
     "data": {
      "application/vnd.jupyter.widget-view+json": {
       "model_id": "e37ef63e4b3b4a24ba0d71f875fb96f9",
       "version_major": 2,
       "version_minor": 0
      },
      "text/plain": [
       "7/10 * Epoch (train):   0%|          | 0/10 [00:00<?, ?it/s]"
      ]
     },
     "metadata": {},
     "output_type": "display_data"
    },
    {
     "name": "stdout",
     "output_type": "stream",
     "text": [
      "train (7/10) loss: 0.7009758830070494 | loss/mean: 0.7009758830070494 | loss/std: 0.12501142970338164 | lr: 0.02 | momentum: 0.9\n"
     ]
    },
    {
     "data": {
      "application/vnd.jupyter.widget-view+json": {
       "model_id": "170ac044875f48e1bead578333f978b5",
       "version_major": 2,
       "version_minor": 0
      },
      "text/plain": [
       "7/10 * Epoch (valid):   0%|          | 0/5 [00:00<?, ?it/s]"
      ]
     },
     "metadata": {},
     "output_type": "display_data"
    },
    {
     "name": "stdout",
     "output_type": "stream",
     "text": [
      "valid (7/10) loss: 0.6994033455848694 | loss/mean: 0.6994033455848694 | loss/std: 0.09429992695791868 | lr: 0.02 | momentum: 0.9\n",
      "* Epoch (7/10) \n"
     ]
    },
    {
     "data": {
      "application/vnd.jupyter.widget-view+json": {
       "model_id": "e43005dea7544366b844dac64263cb6e",
       "version_major": 2,
       "version_minor": 0
      },
      "text/plain": [
       "8/10 * Epoch (train):   0%|          | 0/10 [00:00<?, ?it/s]"
      ]
     },
     "metadata": {},
     "output_type": "display_data"
    },
    {
     "name": "stdout",
     "output_type": "stream",
     "text": [
      "train (8/10) loss: 0.6517475843429565 | loss/mean: 0.6517475843429565 | loss/std: 0.09539866891202887 | lr: 0.02 | momentum: 0.9\n"
     ]
    },
    {
     "data": {
      "application/vnd.jupyter.widget-view+json": {
       "model_id": "3fc50c1644994d669cdd769d95266fb4",
       "version_major": 2,
       "version_minor": 0
      },
      "text/plain": [
       "8/10 * Epoch (valid):   0%|          | 0/5 [00:00<?, ?it/s]"
      ]
     },
     "metadata": {},
     "output_type": "display_data"
    },
    {
     "name": "stdout",
     "output_type": "stream",
     "text": [
      "valid (8/10) loss: 0.6109590172767639 | loss/mean: 0.6109590172767639 | loss/std: 0.08249543386702406 | lr: 0.02 | momentum: 0.9\n",
      "* Epoch (8/10) \n"
     ]
    },
    {
     "data": {
      "application/vnd.jupyter.widget-view+json": {
       "model_id": "eb3bff89a9ca4addbb8a4cdeadbd4398",
       "version_major": 2,
       "version_minor": 0
      },
      "text/plain": [
       "9/10 * Epoch (train):   0%|          | 0/10 [00:00<?, ?it/s]"
      ]
     },
     "metadata": {},
     "output_type": "display_data"
    },
    {
     "name": "stdout",
     "output_type": "stream",
     "text": [
      "train (9/10) loss: 0.6110015749931336 | loss/mean: 0.6110015749931336 | loss/std: 0.07539349750466828 | lr: 0.02 | momentum: 0.9\n"
     ]
    },
    {
     "data": {
      "application/vnd.jupyter.widget-view+json": {
       "model_id": "8e600f6e02ac41b69b7e2655707afdbd",
       "version_major": 2,
       "version_minor": 0
      },
      "text/plain": [
       "9/10 * Epoch (valid):   0%|          | 0/5 [00:00<?, ?it/s]"
      ]
     },
     "metadata": {},
     "output_type": "display_data"
    },
    {
     "name": "stdout",
     "output_type": "stream",
     "text": [
      "valid (9/10) loss: 0.608959698677063 | loss/mean: 0.608959698677063 | loss/std: 0.044434016277417936 | lr: 0.02 | momentum: 0.9\n",
      "* Epoch (9/10) \n"
     ]
    },
    {
     "data": {
      "application/vnd.jupyter.widget-view+json": {
       "model_id": "06f42ca9f343476ab49d06c536807d65",
       "version_major": 2,
       "version_minor": 0
      },
      "text/plain": [
       "10/10 * Epoch (train):   0%|          | 0/10 [00:00<?, ?it/s]"
      ]
     },
     "metadata": {},
     "output_type": "display_data"
    },
    {
     "name": "stdout",
     "output_type": "stream",
     "text": [
      "train (10/10) loss: 0.6099966466426849 | loss/mean: 0.6099966466426849 | loss/std: 0.056447309308512786 | lr: 0.02 | momentum: 0.9\n"
     ]
    },
    {
     "data": {
      "application/vnd.jupyter.widget-view+json": {
       "model_id": "10b34ea9b4014bbdb0547991b6a0e048",
       "version_major": 2,
       "version_minor": 0
      },
      "text/plain": [
       "10/10 * Epoch (valid):   0%|          | 0/5 [00:00<?, ?it/s]"
      ]
     },
     "metadata": {},
     "output_type": "display_data"
    },
    {
     "name": "stdout",
     "output_type": "stream",
     "text": [
      "valid (10/10) loss: 0.5926025390625 | loss/mean: 0.5926025390625 | loss/std: 0.03774171159872699 | lr: 0.02 | momentum: 0.9\n",
      "* Epoch (10/10) \n",
      "Top models:\n",
      "experiments/model.0010.pth\t10.0000\n"
     ]
    },
    {
     "data": {
      "application/vnd.jupyter.widget-view+json": {
       "model_id": "e3988886d89a453db4af6d04b08e496e",
       "version_major": 2,
       "version_minor": 0
      },
      "text/plain": [
       "1/10 * Epoch (train):   0%|          | 0/10 [00:00<?, ?it/s]"
      ]
     },
     "metadata": {},
     "output_type": "display_data"
    },
    {
     "name": "stdout",
     "output_type": "stream",
     "text": [
      "train (1/10) loss: 0.993522238731384 | loss/mean: 0.993522238731384 | loss/std: 0.0988950343392185 | lr: 0.02 | momentum: 0.9\n"
     ]
    },
    {
     "data": {
      "application/vnd.jupyter.widget-view+json": {
       "model_id": "8ed7c170711140a9bb550a69816bf0db",
       "version_major": 2,
       "version_minor": 0
      },
      "text/plain": [
       "1/10 * Epoch (valid):   0%|          | 0/5 [00:00<?, ?it/s]"
      ]
     },
     "metadata": {},
     "output_type": "display_data"
    },
    {
     "name": "stdout",
     "output_type": "stream",
     "text": [
      "valid (1/10) loss: 0.8101032614707947 | loss/mean: 0.8101032614707947 | loss/std: 0.15688483624036073 | lr: 0.02 | momentum: 0.9\n",
      "* Epoch (1/10) \n"
     ]
    },
    {
     "data": {
      "application/vnd.jupyter.widget-view+json": {
       "model_id": "3a562aeff1534487babf841220b74b0a",
       "version_major": 2,
       "version_minor": 0
      },
      "text/plain": [
       "2/10 * Epoch (train):   0%|          | 0/10 [00:00<?, ?it/s]"
      ]
     },
     "metadata": {},
     "output_type": "display_data"
    },
    {
     "name": "stdout",
     "output_type": "stream",
     "text": [
      "train (2/10) loss: 0.7894082188606263 | loss/mean: 0.7894082188606263 | loss/std: 0.09536109618425472 | lr: 0.02 | momentum: 0.9\n"
     ]
    },
    {
     "data": {
      "application/vnd.jupyter.widget-view+json": {
       "model_id": "7be28d56ab5348be9b5db9c9f4617808",
       "version_major": 2,
       "version_minor": 0
      },
      "text/plain": [
       "2/10 * Epoch (valid):   0%|          | 0/5 [00:00<?, ?it/s]"
      ]
     },
     "metadata": {},
     "output_type": "display_data"
    },
    {
     "name": "stdout",
     "output_type": "stream",
     "text": [
      "valid (2/10) loss: 0.6204255819320679 | loss/mean: 0.6204255819320679 | loss/std: 0.0644742268398185 | lr: 0.02 | momentum: 0.9\n",
      "* Epoch (2/10) \n"
     ]
    },
    {
     "data": {
      "application/vnd.jupyter.widget-view+json": {
       "model_id": "8bec205588954333a397db85bb848e54",
       "version_major": 2,
       "version_minor": 0
      },
      "text/plain": [
       "3/10 * Epoch (train):   0%|          | 0/10 [00:00<?, ?it/s]"
      ]
     },
     "metadata": {},
     "output_type": "display_data"
    },
    {
     "name": "stdout",
     "output_type": "stream",
     "text": [
      "train (3/10) loss: 0.6306946277618408 | loss/mean: 0.6306946277618408 | loss/std: 0.14192770513857622 | lr: 0.02 | momentum: 0.9\n"
     ]
    },
    {
     "data": {
      "application/vnd.jupyter.widget-view+json": {
       "model_id": "ad26ecfa7b0345fa8496aeaf50587227",
       "version_major": 2,
       "version_minor": 0
      },
      "text/plain": [
       "3/10 * Epoch (valid):   0%|          | 0/5 [00:00<?, ?it/s]"
      ]
     },
     "metadata": {},
     "output_type": "display_data"
    },
    {
     "name": "stdout",
     "output_type": "stream",
     "text": [
      "valid (3/10) loss: 0.670367443561554 | loss/mean: 0.670367443561554 | loss/std: 0.09262036587306376 | lr: 0.02 | momentum: 0.9\n",
      "* Epoch (3/10) \n"
     ]
    },
    {
     "data": {
      "application/vnd.jupyter.widget-view+json": {
       "model_id": "e1f091aeb1fe40578c4c2c2644a945c2",
       "version_major": 2,
       "version_minor": 0
      },
      "text/plain": [
       "4/10 * Epoch (train):   0%|          | 0/10 [00:00<?, ?it/s]"
      ]
     },
     "metadata": {},
     "output_type": "display_data"
    },
    {
     "name": "stdout",
     "output_type": "stream",
     "text": [
      "train (4/10) loss: 0.9241598784923553 | loss/mean: 0.9241598784923553 | loss/std: 0.18383546729379857 | lr: 0.02 | momentum: 0.9\n"
     ]
    },
    {
     "data": {
      "application/vnd.jupyter.widget-view+json": {
       "model_id": "cde554cbaf3d4c19b11bf9f67e817a31",
       "version_major": 2,
       "version_minor": 0
      },
      "text/plain": [
       "4/10 * Epoch (valid):   0%|          | 0/5 [00:00<?, ?it/s]"
      ]
     },
     "metadata": {},
     "output_type": "display_data"
    },
    {
     "name": "stdout",
     "output_type": "stream",
     "text": [
      "valid (4/10) loss: 0.8714446306228638 | loss/mean: 0.8714446306228638 | loss/std: 0.17379329578268435 | lr: 0.02 | momentum: 0.9\n",
      "* Epoch (4/10) \n"
     ]
    },
    {
     "data": {
      "application/vnd.jupyter.widget-view+json": {
       "model_id": "c1813066ec5c47b688c79199c4865f74",
       "version_major": 2,
       "version_minor": 0
      },
      "text/plain": [
       "5/10 * Epoch (train):   0%|          | 0/10 [00:00<?, ?it/s]"
      ]
     },
     "metadata": {},
     "output_type": "display_data"
    },
    {
     "name": "stdout",
     "output_type": "stream",
     "text": [
      "train (5/10) loss: 0.9402637779712677 | loss/mean: 0.9402637779712677 | loss/std: 0.16203113991679716 | lr: 0.02 | momentum: 0.9\n"
     ]
    },
    {
     "data": {
      "application/vnd.jupyter.widget-view+json": {
       "model_id": "ebb66fde31e44fc9b292344039d60a8a",
       "version_major": 2,
       "version_minor": 0
      },
      "text/plain": [
       "5/10 * Epoch (valid):   0%|          | 0/5 [00:00<?, ?it/s]"
      ]
     },
     "metadata": {},
     "output_type": "display_data"
    },
    {
     "name": "stdout",
     "output_type": "stream",
     "text": [
      "valid (5/10) loss: 0.8714446306228638 | loss/mean: 0.8714446306228638 | loss/std: 0.17379329578268435 | lr: 0.02 | momentum: 0.9\n",
      "* Epoch (5/10) \n"
     ]
    },
    {
     "data": {
      "application/vnd.jupyter.widget-view+json": {
       "model_id": "218c7ac07e5f4520936f069280e376c6",
       "version_major": 2,
       "version_minor": 0
      },
      "text/plain": [
       "6/10 * Epoch (train):   0%|          | 0/10 [00:00<?, ?it/s]"
      ]
     },
     "metadata": {},
     "output_type": "display_data"
    },
    {
     "name": "stdout",
     "output_type": "stream",
     "text": [
      "train (6/10) loss: 0.8914446353912354 | loss/mean: 0.8914446353912354 | loss/std: 0.1363300141072458 | lr: 0.02 | momentum: 0.9\n"
     ]
    },
    {
     "data": {
      "application/vnd.jupyter.widget-view+json": {
       "model_id": "c9f65bf9f90d4a2ea7f7a06ff7faf539",
       "version_major": 2,
       "version_minor": 0
      },
      "text/plain": [
       "6/10 * Epoch (valid):   0%|          | 0/5 [00:00<?, ?it/s]"
      ]
     },
     "metadata": {},
     "output_type": "display_data"
    },
    {
     "name": "stdout",
     "output_type": "stream",
     "text": [
      "valid (6/10) loss: 0.8714446306228638 | loss/mean: 0.8714446306228638 | loss/std: 0.17379329578268435 | lr: 0.02 | momentum: 0.9\n",
      "* Epoch (6/10) \n"
     ]
    },
    {
     "data": {
      "application/vnd.jupyter.widget-view+json": {
       "model_id": "c7995f95ae674202a790ea57327246ba",
       "version_major": 2,
       "version_minor": 0
      },
      "text/plain": [
       "7/10 * Epoch (train):   0%|          | 0/10 [00:00<?, ?it/s]"
      ]
     },
     "metadata": {},
     "output_type": "display_data"
    },
    {
     "name": "stdout",
     "output_type": "stream",
     "text": [
      "train (7/10) loss: 0.8914446353912354 | loss/mean: 0.8914446353912354 | loss/std: 0.1363300141072458 | lr: 0.02 | momentum: 0.9\n"
     ]
    },
    {
     "data": {
      "application/vnd.jupyter.widget-view+json": {
       "model_id": "bbbe7fc57d1041e686a63c1aafd4843d",
       "version_major": 2,
       "version_minor": 0
      },
      "text/plain": [
       "7/10 * Epoch (valid):   0%|          | 0/5 [00:00<?, ?it/s]"
      ]
     },
     "metadata": {},
     "output_type": "display_data"
    },
    {
     "name": "stdout",
     "output_type": "stream",
     "text": [
      "valid (7/10) loss: 0.8714446306228638 | loss/mean: 0.8714446306228638 | loss/std: 0.17379329578268435 | lr: 0.02 | momentum: 0.9\n",
      "* Epoch (7/10) \n"
     ]
    },
    {
     "data": {
      "application/vnd.jupyter.widget-view+json": {
       "model_id": "ed06d2ba5b0e4888998528ce399d0248",
       "version_major": 2,
       "version_minor": 0
      },
      "text/plain": [
       "8/10 * Epoch (train):   0%|          | 0/10 [00:00<?, ?it/s]"
      ]
     },
     "metadata": {},
     "output_type": "display_data"
    },
    {
     "name": "stdout",
     "output_type": "stream",
     "text": [
      "train (8/10) loss: 0.8914446413516999 | loss/mean: 0.8914446413516999 | loss/std: 0.13633000792449745 | lr: 0.02 | momentum: 0.9\n"
     ]
    },
    {
     "data": {
      "application/vnd.jupyter.widget-view+json": {
       "model_id": "fe1ce7ee859e4cdbbb5fc0e55fe4b1ed",
       "version_major": 2,
       "version_minor": 0
      },
      "text/plain": [
       "8/10 * Epoch (valid):   0%|          | 0/5 [00:00<?, ?it/s]"
      ]
     },
     "metadata": {},
     "output_type": "display_data"
    },
    {
     "name": "stdout",
     "output_type": "stream",
     "text": [
      "valid (8/10) loss: 0.8714446306228638 | loss/mean: 0.8714446306228638 | loss/std: 0.17379329578268435 | lr: 0.02 | momentum: 0.9\n",
      "* Epoch (8/10) \n"
     ]
    },
    {
     "data": {
      "application/vnd.jupyter.widget-view+json": {
       "model_id": "94ea27f876c94b2281e6c2d64e9614be",
       "version_major": 2,
       "version_minor": 0
      },
      "text/plain": [
       "9/10 * Epoch (train):   0%|          | 0/10 [00:00<?, ?it/s]"
      ]
     },
     "metadata": {},
     "output_type": "display_data"
    },
    {
     "name": "stdout",
     "output_type": "stream",
     "text": [
      "train (9/10) loss: 0.8914446592330932 | loss/mean: 0.8914446592330932 | loss/std: 0.13633001587376004 | lr: 0.02 | momentum: 0.9\n"
     ]
    },
    {
     "data": {
      "application/vnd.jupyter.widget-view+json": {
       "model_id": "30cc84eeefbd4d919ed6d45e3b3e818f",
       "version_major": 2,
       "version_minor": 0
      },
      "text/plain": [
       "9/10 * Epoch (valid):   0%|          | 0/5 [00:00<?, ?it/s]"
      ]
     },
     "metadata": {},
     "output_type": "display_data"
    },
    {
     "name": "stdout",
     "output_type": "stream",
     "text": [
      "valid (9/10) loss: 0.8714446306228638 | loss/mean: 0.8714446306228638 | loss/std: 0.17379329578268435 | lr: 0.02 | momentum: 0.9\n",
      "* Epoch (9/10) \n"
     ]
    },
    {
     "data": {
      "application/vnd.jupyter.widget-view+json": {
       "model_id": "c2478529ef404d69a6bbda7a9e94a913",
       "version_major": 2,
       "version_minor": 0
      },
      "text/plain": [
       "10/10 * Epoch (train):   0%|          | 0/10 [00:00<?, ?it/s]"
      ]
     },
     "metadata": {},
     "output_type": "display_data"
    },
    {
     "name": "stdout",
     "output_type": "stream",
     "text": [
      "train (10/10) loss: 0.8914446651935578 | loss/mean: 0.8914446651935578 | loss/std: 0.13633001852351362 | lr: 0.02 | momentum: 0.9\n"
     ]
    },
    {
     "data": {
      "application/vnd.jupyter.widget-view+json": {
       "model_id": "0888c2dc9f824a56b926334bd59b6f2c",
       "version_major": 2,
       "version_minor": 0
      },
      "text/plain": [
       "10/10 * Epoch (valid):   0%|          | 0/5 [00:00<?, ?it/s]"
      ]
     },
     "metadata": {},
     "output_type": "display_data"
    },
    {
     "name": "stdout",
     "output_type": "stream",
     "text": [
      "valid (10/10) loss: 0.8714446306228638 | loss/mean: 0.8714446306228638 | loss/std: 0.17379329578268435 | lr: 0.02 | momentum: 0.9\n",
      "* Epoch (10/10) \n",
      "Top models:\n",
      "experiments/model.0010.pth\t10.0000\n"
     ]
    },
    {
     "data": {
      "application/vnd.jupyter.widget-view+json": {
       "model_id": "aec2cbda0b9b4327a0e2926690f26b44",
       "version_major": 2,
       "version_minor": 0
      },
      "text/plain": [
       "1/10 * Epoch (train):   0%|          | 0/10 [00:00<?, ?it/s]"
      ]
     },
     "metadata": {},
     "output_type": "display_data"
    },
    {
     "name": "stdout",
     "output_type": "stream",
     "text": [
      "train (1/10) loss: 0.9553937315940858 | loss/mean: 0.9553937315940858 | loss/std: 0.09760076823614088 | lr: 0.02 | momentum: 0.9\n"
     ]
    },
    {
     "data": {
      "application/vnd.jupyter.widget-view+json": {
       "model_id": "db4f444a15544394b9d63382d7c1d810",
       "version_major": 2,
       "version_minor": 0
      },
      "text/plain": [
       "1/10 * Epoch (valid):   0%|          | 0/5 [00:00<?, ?it/s]"
      ]
     },
     "metadata": {},
     "output_type": "display_data"
    },
    {
     "name": "stdout",
     "output_type": "stream",
     "text": [
      "valid (1/10) loss: 0.7796916842460633 | loss/mean: 0.7796916842460633 | loss/std: 0.14193713886697062 | lr: 0.02 | momentum: 0.9\n",
      "* Epoch (1/10) \n"
     ]
    },
    {
     "data": {
      "application/vnd.jupyter.widget-view+json": {
       "model_id": "a61d09ec8d86466d995fc249475d4454",
       "version_major": 2,
       "version_minor": 0
      },
      "text/plain": [
       "2/10 * Epoch (train):   0%|          | 0/10 [00:00<?, ?it/s]"
      ]
     },
     "metadata": {},
     "output_type": "display_data"
    },
    {
     "name": "stdout",
     "output_type": "stream",
     "text": [
      "train (2/10) loss: 0.732365620136261 | loss/mean: 0.732365620136261 | loss/std: 0.07209236827890421 | lr: 0.02 | momentum: 0.9\n"
     ]
    },
    {
     "data": {
      "application/vnd.jupyter.widget-view+json": {
       "model_id": "1a9d383c60d9484abf55217aa9fc1cb0",
       "version_major": 2,
       "version_minor": 0
      },
      "text/plain": [
       "2/10 * Epoch (valid):   0%|          | 0/5 [00:00<?, ?it/s]"
      ]
     },
     "metadata": {},
     "output_type": "display_data"
    },
    {
     "name": "stdout",
     "output_type": "stream",
     "text": [
      "valid (2/10) loss: 0.6251379489898682 | loss/mean: 0.6251379489898682 | loss/std: 0.054022197415904846 | lr: 0.02 | momentum: 0.9\n",
      "* Epoch (2/10) \n"
     ]
    },
    {
     "data": {
      "application/vnd.jupyter.widget-view+json": {
       "model_id": "fba4cd84588c45ff9bd301d0f4e61739",
       "version_major": 2,
       "version_minor": 0
      },
      "text/plain": [
       "3/10 * Epoch (train):   0%|          | 0/10 [00:00<?, ?it/s]"
      ]
     },
     "metadata": {},
     "output_type": "display_data"
    },
    {
     "name": "stdout",
     "output_type": "stream",
     "text": [
      "train (3/10) loss: 0.6443577826023102 | loss/mean: 0.6443577826023102 | loss/std: 0.08397720456300388 | lr: 0.02 | momentum: 0.9\n"
     ]
    },
    {
     "data": {
      "application/vnd.jupyter.widget-view+json": {
       "model_id": "6ce1fdf716524333910a922a80e406ba",
       "version_major": 2,
       "version_minor": 0
      },
      "text/plain": [
       "3/10 * Epoch (valid):   0%|          | 0/5 [00:00<?, ?it/s]"
      ]
     },
     "metadata": {},
     "output_type": "display_data"
    },
    {
     "name": "stdout",
     "output_type": "stream",
     "text": [
      "valid (3/10) loss: 0.6583304047584534 | loss/mean: 0.6583304047584534 | loss/std: 0.09681627583615374 | lr: 0.02 | momentum: 0.9\n",
      "* Epoch (3/10) \n"
     ]
    },
    {
     "data": {
      "application/vnd.jupyter.widget-view+json": {
       "model_id": "f446d7d626a54853bf246f89951b6dce",
       "version_major": 2,
       "version_minor": 0
      },
      "text/plain": [
       "4/10 * Epoch (train):   0%|          | 0/10 [00:00<?, ?it/s]"
      ]
     },
     "metadata": {},
     "output_type": "display_data"
    },
    {
     "name": "stdout",
     "output_type": "stream",
     "text": [
      "train (4/10) loss: 0.6204826354980468 | loss/mean: 0.6204826354980468 | loss/std: 0.08434629249636576 | lr: 0.02 | momentum: 0.9\n"
     ]
    },
    {
     "data": {
      "application/vnd.jupyter.widget-view+json": {
       "model_id": "b13a27f7afd546afa634d04f811e3a0f",
       "version_major": 2,
       "version_minor": 0
      },
      "text/plain": [
       "4/10 * Epoch (valid):   0%|          | 0/5 [00:00<?, ?it/s]"
      ]
     },
     "metadata": {},
     "output_type": "display_data"
    },
    {
     "name": "stdout",
     "output_type": "stream",
     "text": [
      "valid (4/10) loss: 0.5774261593818665 | loss/mean: 0.5774261593818665 | loss/std: 0.04094954352109144 | lr: 0.02 | momentum: 0.9\n",
      "* Epoch (4/10) \n"
     ]
    },
    {
     "data": {
      "application/vnd.jupyter.widget-view+json": {
       "model_id": "ec72f3b6f6264dcba810dc47f349cdcb",
       "version_major": 2,
       "version_minor": 0
      },
      "text/plain": [
       "5/10 * Epoch (train):   0%|          | 0/10 [00:00<?, ?it/s]"
      ]
     },
     "metadata": {},
     "output_type": "display_data"
    },
    {
     "name": "stdout",
     "output_type": "stream",
     "text": [
      "train (5/10) loss: 0.5807715117931366 | loss/mean: 0.5807715117931366 | loss/std: 0.043754491029493275 | lr: 0.02 | momentum: 0.9\n"
     ]
    },
    {
     "data": {
      "application/vnd.jupyter.widget-view+json": {
       "model_id": "636d69dd73814d649c4b9da23f8fcf2b",
       "version_major": 2,
       "version_minor": 0
      },
      "text/plain": [
       "5/10 * Epoch (valid):   0%|          | 0/5 [00:00<?, ?it/s]"
      ]
     },
     "metadata": {},
     "output_type": "display_data"
    },
    {
     "name": "stdout",
     "output_type": "stream",
     "text": [
      "valid (5/10) loss: 0.5768926620483399 | loss/mean: 0.5768926620483399 | loss/std: 0.03904288006267863 | lr: 0.02 | momentum: 0.9\n",
      "* Epoch (5/10) \n"
     ]
    },
    {
     "data": {
      "application/vnd.jupyter.widget-view+json": {
       "model_id": "e1255df076df4e50a0262a7eb02b71d8",
       "version_major": 2,
       "version_minor": 0
      },
      "text/plain": [
       "6/10 * Epoch (train):   0%|          | 0/10 [00:00<?, ?it/s]"
      ]
     },
     "metadata": {},
     "output_type": "display_data"
    },
    {
     "name": "stdout",
     "output_type": "stream",
     "text": [
      "train (6/10) loss: 0.6020415186882019 | loss/mean: 0.6020415186882019 | loss/std: 0.073110166746207 | lr: 0.02 | momentum: 0.9\n"
     ]
    },
    {
     "data": {
      "application/vnd.jupyter.widget-view+json": {
       "model_id": "9ed76f0c59244db1af55ed1d2dcba957",
       "version_major": 2,
       "version_minor": 0
      },
      "text/plain": [
       "6/10 * Epoch (valid):   0%|          | 0/5 [00:00<?, ?it/s]"
      ]
     },
     "metadata": {},
     "output_type": "display_data"
    },
    {
     "name": "stdout",
     "output_type": "stream",
     "text": [
      "valid (6/10) loss: 0.6089018225669861 | loss/mean: 0.6089018225669861 | loss/std: 0.08376878401275896 | lr: 0.02 | momentum: 0.9\n",
      "* Epoch (6/10) \n"
     ]
    },
    {
     "data": {
      "application/vnd.jupyter.widget-view+json": {
       "model_id": "ddf3fcabf5c54dc19a492a1786854de6",
       "version_major": 2,
       "version_minor": 0
      },
      "text/plain": [
       "7/10 * Epoch (train):   0%|          | 0/10 [00:00<?, ?it/s]"
      ]
     },
     "metadata": {},
     "output_type": "display_data"
    },
    {
     "name": "stdout",
     "output_type": "stream",
     "text": [
      "train (7/10) loss: 0.6573756873607635 | loss/mean: 0.6573756873607635 | loss/std: 0.09547846176498638 | lr: 0.02 | momentum: 0.9\n"
     ]
    },
    {
     "data": {
      "application/vnd.jupyter.widget-view+json": {
       "model_id": "23cdecca935346a79ff767e7decad950",
       "version_major": 2,
       "version_minor": 0
      },
      "text/plain": [
       "7/10 * Epoch (valid):   0%|          | 0/5 [00:00<?, ?it/s]"
      ]
     },
     "metadata": {},
     "output_type": "display_data"
    },
    {
     "name": "stdout",
     "output_type": "stream",
     "text": [
      "valid (7/10) loss: 0.5762292742729187 | loss/mean: 0.5762292742729187 | loss/std: 0.031830793447807856 | lr: 0.02 | momentum: 0.9\n",
      "* Epoch (7/10) \n"
     ]
    },
    {
     "data": {
      "application/vnd.jupyter.widget-view+json": {
       "model_id": "32133d4e288742b9a6388c7d7bc8370c",
       "version_major": 2,
       "version_minor": 0
      },
      "text/plain": [
       "8/10 * Epoch (train):   0%|          | 0/10 [00:00<?, ?it/s]"
      ]
     },
     "metadata": {},
     "output_type": "display_data"
    },
    {
     "name": "stdout",
     "output_type": "stream",
     "text": [
      "train (8/10) loss: 0.6764450430870057 | loss/mean: 0.6764450430870057 | loss/std: 0.101566993811771 | lr: 0.02 | momentum: 0.9\n"
     ]
    },
    {
     "data": {
      "application/vnd.jupyter.widget-view+json": {
       "model_id": "d586b76ae62b4e52a75c119870ebecdc",
       "version_major": 2,
       "version_minor": 0
      },
      "text/plain": [
       "8/10 * Epoch (valid):   0%|          | 0/5 [00:00<?, ?it/s]"
      ]
     },
     "metadata": {},
     "output_type": "display_data"
    },
    {
     "name": "stdout",
     "output_type": "stream",
     "text": [
      "valid (8/10) loss: 0.6201241254806519 | loss/mean: 0.6201241254806519 | loss/std: 0.0772582049333254 | lr: 0.02 | momentum: 0.9\n",
      "* Epoch (8/10) \n"
     ]
    },
    {
     "data": {
      "application/vnd.jupyter.widget-view+json": {
       "model_id": "8edb36a644bf4f93abb01ea89147cb79",
       "version_major": 2,
       "version_minor": 0
      },
      "text/plain": [
       "9/10 * Epoch (train):   0%|          | 0/10 [00:00<?, ?it/s]"
      ]
     },
     "metadata": {},
     "output_type": "display_data"
    },
    {
     "name": "stdout",
     "output_type": "stream",
     "text": [
      "train (9/10) loss: 0.6454759716987609 | loss/mean: 0.6454759716987609 | loss/std: 0.08745203758181198 | lr: 0.02 | momentum: 0.9\n"
     ]
    },
    {
     "data": {
      "application/vnd.jupyter.widget-view+json": {
       "model_id": "65b5751a82e14dd1a91ad2ac7e3cbf94",
       "version_major": 2,
       "version_minor": 0
      },
      "text/plain": [
       "9/10 * Epoch (valid):   0%|          | 0/5 [00:00<?, ?it/s]"
      ]
     },
     "metadata": {},
     "output_type": "display_data"
    },
    {
     "name": "stdout",
     "output_type": "stream",
     "text": [
      "valid (9/10) loss: 0.615847110748291 | loss/mean: 0.615847110748291 | loss/std: 0.07522166046555981 | lr: 0.02 | momentum: 0.9\n",
      "* Epoch (9/10) \n"
     ]
    },
    {
     "data": {
      "application/vnd.jupyter.widget-view+json": {
       "model_id": "cd76c846aba74cfd97f326f5cd84c562",
       "version_major": 2,
       "version_minor": 0
      },
      "text/plain": [
       "10/10 * Epoch (train):   0%|          | 0/10 [00:00<?, ?it/s]"
      ]
     },
     "metadata": {},
     "output_type": "display_data"
    },
    {
     "name": "stdout",
     "output_type": "stream",
     "text": [
      "train (10/10) loss: 0.7035221815109253 | loss/mean: 0.7035221815109253 | loss/std: 0.08974659087379397 | lr: 0.02 | momentum: 0.9\n"
     ]
    },
    {
     "data": {
      "application/vnd.jupyter.widget-view+json": {
       "model_id": "43fd1c2a1b994451925bcab18b040032",
       "version_major": 2,
       "version_minor": 0
      },
      "text/plain": [
       "10/10 * Epoch (valid):   0%|          | 0/5 [00:00<?, ?it/s]"
      ]
     },
     "metadata": {},
     "output_type": "display_data"
    },
    {
     "name": "stdout",
     "output_type": "stream",
     "text": [
      "valid (10/10) loss: 0.6509636759757995 | loss/mean: 0.6509636759757995 | loss/std: 0.08153583651263803 | lr: 0.02 | momentum: 0.9\n",
      "* Epoch (10/10) \n",
      "Top models:\n",
      "experiments/model.0010.pth\t10.0000\n"
     ]
    },
    {
     "data": {
      "application/vnd.jupyter.widget-view+json": {
       "model_id": "84b59c9b654747d3970d574d19a5f60a",
       "version_major": 2,
       "version_minor": 0
      },
      "text/plain": [
       "1/10 * Epoch (train):   0%|          | 0/10 [00:00<?, ?it/s]"
      ]
     },
     "metadata": {},
     "output_type": "display_data"
    },
    {
     "name": "stdout",
     "output_type": "stream",
     "text": [
      "train (1/10) loss: 1.0044304788112641 | loss/mean: 1.0044304788112641 | loss/std: 0.10877173936713405 | lr: 0.02 | momentum: 0.9\n"
     ]
    },
    {
     "data": {
      "application/vnd.jupyter.widget-view+json": {
       "model_id": "8ce1a44c01884128bb7192857ea56c30",
       "version_major": 2,
       "version_minor": 0
      },
      "text/plain": [
       "1/10 * Epoch (valid):   0%|          | 0/5 [00:00<?, ?it/s]"
      ]
     },
     "metadata": {},
     "output_type": "display_data"
    },
    {
     "name": "stdout",
     "output_type": "stream",
     "text": [
      "valid (1/10) loss: 0.771057665348053 | loss/mean: 0.771057665348053 | loss/std: 0.15362133783497992 | lr: 0.02 | momentum: 0.9\n",
      "* Epoch (1/10) \n"
     ]
    },
    {
     "data": {
      "application/vnd.jupyter.widget-view+json": {
       "model_id": "d8448f9c3660445d9d8c2ea88e36d8ba",
       "version_major": 2,
       "version_minor": 0
      },
      "text/plain": [
       "2/10 * Epoch (train):   0%|          | 0/10 [00:00<?, ?it/s]"
      ]
     },
     "metadata": {},
     "output_type": "display_data"
    },
    {
     "name": "stdout",
     "output_type": "stream",
     "text": [
      "train (2/10) loss: 0.8821503460407257 | loss/mean: 0.8821503460407257 | loss/std: 0.1137196787329783 | lr: 0.02 | momentum: 0.9\n"
     ]
    },
    {
     "data": {
      "application/vnd.jupyter.widget-view+json": {
       "model_id": "bb21d248292f49b5aa5430358ffcbe89",
       "version_major": 2,
       "version_minor": 0
      },
      "text/plain": [
       "2/10 * Epoch (valid):   0%|          | 0/5 [00:00<?, ?it/s]"
      ]
     },
     "metadata": {},
     "output_type": "display_data"
    },
    {
     "name": "stdout",
     "output_type": "stream",
     "text": [
      "valid (2/10) loss: 0.8716522336006165 | loss/mean: 0.8716522336006165 | loss/std: 0.17260687090434046 | lr: 0.02 | momentum: 0.9\n",
      "* Epoch (2/10) \n"
     ]
    },
    {
     "data": {
      "application/vnd.jupyter.widget-view+json": {
       "model_id": "d897b453fd454a57a0549f1d1357e678",
       "version_major": 2,
       "version_minor": 0
      },
      "text/plain": [
       "3/10 * Epoch (train):   0%|          | 0/10 [00:00<?, ?it/s]"
      ]
     },
     "metadata": {},
     "output_type": "display_data"
    },
    {
     "name": "stdout",
     "output_type": "stream",
     "text": [
      "train (3/10) loss: 0.8918575167655944 | loss/mean: 0.8918575167655944 | loss/std: 0.13602882251182236 | lr: 0.02 | momentum: 0.9\n"
     ]
    },
    {
     "data": {
      "application/vnd.jupyter.widget-view+json": {
       "model_id": "5917bbe50c6a400c92970d80756e0b6c",
       "version_major": 2,
       "version_minor": 0
      },
      "text/plain": [
       "3/10 * Epoch (valid):   0%|          | 0/5 [00:00<?, ?it/s]"
      ]
     },
     "metadata": {},
     "output_type": "display_data"
    },
    {
     "name": "stdout",
     "output_type": "stream",
     "text": [
      "valid (3/10) loss: 0.8715033650398254 | loss/mean: 0.8715033650398254 | loss/std: 0.17374847888423195 | lr: 0.02 | momentum: 0.9\n",
      "* Epoch (3/10) \n"
     ]
    },
    {
     "data": {
      "application/vnd.jupyter.widget-view+json": {
       "model_id": "f7ee5d6d03ec44e78803766cee301b32",
       "version_major": 2,
       "version_minor": 0
      },
      "text/plain": [
       "4/10 * Epoch (train):   0%|          | 0/10 [00:00<?, ?it/s]"
      ]
     },
     "metadata": {},
     "output_type": "display_data"
    },
    {
     "name": "stdout",
     "output_type": "stream",
     "text": [
      "train (4/10) loss: 0.8915224313735963 | loss/mean: 0.8915224313735963 | loss/std: 0.13631426071079072 | lr: 0.02 | momentum: 0.9\n"
     ]
    },
    {
     "data": {
      "application/vnd.jupyter.widget-view+json": {
       "model_id": "c4c33e8bf064496d87260c81ac628c53",
       "version_major": 2,
       "version_minor": 0
      },
      "text/plain": [
       "4/10 * Epoch (valid):   0%|          | 0/5 [00:00<?, ?it/s]"
      ]
     },
     "metadata": {},
     "output_type": "display_data"
    },
    {
     "name": "stdout",
     "output_type": "stream",
     "text": [
      "valid (4/10) loss: 0.8714603900909423 | loss/mean: 0.8714603900909423 | loss/std: 0.17378626619262938 | lr: 0.02 | momentum: 0.9\n",
      "* Epoch (4/10) \n"
     ]
    },
    {
     "data": {
      "application/vnd.jupyter.widget-view+json": {
       "model_id": "c9ba3ce7a92c48f5ac356e6b0f0820bf",
       "version_major": 2,
       "version_minor": 0
      },
      "text/plain": [
       "5/10 * Epoch (train):   0%|          | 0/10 [00:00<?, ?it/s]"
      ]
     },
     "metadata": {},
     "output_type": "display_data"
    },
    {
     "name": "stdout",
     "output_type": "stream",
     "text": [
      "train (5/10) loss: 0.8914635241031647 | loss/mean: 0.8914635241031647 | loss/std: 0.13633110816675317 | lr: 0.02 | momentum: 0.9\n"
     ]
    },
    {
     "data": {
      "application/vnd.jupyter.widget-view+json": {
       "model_id": "60150bb9002940cd972f891ad115e2bc",
       "version_major": 2,
       "version_minor": 0
      },
      "text/plain": [
       "5/10 * Epoch (valid):   0%|          | 0/5 [00:00<?, ?it/s]"
      ]
     },
     "metadata": {},
     "output_type": "display_data"
    },
    {
     "name": "stdout",
     "output_type": "stream",
     "text": [
      "valid (5/10) loss: 0.8714447975158691 | loss/mean: 0.8714447975158691 | loss/std: 0.1737932201908571 | lr: 0.02 | momentum: 0.9\n",
      "* Epoch (5/10) \n"
     ]
    },
    {
     "data": {
      "application/vnd.jupyter.widget-view+json": {
       "model_id": "ad585afee2cf44da94100d9e9c8d828f",
       "version_major": 2,
       "version_minor": 0
      },
      "text/plain": [
       "6/10 * Epoch (train):   0%|          | 0/10 [00:00<?, ?it/s]"
      ]
     },
     "metadata": {},
     "output_type": "display_data"
    },
    {
     "name": "stdout",
     "output_type": "stream",
     "text": [
      "train (6/10) loss: 0.891444844007492 | loss/mean: 0.891444844007492 | loss/std: 0.13632990370108156 | lr: 0.02 | momentum: 0.9\n"
     ]
    },
    {
     "data": {
      "application/vnd.jupyter.widget-view+json": {
       "model_id": "402de94f26a4488e8a7f7e3b7e41afe6",
       "version_major": 2,
       "version_minor": 0
      },
      "text/plain": [
       "6/10 * Epoch (valid):   0%|          | 0/5 [00:00<?, ?it/s]"
      ]
     },
     "metadata": {},
     "output_type": "display_data"
    },
    {
     "name": "stdout",
     "output_type": "stream",
     "text": [
      "valid (6/10) loss: 0.8714446425437927 | loss/mean: 0.8714446425437927 | loss/std: 0.17379328738359182 | lr: 0.02 | momentum: 0.9\n",
      "* Epoch (6/10) \n"
     ]
    },
    {
     "data": {
      "application/vnd.jupyter.widget-view+json": {
       "model_id": "bbed5989497e471fa39b17796519bb34",
       "version_major": 2,
       "version_minor": 0
      },
      "text/plain": [
       "7/10 * Epoch (train):   0%|          | 0/10 [00:00<?, ?it/s]"
      ]
     },
     "metadata": {},
     "output_type": "display_data"
    },
    {
     "name": "stdout",
     "output_type": "stream",
     "text": [
      "train (7/10) loss: 0.8914446592330932 | loss/mean: 0.8914446592330932 | loss/std: 0.1363299893762518 | lr: 0.02 | momentum: 0.9\n"
     ]
    },
    {
     "data": {
      "application/vnd.jupyter.widget-view+json": {
       "model_id": "47ae6265410149af893bd146ec3b51f1",
       "version_major": 2,
       "version_minor": 0
      },
      "text/plain": [
       "7/10 * Epoch (valid):   0%|          | 0/5 [00:00<?, ?it/s]"
      ]
     },
     "metadata": {},
     "output_type": "display_data"
    },
    {
     "name": "stdout",
     "output_type": "stream",
     "text": [
      "valid (7/10) loss: 0.8714446306228638 | loss/mean: 0.8714446306228638 | loss/std: 0.17379329578268435 | lr: 0.02 | momentum: 0.9\n",
      "* Epoch (7/10) \n"
     ]
    },
    {
     "data": {
      "application/vnd.jupyter.widget-view+json": {
       "model_id": "38dbc235614a447a9532a79755290206",
       "version_major": 2,
       "version_minor": 0
      },
      "text/plain": [
       "8/10 * Epoch (train):   0%|          | 0/10 [00:00<?, ?it/s]"
      ]
     },
     "metadata": {},
     "output_type": "display_data"
    },
    {
     "name": "stdout",
     "output_type": "stream",
     "text": [
      "train (8/10) loss: 0.8914446473121643 | loss/mean: 0.8914446473121643 | loss/std: 0.13633000174174859 | lr: 0.02 | momentum: 0.9\n"
     ]
    },
    {
     "data": {
      "application/vnd.jupyter.widget-view+json": {
       "model_id": "26eee606c8324c8d9c29de0099cc7ee0",
       "version_major": 2,
       "version_minor": 0
      },
      "text/plain": [
       "8/10 * Epoch (valid):   0%|          | 0/5 [00:00<?, ?it/s]"
      ]
     },
     "metadata": {},
     "output_type": "display_data"
    },
    {
     "name": "stdout",
     "output_type": "stream",
     "text": [
      "valid (8/10) loss: 0.8714446306228638 | loss/mean: 0.8714446306228638 | loss/std: 0.17379329578268435 | lr: 0.02 | momentum: 0.9\n",
      "* Epoch (8/10) \n"
     ]
    },
    {
     "data": {
      "application/vnd.jupyter.widget-view+json": {
       "model_id": "e3b212eaef6f4796bbffb51d5426fb93",
       "version_major": 2,
       "version_minor": 0
      },
      "text/plain": [
       "9/10 * Epoch (train):   0%|          | 0/10 [00:00<?, ?it/s]"
      ]
     },
     "metadata": {},
     "output_type": "display_data"
    },
    {
     "name": "stdout",
     "output_type": "stream",
     "text": [
      "train (9/10) loss: 0.8914446413516999 | loss/mean: 0.8914446413516999 | loss/std: 0.13633000792449745 | lr: 0.02 | momentum: 0.9\n"
     ]
    },
    {
     "data": {
      "application/vnd.jupyter.widget-view+json": {
       "model_id": "9ad48cda3a63490dacbf7d08b853c291",
       "version_major": 2,
       "version_minor": 0
      },
      "text/plain": [
       "9/10 * Epoch (valid):   0%|          | 0/5 [00:00<?, ?it/s]"
      ]
     },
     "metadata": {},
     "output_type": "display_data"
    },
    {
     "name": "stdout",
     "output_type": "stream",
     "text": [
      "valid (9/10) loss: 0.8714446306228638 | loss/mean: 0.8714446306228638 | loss/std: 0.17379329578268435 | lr: 0.02 | momentum: 0.9\n",
      "* Epoch (9/10) \n"
     ]
    },
    {
     "data": {
      "application/vnd.jupyter.widget-view+json": {
       "model_id": "2c84da97979340d387e475489c973688",
       "version_major": 2,
       "version_minor": 0
      },
      "text/plain": [
       "10/10 * Epoch (train):   0%|          | 0/10 [00:00<?, ?it/s]"
      ]
     },
     "metadata": {},
     "output_type": "display_data"
    },
    {
     "name": "stdout",
     "output_type": "stream",
     "text": [
      "train (10/10) loss: 0.8914446413516999 | loss/mean: 0.8914446413516999 | loss/std: 0.13633000792449745 | lr: 0.02 | momentum: 0.9\n"
     ]
    },
    {
     "data": {
      "application/vnd.jupyter.widget-view+json": {
       "model_id": "b05087c621f944f1bc7756d772ef9655",
       "version_major": 2,
       "version_minor": 0
      },
      "text/plain": [
       "10/10 * Epoch (valid):   0%|          | 0/5 [00:00<?, ?it/s]"
      ]
     },
     "metadata": {},
     "output_type": "display_data"
    },
    {
     "name": "stdout",
     "output_type": "stream",
     "text": [
      "valid (10/10) loss: 0.8714446306228638 | loss/mean: 0.8714446306228638 | loss/std: 0.17379329578268435 | lr: 0.02 | momentum: 0.9\n",
      "* Epoch (10/10) \n",
      "Top models:\n",
      "experiments/model.0010.pth\t10.0000\n"
     ]
    },
    {
     "data": {
      "application/vnd.jupyter.widget-view+json": {
       "model_id": "d7d410068ff34050868d1ee62ce1b707",
       "version_major": 2,
       "version_minor": 0
      },
      "text/plain": [
       "1/10 * Epoch (train):   0%|          | 0/10 [00:00<?, ?it/s]"
      ]
     },
     "metadata": {},
     "output_type": "display_data"
    },
    {
     "name": "stdout",
     "output_type": "stream",
     "text": [
      "train (1/10) loss: 0.9628518640995025 | loss/mean: 0.9628518640995025 | loss/std: 0.10723004727073507 | lr: 0.02 | momentum: 0.9\n"
     ]
    },
    {
     "data": {
      "application/vnd.jupyter.widget-view+json": {
       "model_id": "ff57e7a9552147768627bd77681a6cfe",
       "version_major": 2,
       "version_minor": 0
      },
      "text/plain": [
       "1/10 * Epoch (valid):   0%|          | 0/5 [00:00<?, ?it/s]"
      ]
     },
     "metadata": {},
     "output_type": "display_data"
    },
    {
     "name": "stdout",
     "output_type": "stream",
     "text": [
      "valid (1/10) loss: 0.7541336297988892 | loss/mean: 0.7541336297988892 | loss/std: 0.09873116125849805 | lr: 0.02 | momentum: 0.9\n",
      "* Epoch (1/10) \n"
     ]
    },
    {
     "data": {
      "application/vnd.jupyter.widget-view+json": {
       "model_id": "22a99526ed34439e9b5993f79a85a1cf",
       "version_major": 2,
       "version_minor": 0
      },
      "text/plain": [
       "2/10 * Epoch (train):   0%|          | 0/10 [00:00<?, ?it/s]"
      ]
     },
     "metadata": {},
     "output_type": "display_data"
    },
    {
     "name": "stdout",
     "output_type": "stream",
     "text": [
      "train (2/10) loss: 0.7294815659523011 | loss/mean: 0.7294815659523011 | loss/std: 0.06056715970615712 | lr: 0.02 | momentum: 0.9\n"
     ]
    },
    {
     "data": {
      "application/vnd.jupyter.widget-view+json": {
       "model_id": "f9ec7946f8794f49801ffee089362b13",
       "version_major": 2,
       "version_minor": 0
      },
      "text/plain": [
       "2/10 * Epoch (valid):   0%|          | 0/5 [00:00<?, ?it/s]"
      ]
     },
     "metadata": {},
     "output_type": "display_data"
    },
    {
     "name": "stdout",
     "output_type": "stream",
     "text": [
      "valid (2/10) loss: 0.6862273931503295 | loss/mean: 0.6862273931503295 | loss/std: 0.09502895841614464 | lr: 0.02 | momentum: 0.9\n",
      "* Epoch (2/10) \n"
     ]
    },
    {
     "data": {
      "application/vnd.jupyter.widget-view+json": {
       "model_id": "6f94f225e89442df8558995a7fccc08b",
       "version_major": 2,
       "version_minor": 0
      },
      "text/plain": [
       "3/10 * Epoch (train):   0%|          | 0/10 [00:00<?, ?it/s]"
      ]
     },
     "metadata": {},
     "output_type": "display_data"
    },
    {
     "name": "stdout",
     "output_type": "stream",
     "text": [
      "train (3/10) loss: 0.6540158092975616 | loss/mean: 0.6540158092975616 | loss/std: 0.055004085989021914 | lr: 0.02 | momentum: 0.9\n"
     ]
    },
    {
     "data": {
      "application/vnd.jupyter.widget-view+json": {
       "model_id": "1f78a112b9434f04a9d0eada9578235b",
       "version_major": 2,
       "version_minor": 0
      },
      "text/plain": [
       "3/10 * Epoch (valid):   0%|          | 0/5 [00:00<?, ?it/s]"
      ]
     },
     "metadata": {},
     "output_type": "display_data"
    },
    {
     "name": "stdout",
     "output_type": "stream",
     "text": [
      "valid (3/10) loss: 0.6428385972976685 | loss/mean: 0.6428385972976685 | loss/std: 0.08024438854367688 | lr: 0.02 | momentum: 0.9\n",
      "* Epoch (3/10) \n"
     ]
    },
    {
     "data": {
      "application/vnd.jupyter.widget-view+json": {
       "model_id": "db0f49e000d349079d9a59b97b1c936d",
       "version_major": 2,
       "version_minor": 0
      },
      "text/plain": [
       "4/10 * Epoch (train):   0%|          | 0/10 [00:00<?, ?it/s]"
      ]
     },
     "metadata": {},
     "output_type": "display_data"
    },
    {
     "name": "stdout",
     "output_type": "stream",
     "text": [
      "train (4/10) loss: 0.6169372379779816 | loss/mean: 0.6169372379779816 | loss/std: 0.05213639732653385 | lr: 0.02 | momentum: 0.9\n"
     ]
    },
    {
     "data": {
      "application/vnd.jupyter.widget-view+json": {
       "model_id": "d332394dfa7e420bb090d08a10bd6d57",
       "version_major": 2,
       "version_minor": 0
      },
      "text/plain": [
       "4/10 * Epoch (valid):   0%|          | 0/5 [00:00<?, ?it/s]"
      ]
     },
     "metadata": {},
     "output_type": "display_data"
    },
    {
     "name": "stdout",
     "output_type": "stream",
     "text": [
      "valid (4/10) loss: 0.6522641181945801 | loss/mean: 0.6522641181945801 | loss/std: 0.0854022378398717 | lr: 0.02 | momentum: 0.9\n",
      "* Epoch (4/10) \n"
     ]
    },
    {
     "data": {
      "application/vnd.jupyter.widget-view+json": {
       "model_id": "bc692e4ad77247c38ea6c671427f089d",
       "version_major": 2,
       "version_minor": 0
      },
      "text/plain": [
       "5/10 * Epoch (train):   0%|          | 0/10 [00:00<?, ?it/s]"
      ]
     },
     "metadata": {},
     "output_type": "display_data"
    },
    {
     "name": "stdout",
     "output_type": "stream",
     "text": [
      "train (5/10) loss: 0.6491285264492035 | loss/mean: 0.6491285264492035 | loss/std: 0.06410895663507568 | lr: 0.02 | momentum: 0.9\n"
     ]
    },
    {
     "data": {
      "application/vnd.jupyter.widget-view+json": {
       "model_id": "1187558913a648b596c2ec842a900227",
       "version_major": 2,
       "version_minor": 0
      },
      "text/plain": [
       "5/10 * Epoch (valid):   0%|          | 0/5 [00:00<?, ?it/s]"
      ]
     },
     "metadata": {},
     "output_type": "display_data"
    },
    {
     "name": "stdout",
     "output_type": "stream",
     "text": [
      "valid (5/10) loss: 0.5800342440605164 | loss/mean: 0.5800342440605164 | loss/std: 0.0294379507564773 | lr: 0.02 | momentum: 0.9\n",
      "* Epoch (5/10) \n"
     ]
    },
    {
     "data": {
      "application/vnd.jupyter.widget-view+json": {
       "model_id": "2d57075f7e8e45e98f42a481fc793b6e",
       "version_major": 2,
       "version_minor": 0
      },
      "text/plain": [
       "6/10 * Epoch (train):   0%|          | 0/10 [00:00<?, ?it/s]"
      ]
     },
     "metadata": {},
     "output_type": "display_data"
    },
    {
     "name": "stdout",
     "output_type": "stream",
     "text": [
      "train (6/10) loss: 0.6759701609611511 | loss/mean: 0.6759701609611511 | loss/std: 0.09590905749202389 | lr: 0.02 | momentum: 0.9\n"
     ]
    },
    {
     "data": {
      "application/vnd.jupyter.widget-view+json": {
       "model_id": "91343403c50c42149c194a3384881e55",
       "version_major": 2,
       "version_minor": 0
      },
      "text/plain": [
       "6/10 * Epoch (valid):   0%|          | 0/5 [00:00<?, ?it/s]"
      ]
     },
     "metadata": {},
     "output_type": "display_data"
    },
    {
     "name": "stdout",
     "output_type": "stream",
     "text": [
      "valid (6/10) loss: 0.6094068169593811 | loss/mean: 0.6094068169593811 | loss/std: 0.065700797185268 | lr: 0.02 | momentum: 0.9\n",
      "* Epoch (6/10) \n"
     ]
    },
    {
     "data": {
      "application/vnd.jupyter.widget-view+json": {
       "model_id": "fb2fec86f5ab44f88913d1e54bc4cd52",
       "version_major": 2,
       "version_minor": 0
      },
      "text/plain": [
       "7/10 * Epoch (train):   0%|          | 0/10 [00:00<?, ?it/s]"
      ]
     },
     "metadata": {},
     "output_type": "display_data"
    },
    {
     "name": "stdout",
     "output_type": "stream",
     "text": [
      "train (7/10) loss: 0.6148939371109008 | loss/mean: 0.6148939371109008 | loss/std: 0.06355755966376743 | lr: 0.02 | momentum: 0.9\n"
     ]
    },
    {
     "data": {
      "application/vnd.jupyter.widget-view+json": {
       "model_id": "23d1a3d8f7e84e5e9dc94ca3b6c5271c",
       "version_major": 2,
       "version_minor": 0
      },
      "text/plain": [
       "7/10 * Epoch (valid):   0%|          | 0/5 [00:00<?, ?it/s]"
      ]
     },
     "metadata": {},
     "output_type": "display_data"
    },
    {
     "name": "stdout",
     "output_type": "stream",
     "text": [
      "valid (7/10) loss: 0.6062946677207947 | loss/mean: 0.6062946677207947 | loss/std: 0.06196569728866336 | lr: 0.02 | momentum: 0.9\n",
      "* Epoch (7/10) \n"
     ]
    },
    {
     "data": {
      "application/vnd.jupyter.widget-view+json": {
       "model_id": "8f1772b8a89547dd9e94ae4abcc36e7e",
       "version_major": 2,
       "version_minor": 0
      },
      "text/plain": [
       "8/10 * Epoch (train):   0%|          | 0/10 [00:00<?, ?it/s]"
      ]
     },
     "metadata": {},
     "output_type": "display_data"
    },
    {
     "name": "stdout",
     "output_type": "stream",
     "text": [
      "train (8/10) loss: 0.6966108500957489 | loss/mean: 0.6966108500957489 | loss/std: 0.09254032441777513 | lr: 0.02 | momentum: 0.9\n"
     ]
    },
    {
     "data": {
      "application/vnd.jupyter.widget-view+json": {
       "model_id": "73f8fe228bba4437bee37f4709e1679c",
       "version_major": 2,
       "version_minor": 0
      },
      "text/plain": [
       "8/10 * Epoch (valid):   0%|          | 0/5 [00:00<?, ?it/s]"
      ]
     },
     "metadata": {},
     "output_type": "display_data"
    },
    {
     "name": "stdout",
     "output_type": "stream",
     "text": [
      "valid (8/10) loss: 0.6369543194770813 | loss/mean: 0.6369543194770813 | loss/std: 0.07358675983684443 | lr: 0.02 | momentum: 0.9\n",
      "* Epoch (8/10) \n"
     ]
    },
    {
     "data": {
      "application/vnd.jupyter.widget-view+json": {
       "model_id": "54efd2fa4d6c476995c29df4ea8e8664",
       "version_major": 2,
       "version_minor": 0
      },
      "text/plain": [
       "9/10 * Epoch (train):   0%|          | 0/10 [00:00<?, ?it/s]"
      ]
     },
     "metadata": {},
     "output_type": "display_data"
    },
    {
     "name": "stdout",
     "output_type": "stream",
     "text": [
      "train (9/10) loss: 0.636751651763916 | loss/mean: 0.636751651763916 | loss/std: 0.08279972642872241 | lr: 0.02 | momentum: 0.9\n"
     ]
    },
    {
     "data": {
      "application/vnd.jupyter.widget-view+json": {
       "model_id": "f4d8496593774d12ac60e234a51c95e5",
       "version_major": 2,
       "version_minor": 0
      },
      "text/plain": [
       "9/10 * Epoch (valid):   0%|          | 0/5 [00:00<?, ?it/s]"
      ]
     },
     "metadata": {},
     "output_type": "display_data"
    },
    {
     "name": "stdout",
     "output_type": "stream",
     "text": [
      "valid (9/10) loss: 0.5896688103675842 | loss/mean: 0.5896688103675842 | loss/std: 0.04329789745940511 | lr: 0.02 | momentum: 0.9\n",
      "* Epoch (9/10) \n"
     ]
    },
    {
     "data": {
      "application/vnd.jupyter.widget-view+json": {
       "model_id": "560299c546d442b190fbb6fb63505359",
       "version_major": 2,
       "version_minor": 0
      },
      "text/plain": [
       "10/10 * Epoch (train):   0%|          | 0/10 [00:00<?, ?it/s]"
      ]
     },
     "metadata": {},
     "output_type": "display_data"
    },
    {
     "name": "stdout",
     "output_type": "stream",
     "text": [
      "train (10/10) loss: 0.761536979675293 | loss/mean: 0.761536979675293 | loss/std: 0.1438176405414165 | lr: 0.02 | momentum: 0.9\n"
     ]
    },
    {
     "data": {
      "application/vnd.jupyter.widget-view+json": {
       "model_id": "e65970c8e5074a8c9efdd993ea1f82f1",
       "version_major": 2,
       "version_minor": 0
      },
      "text/plain": [
       "10/10 * Epoch (valid):   0%|          | 0/5 [00:00<?, ?it/s]"
      ]
     },
     "metadata": {},
     "output_type": "display_data"
    },
    {
     "name": "stdout",
     "output_type": "stream",
     "text": [
      "valid (10/10) loss: 0.8410662293434144 | loss/mean: 0.8410662293434144 | loss/std: 0.1974593879450405 | lr: 0.02 | momentum: 0.9\n",
      "* Epoch (10/10) \n",
      "Top models:\n",
      "experiments/model.0010.pth\t10.0000\n"
     ]
    },
    {
     "data": {
      "application/vnd.jupyter.widget-view+json": {
       "model_id": "f1e56de8144440dc8c3ddc4be5b15a25",
       "version_major": 2,
       "version_minor": 0
      },
      "text/plain": [
       "1/10 * Epoch (train):   0%|          | 0/10 [00:00<?, ?it/s]"
      ]
     },
     "metadata": {},
     "output_type": "display_data"
    },
    {
     "name": "stdout",
     "output_type": "stream",
     "text": [
      "train (1/10) loss: 1.0243802726268767 | loss/mean: 1.0243802726268767 | loss/std: 0.05337499653421735 | lr: 0.02 | momentum: 0.9\n"
     ]
    },
    {
     "data": {
      "application/vnd.jupyter.widget-view+json": {
       "model_id": "3f923c6b297c4ed2b50f8843e3f9c6a5",
       "version_major": 2,
       "version_minor": 0
      },
      "text/plain": [
       "1/10 * Epoch (valid):   0%|          | 0/5 [00:00<?, ?it/s]"
      ]
     },
     "metadata": {},
     "output_type": "display_data"
    },
    {
     "name": "stdout",
     "output_type": "stream",
     "text": [
      "valid (1/10) loss: 0.8920404434204101 | loss/mean: 0.8920404434204101 | loss/std: 0.06828996019274314 | lr: 0.02 | momentum: 0.9\n",
      "* Epoch (1/10) \n"
     ]
    },
    {
     "data": {
      "application/vnd.jupyter.widget-view+json": {
       "model_id": "7318f1d386544f529c3a4525489a159e",
       "version_major": 2,
       "version_minor": 0
      },
      "text/plain": [
       "2/10 * Epoch (train):   0%|          | 0/10 [00:00<?, ?it/s]"
      ]
     },
     "metadata": {},
     "output_type": "display_data"
    },
    {
     "name": "stdout",
     "output_type": "stream",
     "text": [
      "train (2/10) loss: 0.8567329943180084 | loss/mean: 0.8567329943180084 | loss/std: 0.055924047199965576 | lr: 0.02 | momentum: 0.9\n"
     ]
    },
    {
     "data": {
      "application/vnd.jupyter.widget-view+json": {
       "model_id": "f4b374a7058247518a766e36d973ec90",
       "version_major": 2,
       "version_minor": 0
      },
      "text/plain": [
       "2/10 * Epoch (valid):   0%|          | 0/5 [00:00<?, ?it/s]"
      ]
     },
     "metadata": {},
     "output_type": "display_data"
    },
    {
     "name": "stdout",
     "output_type": "stream",
     "text": [
      "valid (2/10) loss: 0.775898551940918 | loss/mean: 0.775898551940918 | loss/std: 0.09619204248336577 | lr: 0.02 | momentum: 0.9\n",
      "* Epoch (2/10) \n"
     ]
    },
    {
     "data": {
      "application/vnd.jupyter.widget-view+json": {
       "model_id": "b7b481170ff443e3980428f88b8992c8",
       "version_major": 2,
       "version_minor": 0
      },
      "text/plain": [
       "3/10 * Epoch (train):   0%|          | 0/10 [00:00<?, ?it/s]"
      ]
     },
     "metadata": {},
     "output_type": "display_data"
    },
    {
     "name": "stdout",
     "output_type": "stream",
     "text": [
      "train (3/10) loss: 0.7720997035503387 | loss/mean: 0.7720997035503387 | loss/std: 0.038721477262860564 | lr: 0.02 | momentum: 0.9\n"
     ]
    },
    {
     "data": {
      "application/vnd.jupyter.widget-view+json": {
       "model_id": "dcf485153e2e4703a8469b2b5af7b1f4",
       "version_major": 2,
       "version_minor": 0
      },
      "text/plain": [
       "3/10 * Epoch (valid):   0%|          | 0/5 [00:00<?, ?it/s]"
      ]
     },
     "metadata": {},
     "output_type": "display_data"
    },
    {
     "name": "stdout",
     "output_type": "stream",
     "text": [
      "valid (3/10) loss: 0.7205637454986572 | loss/mean: 0.7205637454986572 | loss/std: 0.05871418285989389 | lr: 0.02 | momentum: 0.9\n",
      "* Epoch (3/10) \n"
     ]
    },
    {
     "data": {
      "application/vnd.jupyter.widget-view+json": {
       "model_id": "a6f6fcf94c4d49c9a593b21e7e34ce67",
       "version_major": 2,
       "version_minor": 0
      },
      "text/plain": [
       "4/10 * Epoch (train):   0%|          | 0/10 [00:00<?, ?it/s]"
      ]
     },
     "metadata": {},
     "output_type": "display_data"
    },
    {
     "name": "stdout",
     "output_type": "stream",
     "text": [
      "train (4/10) loss: 0.7129487216472626 | loss/mean: 0.7129487216472626 | loss/std: 0.033913705152103395 | lr: 0.02 | momentum: 0.9\n"
     ]
    },
    {
     "data": {
      "application/vnd.jupyter.widget-view+json": {
       "model_id": "bc0795698d7e46caa45df5f2d4f1e195",
       "version_major": 2,
       "version_minor": 0
      },
      "text/plain": [
       "4/10 * Epoch (valid):   0%|          | 0/5 [00:00<?, ?it/s]"
      ]
     },
     "metadata": {},
     "output_type": "display_data"
    },
    {
     "name": "stdout",
     "output_type": "stream",
     "text": [
      "valid (4/10) loss: 0.6711419224739075 | loss/mean: 0.6711419224739075 | loss/std: 0.040764837289232 | lr: 0.02 | momentum: 0.9\n",
      "* Epoch (4/10) \n"
     ]
    },
    {
     "data": {
      "application/vnd.jupyter.widget-view+json": {
       "model_id": "9b0516a1e64b426b9dfcbb33f851be40",
       "version_major": 2,
       "version_minor": 0
      },
      "text/plain": [
       "5/10 * Epoch (train):   0%|          | 0/10 [00:00<?, ?it/s]"
      ]
     },
     "metadata": {},
     "output_type": "display_data"
    },
    {
     "name": "stdout",
     "output_type": "stream",
     "text": [
      "train (5/10) loss: 0.6704505383968353 | loss/mean: 0.6704505383968353 | loss/std: 0.03674235172391265 | lr: 0.02 | momentum: 0.9\n"
     ]
    },
    {
     "data": {
      "application/vnd.jupyter.widget-view+json": {
       "model_id": "54fb71d44c244052bdbf2b12684328cc",
       "version_major": 2,
       "version_minor": 0
      },
      "text/plain": [
       "5/10 * Epoch (valid):   0%|          | 0/5 [00:00<?, ?it/s]"
      ]
     },
     "metadata": {},
     "output_type": "display_data"
    },
    {
     "name": "stdout",
     "output_type": "stream",
     "text": [
      "valid (5/10) loss: 0.638830554485321 | loss/mean: 0.638830554485321 | loss/std: 0.03596291070391464 | lr: 0.02 | momentum: 0.9\n",
      "* Epoch (5/10) \n"
     ]
    },
    {
     "data": {
      "application/vnd.jupyter.widget-view+json": {
       "model_id": "57f67184843c45e490d3cdda690c1742",
       "version_major": 2,
       "version_minor": 0
      },
      "text/plain": [
       "6/10 * Epoch (train):   0%|          | 0/10 [00:00<?, ?it/s]"
      ]
     },
     "metadata": {},
     "output_type": "display_data"
    },
    {
     "name": "stdout",
     "output_type": "stream",
     "text": [
      "train (6/10) loss: 0.6466986238956451 | loss/mean: 0.6466986238956451 | loss/std: 0.037822430475311516 | lr: 0.02 | momentum: 0.9\n"
     ]
    },
    {
     "data": {
      "application/vnd.jupyter.widget-view+json": {
       "model_id": "e4d604efd2a340c0a3a6faf89eec3c03",
       "version_major": 2,
       "version_minor": 0
      },
      "text/plain": [
       "6/10 * Epoch (valid):   0%|          | 0/5 [00:00<?, ?it/s]"
      ]
     },
     "metadata": {},
     "output_type": "display_data"
    },
    {
     "name": "stdout",
     "output_type": "stream",
     "text": [
      "valid (6/10) loss: 0.6205038070678711 | loss/mean: 0.6205038070678711 | loss/std: 0.03276770069421587 | lr: 0.02 | momentum: 0.9\n",
      "* Epoch (6/10) \n"
     ]
    },
    {
     "data": {
      "application/vnd.jupyter.widget-view+json": {
       "model_id": "7ed0be3013b94b63a65be478ecac685c",
       "version_major": 2,
       "version_minor": 0
      },
      "text/plain": [
       "7/10 * Epoch (train):   0%|          | 0/10 [00:00<?, ?it/s]"
      ]
     },
     "metadata": {},
     "output_type": "display_data"
    },
    {
     "name": "stdout",
     "output_type": "stream",
     "text": [
      "train (7/10) loss: 0.6325141727924347 | loss/mean: 0.6325141727924347 | loss/std: 0.03792020984618135 | lr: 0.02 | momentum: 0.9\n"
     ]
    },
    {
     "data": {
      "application/vnd.jupyter.widget-view+json": {
       "model_id": "ddc6daa8269344ae82f9f120af83a722",
       "version_major": 2,
       "version_minor": 0
      },
      "text/plain": [
       "7/10 * Epoch (valid):   0%|          | 0/5 [00:00<?, ?it/s]"
      ]
     },
     "metadata": {},
     "output_type": "display_data"
    },
    {
     "name": "stdout",
     "output_type": "stream",
     "text": [
      "valid (7/10) loss: 0.6097129583358765 | loss/mean: 0.6097129583358765 | loss/std: 0.030720815464026306 | lr: 0.02 | momentum: 0.9\n",
      "* Epoch (7/10) \n"
     ]
    },
    {
     "data": {
      "application/vnd.jupyter.widget-view+json": {
       "model_id": "cb3ca424936a4db893f2b5e0ec3f6fb1",
       "version_major": 2,
       "version_minor": 0
      },
      "text/plain": [
       "8/10 * Epoch (train):   0%|          | 0/10 [00:00<?, ?it/s]"
      ]
     },
     "metadata": {},
     "output_type": "display_data"
    },
    {
     "name": "stdout",
     "output_type": "stream",
     "text": [
      "train (8/10) loss: 0.622522383928299 | loss/mean: 0.622522383928299 | loss/std: 0.03725671638901827 | lr: 0.02 | momentum: 0.9\n"
     ]
    },
    {
     "data": {
      "application/vnd.jupyter.widget-view+json": {
       "model_id": "d4d03112894148b4aaea602ba5754ce6",
       "version_major": 2,
       "version_minor": 0
      },
      "text/plain": [
       "8/10 * Epoch (valid):   0%|          | 0/5 [00:00<?, ?it/s]"
      ]
     },
     "metadata": {},
     "output_type": "display_data"
    },
    {
     "name": "stdout",
     "output_type": "stream",
     "text": [
      "valid (8/10) loss: 0.6025189518928528 | loss/mean: 0.6025189518928528 | loss/std: 0.029049975862910575 | lr: 0.02 | momentum: 0.9\n",
      "* Epoch (8/10) \n"
     ]
    },
    {
     "data": {
      "application/vnd.jupyter.widget-view+json": {
       "model_id": "645d9308062e4a15b7f3c6a518c4a601",
       "version_major": 2,
       "version_minor": 0
      },
      "text/plain": [
       "9/10 * Epoch (train):   0%|          | 0/10 [00:00<?, ?it/s]"
      ]
     },
     "metadata": {},
     "output_type": "display_data"
    },
    {
     "name": "stdout",
     "output_type": "stream",
     "text": [
      "train (9/10) loss: 0.6161664843559265 | loss/mean: 0.6161664843559265 | loss/std: 0.03752382267459558 | lr: 0.02 | momentum: 0.9\n"
     ]
    },
    {
     "data": {
      "application/vnd.jupyter.widget-view+json": {
       "model_id": "f5ebb45f487e4e4cbaca9c5b2fb998ee",
       "version_major": 2,
       "version_minor": 0
      },
      "text/plain": [
       "9/10 * Epoch (valid):   0%|          | 0/5 [00:00<?, ?it/s]"
      ]
     },
     "metadata": {},
     "output_type": "display_data"
    },
    {
     "name": "stdout",
     "output_type": "stream",
     "text": [
      "valid (9/10) loss: 0.5978699922561646 | loss/mean: 0.5978699922561646 | loss/std: 0.028102768984997712 | lr: 0.02 | momentum: 0.9\n",
      "* Epoch (9/10) \n"
     ]
    },
    {
     "data": {
      "application/vnd.jupyter.widget-view+json": {
       "model_id": "3962973bbb224e61ad6a1a73013b49a9",
       "version_major": 2,
       "version_minor": 0
      },
      "text/plain": [
       "10/10 * Epoch (train):   0%|          | 0/10 [00:00<?, ?it/s]"
      ]
     },
     "metadata": {},
     "output_type": "display_data"
    },
    {
     "name": "stdout",
     "output_type": "stream",
     "text": [
      "train (10/10) loss: 0.6117752909660339 | loss/mean: 0.6117752909660339 | loss/std: 0.037999920706788995 | lr: 0.02 | momentum: 0.9\n"
     ]
    },
    {
     "data": {
      "application/vnd.jupyter.widget-view+json": {
       "model_id": "12b793a631734417a360e08d5d0b79e7",
       "version_major": 2,
       "version_minor": 0
      },
      "text/plain": [
       "10/10 * Epoch (valid):   0%|          | 0/5 [00:00<?, ?it/s]"
      ]
     },
     "metadata": {},
     "output_type": "display_data"
    },
    {
     "name": "stdout",
     "output_type": "stream",
     "text": [
      "valid (10/10) loss: 0.5947501063346863 | loss/mean: 0.5947501063346863 | loss/std: 0.02751441739589158 | lr: 0.02 | momentum: 0.9\n",
      "* Epoch (10/10) \n",
      "Top models:\n",
      "experiments/model.0010.pth\t10.0000\n"
     ]
    },
    {
     "data": {
      "application/vnd.jupyter.widget-view+json": {
       "model_id": "fdc530c86f4e460b9b614d4fff72de5e",
       "version_major": 2,
       "version_minor": 0
      },
      "text/plain": [
       "1/10 * Epoch (train):   0%|          | 0/10 [00:00<?, ?it/s]"
      ]
     },
     "metadata": {},
     "output_type": "display_data"
    },
    {
     "name": "stdout",
     "output_type": "stream",
     "text": [
      "train (1/10) loss: 0.9843781411647796 | loss/mean: 0.9843781411647796 | loss/std: 0.06719123413166508 | lr: 0.02 | momentum: 0.9\n"
     ]
    },
    {
     "data": {
      "application/vnd.jupyter.widget-view+json": {
       "model_id": "0af89cd458b04dbbba20dc3af32c9d92",
       "version_major": 2,
       "version_minor": 0
      },
      "text/plain": [
       "1/10 * Epoch (valid):   0%|          | 0/5 [00:00<?, ?it/s]"
      ]
     },
     "metadata": {},
     "output_type": "display_data"
    },
    {
     "name": "stdout",
     "output_type": "stream",
     "text": [
      "valid (1/10) loss: 0.8421510577201843 | loss/mean: 0.8421510577201843 | loss/std: 0.08891039332051809 | lr: 0.02 | momentum: 0.9\n",
      "* Epoch (1/10) \n"
     ]
    },
    {
     "data": {
      "application/vnd.jupyter.widget-view+json": {
       "model_id": "16e02a42da9f4177a1f624a2b9b7b8bf",
       "version_major": 2,
       "version_minor": 0
      },
      "text/plain": [
       "2/10 * Epoch (train):   0%|          | 0/10 [00:00<?, ?it/s]"
      ]
     },
     "metadata": {},
     "output_type": "display_data"
    },
    {
     "name": "stdout",
     "output_type": "stream",
     "text": [
      "train (2/10) loss: 0.8271273910999298 | loss/mean: 0.8271273910999298 | loss/std: 0.04737580461207241 | lr: 0.02 | momentum: 0.9\n"
     ]
    },
    {
     "data": {
      "application/vnd.jupyter.widget-view+json": {
       "model_id": "5866c23a62df4ea981a06a550a79703c",
       "version_major": 2,
       "version_minor": 0
      },
      "text/plain": [
       "2/10 * Epoch (valid):   0%|          | 0/5 [00:00<?, ?it/s]"
      ]
     },
     "metadata": {},
     "output_type": "display_data"
    },
    {
     "name": "stdout",
     "output_type": "stream",
     "text": [
      "valid (2/10) loss: 0.7561420202255249 | loss/mean: 0.7561420202255249 | loss/std: 0.0702249409643871 | lr: 0.02 | momentum: 0.9\n",
      "* Epoch (2/10) \n"
     ]
    },
    {
     "data": {
      "application/vnd.jupyter.widget-view+json": {
       "model_id": "47228fbb762d4504865df87bea704302",
       "version_major": 2,
       "version_minor": 0
      },
      "text/plain": [
       "3/10 * Epoch (train):   0%|          | 0/10 [00:00<?, ?it/s]"
      ]
     },
     "metadata": {},
     "output_type": "display_data"
    },
    {
     "name": "stdout",
     "output_type": "stream",
     "text": [
      "train (3/10) loss: 0.7518886744976043 | loss/mean: 0.7518886744976043 | loss/std: 0.04357934056412462 | lr: 0.02 | momentum: 0.9\n"
     ]
    },
    {
     "data": {
      "application/vnd.jupyter.widget-view+json": {
       "model_id": "8d5418b751594a4b9af18375916dc7d4",
       "version_major": 2,
       "version_minor": 0
      },
      "text/plain": [
       "3/10 * Epoch (valid):   0%|          | 0/5 [00:00<?, ?it/s]"
      ]
     },
     "metadata": {},
     "output_type": "display_data"
    },
    {
     "name": "stdout",
     "output_type": "stream",
     "text": [
      "valid (3/10) loss: 0.7051062941551208 | loss/mean: 0.7051062941551208 | loss/std: 0.06064434342138397 | lr: 0.02 | momentum: 0.9\n",
      "* Epoch (3/10) \n"
     ]
    },
    {
     "data": {
      "application/vnd.jupyter.widget-view+json": {
       "model_id": "2e23bcb80bf144d5bf194ee1238c9718",
       "version_major": 2,
       "version_minor": 0
      },
      "text/plain": [
       "4/10 * Epoch (train):   0%|          | 0/10 [00:00<?, ?it/s]"
      ]
     },
     "metadata": {},
     "output_type": "display_data"
    },
    {
     "name": "stdout",
     "output_type": "stream",
     "text": [
      "train (4/10) loss: 0.694012176990509 | loss/mean: 0.694012176990509 | loss/std: 0.04031449732906899 | lr: 0.02 | momentum: 0.9\n"
     ]
    },
    {
     "data": {
      "application/vnd.jupyter.widget-view+json": {
       "model_id": "9e74dcd1616b4184af550bc814008382",
       "version_major": 2,
       "version_minor": 0
      },
      "text/plain": [
       "4/10 * Epoch (valid):   0%|          | 0/5 [00:00<?, ?it/s]"
      ]
     },
     "metadata": {},
     "output_type": "display_data"
    },
    {
     "name": "stdout",
     "output_type": "stream",
     "text": [
      "valid (4/10) loss: 0.6565022230148315 | loss/mean: 0.6565022230148315 | loss/std: 0.04554139553968903 | lr: 0.02 | momentum: 0.9\n",
      "* Epoch (4/10) \n"
     ]
    },
    {
     "data": {
      "application/vnd.jupyter.widget-view+json": {
       "model_id": "52fba28bb82c476191f856e12ddc5fd9",
       "version_major": 2,
       "version_minor": 0
      },
      "text/plain": [
       "5/10 * Epoch (train):   0%|          | 0/10 [00:00<?, ?it/s]"
      ]
     },
     "metadata": {},
     "output_type": "display_data"
    },
    {
     "name": "stdout",
     "output_type": "stream",
     "text": [
      "train (5/10) loss: 0.6599254786968232 | loss/mean: 0.6599254786968232 | loss/std: 0.046044579960459305 | lr: 0.02 | momentum: 0.9\n"
     ]
    },
    {
     "data": {
      "application/vnd.jupyter.widget-view+json": {
       "model_id": "a4844c05393d4d80a48636b01cdff777",
       "version_major": 2,
       "version_minor": 0
      },
      "text/plain": [
       "5/10 * Epoch (valid):   0%|          | 0/5 [00:00<?, ?it/s]"
      ]
     },
     "metadata": {},
     "output_type": "display_data"
    },
    {
     "name": "stdout",
     "output_type": "stream",
     "text": [
      "valid (5/10) loss: 0.6289795637130737 | loss/mean: 0.6289795637130737 | loss/std: 0.03831677143809258 | lr: 0.02 | momentum: 0.9\n",
      "* Epoch (5/10) \n"
     ]
    },
    {
     "data": {
      "application/vnd.jupyter.widget-view+json": {
       "model_id": "bc3a9b29563c46879aafd76ada63a373",
       "version_major": 2,
       "version_minor": 0
      },
      "text/plain": [
       "6/10 * Epoch (train):   0%|          | 0/10 [00:00<?, ?it/s]"
      ]
     },
     "metadata": {},
     "output_type": "display_data"
    },
    {
     "name": "stdout",
     "output_type": "stream",
     "text": [
      "train (6/10) loss: 0.6453774809837342 | loss/mean: 0.6453774809837342 | loss/std: 0.05029413289989844 | lr: 0.02 | momentum: 0.9\n"
     ]
    },
    {
     "data": {
      "application/vnd.jupyter.widget-view+json": {
       "model_id": "34b91e93adf641508e0b71c8202124bf",
       "version_major": 2,
       "version_minor": 0
      },
      "text/plain": [
       "6/10 * Epoch (valid):   0%|          | 0/5 [00:00<?, ?it/s]"
      ]
     },
     "metadata": {},
     "output_type": "display_data"
    },
    {
     "name": "stdout",
     "output_type": "stream",
     "text": [
      "valid (6/10) loss: 0.6206818342208862 | loss/mean: 0.6206818342208862 | loss/std: 0.04108651105066992 | lr: 0.02 | momentum: 0.9\n",
      "* Epoch (6/10) \n"
     ]
    },
    {
     "data": {
      "application/vnd.jupyter.widget-view+json": {
       "model_id": "141d40501b7a4d41aba8f147f1189316",
       "version_major": 2,
       "version_minor": 0
      },
      "text/plain": [
       "7/10 * Epoch (train):   0%|          | 0/10 [00:00<?, ?it/s]"
      ]
     },
     "metadata": {},
     "output_type": "display_data"
    },
    {
     "name": "stdout",
     "output_type": "stream",
     "text": [
      "train (7/10) loss: 0.6292107760906219 | loss/mean: 0.6292107760906219 | loss/std: 0.04111408086737434 | lr: 0.02 | momentum: 0.9\n"
     ]
    },
    {
     "data": {
      "application/vnd.jupyter.widget-view+json": {
       "model_id": "69cacfeced7942b3b7818ae465269a0c",
       "version_major": 2,
       "version_minor": 0
      },
      "text/plain": [
       "7/10 * Epoch (valid):   0%|          | 0/5 [00:00<?, ?it/s]"
      ]
     },
     "metadata": {},
     "output_type": "display_data"
    },
    {
     "name": "stdout",
     "output_type": "stream",
     "text": [
      "valid (7/10) loss: 0.6074053168296814 | loss/mean: 0.6074053168296814 | loss/std: 0.03379480886238085 | lr: 0.02 | momentum: 0.9\n",
      "* Epoch (7/10) \n"
     ]
    },
    {
     "data": {
      "application/vnd.jupyter.widget-view+json": {
       "model_id": "6799fa243f73446eba368ea567d5d8af",
       "version_major": 2,
       "version_minor": 0
      },
      "text/plain": [
       "8/10 * Epoch (train):   0%|          | 0/10 [00:00<?, ?it/s]"
      ]
     },
     "metadata": {},
     "output_type": "display_data"
    },
    {
     "name": "stdout",
     "output_type": "stream",
     "text": [
      "train (8/10) loss: 0.6185929417610168 | loss/mean: 0.6185929417610168 | loss/std: 0.03944040933507653 | lr: 0.02 | momentum: 0.9\n"
     ]
    },
    {
     "data": {
      "application/vnd.jupyter.widget-view+json": {
       "model_id": "8db42b01fb7d4e209e78cd226a95801f",
       "version_major": 2,
       "version_minor": 0
      },
      "text/plain": [
       "8/10 * Epoch (valid):   0%|          | 0/5 [00:00<?, ?it/s]"
      ]
     },
     "metadata": {},
     "output_type": "display_data"
    },
    {
     "name": "stdout",
     "output_type": "stream",
     "text": [
      "valid (8/10) loss: 0.6007710099220276 | loss/mean: 0.6007710099220276 | loss/std: 0.03189200853089671 | lr: 0.02 | momentum: 0.9\n",
      "* Epoch (8/10) \n"
     ]
    },
    {
     "data": {
      "application/vnd.jupyter.widget-view+json": {
       "model_id": "461ca2bf714f4f518d1e94801f9d966f",
       "version_major": 2,
       "version_minor": 0
      },
      "text/plain": [
       "9/10 * Epoch (train):   0%|          | 0/10 [00:00<?, ?it/s]"
      ]
     },
     "metadata": {},
     "output_type": "display_data"
    },
    {
     "name": "stdout",
     "output_type": "stream",
     "text": [
      "train (9/10) loss: 0.6171003401279449 | loss/mean: 0.6171003401279449 | loss/std: 0.04402393277607579 | lr: 0.02 | momentum: 0.9\n"
     ]
    },
    {
     "data": {
      "application/vnd.jupyter.widget-view+json": {
       "model_id": "aebf8575af2844989e720fb12b329ebf",
       "version_major": 2,
       "version_minor": 0
      },
      "text/plain": [
       "9/10 * Epoch (valid):   0%|          | 0/5 [00:00<?, ?it/s]"
      ]
     },
     "metadata": {},
     "output_type": "display_data"
    },
    {
     "name": "stdout",
     "output_type": "stream",
     "text": [
      "valid (9/10) loss: 0.5983243465423584 | loss/mean: 0.5983243465423584 | loss/std: 0.03124573356882136 | lr: 0.02 | momentum: 0.9\n",
      "* Epoch (9/10) \n"
     ]
    },
    {
     "data": {
      "application/vnd.jupyter.widget-view+json": {
       "model_id": "099dce3430da4b23973697562c4eecc6",
       "version_major": 2,
       "version_minor": 0
      },
      "text/plain": [
       "10/10 * Epoch (train):   0%|          | 0/10 [00:00<?, ?it/s]"
      ]
     },
     "metadata": {},
     "output_type": "display_data"
    },
    {
     "name": "stdout",
     "output_type": "stream",
     "text": [
      "train (10/10) loss: 0.6102037250995636 | loss/mean: 0.6102037250995636 | loss/std: 0.039771009205711104 | lr: 0.02 | momentum: 0.9\n"
     ]
    },
    {
     "data": {
      "application/vnd.jupyter.widget-view+json": {
       "model_id": "dd0e75e378f643b6879b6c3b6a35710e",
       "version_major": 2,
       "version_minor": 0
      },
      "text/plain": [
       "10/10 * Epoch (valid):   0%|          | 0/5 [00:00<?, ?it/s]"
      ]
     },
     "metadata": {},
     "output_type": "display_data"
    },
    {
     "name": "stdout",
     "output_type": "stream",
     "text": [
      "valid (10/10) loss: 0.5942969441413879 | loss/mean: 0.5942969441413879 | loss/std: 0.030156263301039248 | lr: 0.02 | momentum: 0.9\n",
      "* Epoch (10/10) \n",
      "Top models:\n",
      "experiments/model.0010.pth\t10.0000\n"
     ]
    },
    {
     "data": {
      "application/vnd.jupyter.widget-view+json": {
       "model_id": "5514411625aa4c9cac71f974622dc03a",
       "version_major": 2,
       "version_minor": 0
      },
      "text/plain": [
       "1/10 * Epoch (train):   0%|          | 0/10 [00:00<?, ?it/s]"
      ]
     },
     "metadata": {},
     "output_type": "display_data"
    },
    {
     "name": "stdout",
     "output_type": "stream",
     "text": [
      "train (1/10) loss: 1.042102187871933 | loss/mean: 1.042102187871933 | loss/std: 0.07451054966978699 | lr: 0.02 | momentum: 0.9\n"
     ]
    },
    {
     "data": {
      "application/vnd.jupyter.widget-view+json": {
       "model_id": "36198d7e78d44bba9a7565d39a680058",
       "version_major": 2,
       "version_minor": 0
      },
      "text/plain": [
       "1/10 * Epoch (valid):   0%|          | 0/5 [00:00<?, ?it/s]"
      ]
     },
     "metadata": {},
     "output_type": "display_data"
    },
    {
     "name": "stdout",
     "output_type": "stream",
     "text": [
      "valid (1/10) loss: 0.7864793300628662 | loss/mean: 0.7864793300628662 | loss/std: 0.101153373968702 | lr: 0.02 | momentum: 0.9\n",
      "* Epoch (1/10) \n"
     ]
    },
    {
     "data": {
      "application/vnd.jupyter.widget-view+json": {
       "model_id": "05dc293dab784c64a18c9a635e269864",
       "version_major": 2,
       "version_minor": 0
      },
      "text/plain": [
       "2/10 * Epoch (train):   0%|          | 0/10 [00:00<?, ?it/s]"
      ]
     },
     "metadata": {},
     "output_type": "display_data"
    },
    {
     "name": "stdout",
     "output_type": "stream",
     "text": [
      "train (2/10) loss: 0.8864562392234802 | loss/mean: 0.8864562392234802 | loss/std: 0.12172276097716445 | lr: 0.02 | momentum: 0.9\n"
     ]
    },
    {
     "data": {
      "application/vnd.jupyter.widget-view+json": {
       "model_id": "3cb53d2b633b4076a031fe8aa1e93536",
       "version_major": 2,
       "version_minor": 0
      },
      "text/plain": [
       "2/10 * Epoch (valid):   0%|          | 0/5 [00:00<?, ?it/s]"
      ]
     },
     "metadata": {},
     "output_type": "display_data"
    },
    {
     "name": "stdout",
     "output_type": "stream",
     "text": [
      "valid (2/10) loss: 0.8513902306556702 | loss/mean: 0.8513902306556702 | loss/std: 0.20191115039505395 | lr: 0.02 | momentum: 0.9\n",
      "* Epoch (2/10) \n"
     ]
    },
    {
     "data": {
      "application/vnd.jupyter.widget-view+json": {
       "model_id": "e29f04d7b97f4bdda131dd82cd8f791e",
       "version_major": 2,
       "version_minor": 0
      },
      "text/plain": [
       "3/10 * Epoch (train):   0%|          | 0/10 [00:00<?, ?it/s]"
      ]
     },
     "metadata": {},
     "output_type": "display_data"
    },
    {
     "name": "stdout",
     "output_type": "stream",
     "text": [
      "train (3/10) loss: 0.8854352414608002 | loss/mean: 0.8854352414608002 | loss/std: 0.0981404531890589 | lr: 0.02 | momentum: 0.9\n"
     ]
    },
    {
     "data": {
      "application/vnd.jupyter.widget-view+json": {
       "model_id": "4aa0fcca11484ce8ad618e031f224451",
       "version_major": 2,
       "version_minor": 0
      },
      "text/plain": [
       "3/10 * Epoch (valid):   0%|          | 0/5 [00:00<?, ?it/s]"
      ]
     },
     "metadata": {},
     "output_type": "display_data"
    },
    {
     "name": "stdout",
     "output_type": "stream",
     "text": [
      "valid (3/10) loss: 0.7628847479820251 | loss/mean: 0.7628847479820251 | loss/std: 0.10013412162241833 | lr: 0.02 | momentum: 0.9\n",
      "* Epoch (3/10) \n"
     ]
    },
    {
     "data": {
      "application/vnd.jupyter.widget-view+json": {
       "model_id": "f8357d13f5774646b804bf7807c951cd",
       "version_major": 2,
       "version_minor": 0
      },
      "text/plain": [
       "4/10 * Epoch (train):   0%|          | 0/10 [00:00<?, ?it/s]"
      ]
     },
     "metadata": {},
     "output_type": "display_data"
    },
    {
     "name": "stdout",
     "output_type": "stream",
     "text": [
      "train (4/10) loss: 0.769686883687973 | loss/mean: 0.769686883687973 | loss/std: 0.05839118213949724 | lr: 0.02 | momentum: 0.9\n"
     ]
    },
    {
     "data": {
      "application/vnd.jupyter.widget-view+json": {
       "model_id": "1d189ea885f048dcb1ce910545a82318",
       "version_major": 2,
       "version_minor": 0
      },
      "text/plain": [
       "4/10 * Epoch (valid):   0%|          | 0/5 [00:00<?, ?it/s]"
      ]
     },
     "metadata": {},
     "output_type": "display_data"
    },
    {
     "name": "stdout",
     "output_type": "stream",
     "text": [
      "valid (4/10) loss: 0.6547456979751587 | loss/mean: 0.6547456979751587 | loss/std: 0.05476750702766922 | lr: 0.02 | momentum: 0.9\n",
      "* Epoch (4/10) \n"
     ]
    },
    {
     "data": {
      "application/vnd.jupyter.widget-view+json": {
       "model_id": "88c9e5879e8a470db8b6bbd2ec5182fa",
       "version_major": 2,
       "version_minor": 0
      },
      "text/plain": [
       "5/10 * Epoch (train):   0%|          | 0/10 [00:00<?, ?it/s]"
      ]
     },
     "metadata": {},
     "output_type": "display_data"
    },
    {
     "name": "stdout",
     "output_type": "stream",
     "text": [
      "train (5/10) loss: 0.719588679075241 | loss/mean: 0.719588679075241 | loss/std: 0.11699548793232997 | lr: 0.02 | momentum: 0.9\n"
     ]
    },
    {
     "data": {
      "application/vnd.jupyter.widget-view+json": {
       "model_id": "27837f579bae4b25bc6eb04be2dd909c",
       "version_major": 2,
       "version_minor": 0
      },
      "text/plain": [
       "5/10 * Epoch (valid):   0%|          | 0/5 [00:00<?, ?it/s]"
      ]
     },
     "metadata": {},
     "output_type": "display_data"
    },
    {
     "name": "stdout",
     "output_type": "stream",
     "text": [
      "valid (5/10) loss: 0.7627901434898376 | loss/mean: 0.7627901434898376 | loss/std: 0.1321442075439306 | lr: 0.02 | momentum: 0.9\n",
      "* Epoch (5/10) \n"
     ]
    },
    {
     "data": {
      "application/vnd.jupyter.widget-view+json": {
       "model_id": "700f474f4e2d43e0b02d077ac5158f67",
       "version_major": 2,
       "version_minor": 0
      },
      "text/plain": [
       "6/10 * Epoch (train):   0%|          | 0/10 [00:00<?, ?it/s]"
      ]
     },
     "metadata": {},
     "output_type": "display_data"
    },
    {
     "name": "stdout",
     "output_type": "stream",
     "text": [
      "train (6/10) loss: 0.6976754486560821 | loss/mean: 0.6976754486560821 | loss/std: 0.0934340152461809 | lr: 0.02 | momentum: 0.9\n"
     ]
    },
    {
     "data": {
      "application/vnd.jupyter.widget-view+json": {
       "model_id": "322aff08cd004708a04be24ac2002af4",
       "version_major": 2,
       "version_minor": 0
      },
      "text/plain": [
       "6/10 * Epoch (valid):   0%|          | 0/5 [00:00<?, ?it/s]"
      ]
     },
     "metadata": {},
     "output_type": "display_data"
    },
    {
     "name": "stdout",
     "output_type": "stream",
     "text": [
      "valid (6/10) loss: 0.6239506721496582 | loss/mean: 0.6239506721496582 | loss/std: 0.08782115840860207 | lr: 0.02 | momentum: 0.9\n",
      "* Epoch (6/10) \n"
     ]
    },
    {
     "data": {
      "application/vnd.jupyter.widget-view+json": {
       "model_id": "407c7ee697844b31bacc7877f7f7b6ba",
       "version_major": 2,
       "version_minor": 0
      },
      "text/plain": [
       "7/10 * Epoch (train):   0%|          | 0/10 [00:00<?, ?it/s]"
      ]
     },
     "metadata": {},
     "output_type": "display_data"
    },
    {
     "name": "stdout",
     "output_type": "stream",
     "text": [
      "train (7/10) loss: 0.7952917218208313 | loss/mean: 0.7952917218208313 | loss/std: 0.1809985184964377 | lr: 0.02 | momentum: 0.9\n"
     ]
    },
    {
     "data": {
      "application/vnd.jupyter.widget-view+json": {
       "model_id": "d16ccd68b90b4f3fae9013e097416cf1",
       "version_major": 2,
       "version_minor": 0
      },
      "text/plain": [
       "7/10 * Epoch (valid):   0%|          | 0/5 [00:00<?, ?it/s]"
      ]
     },
     "metadata": {},
     "output_type": "display_data"
    },
    {
     "name": "stdout",
     "output_type": "stream",
     "text": [
      "valid (7/10) loss: 0.8714446067810059 | loss/mean: 0.8714446067810059 | loss/std: 0.17379308860509401 | lr: 0.02 | momentum: 0.9\n",
      "* Epoch (7/10) \n"
     ]
    },
    {
     "data": {
      "application/vnd.jupyter.widget-view+json": {
       "model_id": "7a797b77d4b44edc8f6dd8c7f41fa6a3",
       "version_major": 2,
       "version_minor": 0
      },
      "text/plain": [
       "8/10 * Epoch (train):   0%|          | 0/10 [00:00<?, ?it/s]"
      ]
     },
     "metadata": {},
     "output_type": "display_data"
    },
    {
     "name": "stdout",
     "output_type": "stream",
     "text": [
      "train (8/10) loss: 1.0861395776271818 | loss/mean: 1.0861395776271818 | loss/std: 0.23493075856520065 | lr: 0.02 | momentum: 0.9\n"
     ]
    },
    {
     "data": {
      "application/vnd.jupyter.widget-view+json": {
       "model_id": "bead4daa0ca94effb19e336f1361b556",
       "version_major": 2,
       "version_minor": 0
      },
      "text/plain": [
       "8/10 * Epoch (valid):   0%|          | 0/5 [00:00<?, ?it/s]"
      ]
     },
     "metadata": {},
     "output_type": "display_data"
    },
    {
     "name": "stdout",
     "output_type": "stream",
     "text": [
      "valid (8/10) loss: 1.1714335203170776 | loss/mean: 1.1714335203170776 | loss/std: 0.18515588705445515 | lr: 0.02 | momentum: 0.9\n",
      "* Epoch (8/10) \n"
     ]
    },
    {
     "data": {
      "application/vnd.jupyter.widget-view+json": {
       "model_id": "725112c9a59f402ca121711382c4c775",
       "version_major": 2,
       "version_minor": 0
      },
      "text/plain": [
       "9/10 * Epoch (train):   0%|          | 0/10 [00:00<?, ?it/s]"
      ]
     },
     "metadata": {},
     "output_type": "display_data"
    },
    {
     "name": "stdout",
     "output_type": "stream",
     "text": [
      "train (9/10) loss: 1.241444742679596 | loss/mean: 1.241444742679596 | loss/std: 0.14529670255743823 | lr: 0.02 | momentum: 0.9\n"
     ]
    },
    {
     "data": {
      "application/vnd.jupyter.widget-view+json": {
       "model_id": "6a796c6240fa482797cccdba142150f4",
       "version_major": 2,
       "version_minor": 0
      },
      "text/plain": [
       "9/10 * Epoch (valid):   0%|          | 0/5 [00:00<?, ?it/s]"
      ]
     },
     "metadata": {},
     "output_type": "display_data"
    },
    {
     "name": "stdout",
     "output_type": "stream",
     "text": [
      "valid (9/10) loss: 1.1714447021484375 | loss/mean: 1.1714447021484375 | loss/std: 0.1851640614732887 | lr: 0.02 | momentum: 0.9\n",
      "* Epoch (9/10) \n"
     ]
    },
    {
     "data": {
      "application/vnd.jupyter.widget-view+json": {
       "model_id": "767c9282b41a4770808afc2240abdf34",
       "version_major": 2,
       "version_minor": 0
      },
      "text/plain": [
       "10/10 * Epoch (train):   0%|          | 0/10 [00:00<?, ?it/s]"
      ]
     },
     "metadata": {},
     "output_type": "display_data"
    },
    {
     "name": "stdout",
     "output_type": "stream",
     "text": [
      "train (10/10) loss: 1.2414447546005247 | loss/mean: 1.2414447546005247 | loss/std: 0.14529669509875237 | lr: 0.02 | momentum: 0.9\n"
     ]
    },
    {
     "data": {
      "application/vnd.jupyter.widget-view+json": {
       "model_id": "d384cc3dddbc476eb7e2610f84d88963",
       "version_major": 2,
       "version_minor": 0
      },
      "text/plain": [
       "10/10 * Epoch (valid):   0%|          | 0/5 [00:00<?, ?it/s]"
      ]
     },
     "metadata": {},
     "output_type": "display_data"
    },
    {
     "name": "stdout",
     "output_type": "stream",
     "text": [
      "valid (10/10) loss: 1.1714447021484375 | loss/mean: 1.1714447021484375 | loss/std: 0.1851640614732887 | lr: 0.02 | momentum: 0.9\n",
      "* Epoch (10/10) \n",
      "Top models:\n",
      "experiments/model.0010.pth\t10.0000\n"
     ]
    },
    {
     "data": {
      "application/vnd.jupyter.widget-view+json": {
       "model_id": "a6815bd45bf8461583126593feac5458",
       "version_major": 2,
       "version_minor": 0
      },
      "text/plain": [
       "1/10 * Epoch (train):   0%|          | 0/10 [00:00<?, ?it/s]"
      ]
     },
     "metadata": {},
     "output_type": "display_data"
    },
    {
     "name": "stdout",
     "output_type": "stream",
     "text": [
      "train (1/10) loss: 1.028551608324051 | loss/mean: 1.028551608324051 | loss/std: 0.07843320353593367 | lr: 0.02 | momentum: 0.9\n"
     ]
    },
    {
     "data": {
      "application/vnd.jupyter.widget-view+json": {
       "model_id": "e10052536bea44028d66b74d01f76b3f",
       "version_major": 2,
       "version_minor": 0
      },
      "text/plain": [
       "1/10 * Epoch (valid):   0%|          | 0/5 [00:00<?, ?it/s]"
      ]
     },
     "metadata": {},
     "output_type": "display_data"
    },
    {
     "name": "stdout",
     "output_type": "stream",
     "text": [
      "valid (1/10) loss: 0.8010077118873596 | loss/mean: 0.8010077118873596 | loss/std: 0.07503513642231836 | lr: 0.02 | momentum: 0.9\n",
      "* Epoch (1/10) \n"
     ]
    },
    {
     "data": {
      "application/vnd.jupyter.widget-view+json": {
       "model_id": "ef25c99ca886438e912e7e201a2f5877",
       "version_major": 2,
       "version_minor": 0
      },
      "text/plain": [
       "2/10 * Epoch (train):   0%|          | 0/10 [00:00<?, ?it/s]"
      ]
     },
     "metadata": {},
     "output_type": "display_data"
    },
    {
     "name": "stdout",
     "output_type": "stream",
     "text": [
      "train (2/10) loss: 0.8210979998111725 | loss/mean: 0.8210979998111725 | loss/std: 0.05601847918642516 | lr: 0.02 | momentum: 0.9\n"
     ]
    },
    {
     "data": {
      "application/vnd.jupyter.widget-view+json": {
       "model_id": "cb603866a9cd4d33a98f4a88d61853bc",
       "version_major": 2,
       "version_minor": 0
      },
      "text/plain": [
       "2/10 * Epoch (valid):   0%|          | 0/5 [00:00<?, ?it/s]"
      ]
     },
     "metadata": {},
     "output_type": "display_data"
    },
    {
     "name": "stdout",
     "output_type": "stream",
     "text": [
      "valid (2/10) loss: 0.8905630350112915 | loss/mean: 0.8905630350112915 | loss/std: 0.11013348240287375 | lr: 0.02 | momentum: 0.9\n",
      "* Epoch (2/10) \n"
     ]
    },
    {
     "data": {
      "application/vnd.jupyter.widget-view+json": {
       "model_id": "bef695adc6204a10a2dbe29d8b657315",
       "version_major": 2,
       "version_minor": 0
      },
      "text/plain": [
       "3/10 * Epoch (train):   0%|          | 0/10 [00:00<?, ?it/s]"
      ]
     },
     "metadata": {},
     "output_type": "display_data"
    },
    {
     "name": "stdout",
     "output_type": "stream",
     "text": [
      "train (3/10) loss: 0.9058371543884277 | loss/mean: 0.9058371543884277 | loss/std: 0.11157033186833144 | lr: 0.02 | momentum: 0.9\n"
     ]
    },
    {
     "data": {
      "application/vnd.jupyter.widget-view+json": {
       "model_id": "aa92b2f0812f495aaa7221c66c6f0522",
       "version_major": 2,
       "version_minor": 0
      },
      "text/plain": [
       "3/10 * Epoch (valid):   0%|          | 0/5 [00:00<?, ?it/s]"
      ]
     },
     "metadata": {},
     "output_type": "display_data"
    },
    {
     "name": "stdout",
     "output_type": "stream",
     "text": [
      "valid (3/10) loss: 0.8515006899833679 | loss/mean: 0.8515006899833679 | loss/std: 0.202119488004248 | lr: 0.02 | momentum: 0.9\n",
      "* Epoch (3/10) \n"
     ]
    },
    {
     "data": {
      "application/vnd.jupyter.widget-view+json": {
       "model_id": "237539120de746faa95f42cf2c8cb084",
       "version_major": 2,
       "version_minor": 0
      },
      "text/plain": [
       "4/10 * Epoch (train):   0%|          | 0/10 [00:00<?, ?it/s]"
      ]
     },
     "metadata": {},
     "output_type": "display_data"
    },
    {
     "name": "stdout",
     "output_type": "stream",
     "text": [
      "train (4/10) loss: 0.9089971899986267 | loss/mean: 0.9089971899986267 | loss/std: 0.10178938680479316 | lr: 0.02 | momentum: 0.9\n"
     ]
    },
    {
     "data": {
      "application/vnd.jupyter.widget-view+json": {
       "model_id": "038f83756f56445ea731bf89a7fac20b",
       "version_major": 2,
       "version_minor": 0
      },
      "text/plain": [
       "4/10 * Epoch (valid):   0%|          | 0/5 [00:00<?, ?it/s]"
      ]
     },
     "metadata": {},
     "output_type": "display_data"
    },
    {
     "name": "stdout",
     "output_type": "stream",
     "text": [
      "valid (4/10) loss: 0.8514438152313233 | loss/mean: 0.8514438152313233 | loss/std: 0.2020297442463405 | lr: 0.02 | momentum: 0.9\n",
      "* Epoch (4/10) \n"
     ]
    },
    {
     "data": {
      "application/vnd.jupyter.widget-view+json": {
       "model_id": "6e24e91a54c840fa99acbc501488704b",
       "version_major": 2,
       "version_minor": 0
      },
      "text/plain": [
       "5/10 * Epoch (train):   0%|          | 0/10 [00:00<?, ?it/s]"
      ]
     },
     "metadata": {},
     "output_type": "display_data"
    },
    {
     "name": "stdout",
     "output_type": "stream",
     "text": [
      "train (5/10) loss: 0.9014264345169067 | loss/mean: 0.9014264345169067 | loss/std: 0.1029729200719927 | lr: 0.02 | momentum: 0.9\n"
     ]
    },
    {
     "data": {
      "application/vnd.jupyter.widget-view+json": {
       "model_id": "d3cb452ac29844e3a1cace9da0b51ce3",
       "version_major": 2,
       "version_minor": 0
      },
      "text/plain": [
       "5/10 * Epoch (valid):   0%|          | 0/5 [00:00<?, ?it/s]"
      ]
     },
     "metadata": {},
     "output_type": "display_data"
    },
    {
     "name": "stdout",
     "output_type": "stream",
     "text": [
      "valid (5/10) loss: 0.8514398097991943 | loss/mean: 0.8514398097991943 | loss/std: 0.2020253670068299 | lr: 0.02 | momentum: 0.9\n",
      "* Epoch (5/10) \n"
     ]
    },
    {
     "data": {
      "application/vnd.jupyter.widget-view+json": {
       "model_id": "b6924f9a06b74bc1ac511a329d1b8a01",
       "version_major": 2,
       "version_minor": 0
      },
      "text/plain": [
       "6/10 * Epoch (train):   0%|          | 0/10 [00:00<?, ?it/s]"
      ]
     },
     "metadata": {},
     "output_type": "display_data"
    },
    {
     "name": "stdout",
     "output_type": "stream",
     "text": [
      "train (6/10) loss: 0.9008661985397339 | loss/mean: 0.9008661985397339 | loss/std: 0.1024013295188078 | lr: 0.02 | momentum: 0.9\n"
     ]
    },
    {
     "data": {
      "application/vnd.jupyter.widget-view+json": {
       "model_id": "ef02fb65875a44a2a0ae48d1afe77af7",
       "version_major": 2,
       "version_minor": 0
      },
      "text/plain": [
       "6/10 * Epoch (valid):   0%|          | 0/5 [00:00<?, ?it/s]"
      ]
     },
     "metadata": {},
     "output_type": "display_data"
    },
    {
     "name": "stdout",
     "output_type": "stream",
     "text": [
      "valid (6/10) loss: 0.8487295150756836 | loss/mean: 0.8487295150756836 | loss/std: 0.1989905462649412 | lr: 0.02 | momentum: 0.9\n",
      "* Epoch (6/10) \n"
     ]
    },
    {
     "data": {
      "application/vnd.jupyter.widget-view+json": {
       "model_id": "73230a40adf44a2f9250bd55e2e5e4fa",
       "version_major": 2,
       "version_minor": 0
      },
      "text/plain": [
       "7/10 * Epoch (train):   0%|          | 0/10 [00:00<?, ?it/s]"
      ]
     },
     "metadata": {},
     "output_type": "display_data"
    },
    {
     "name": "stdout",
     "output_type": "stream",
     "text": [
      "train (7/10) loss: 0.8322277128696443 | loss/mean: 0.8322277128696443 | loss/std: 0.08234812095124329 | lr: 0.02 | momentum: 0.9\n"
     ]
    },
    {
     "data": {
      "application/vnd.jupyter.widget-view+json": {
       "model_id": "259cdc7604004100b330f54ff8558ab5",
       "version_major": 2,
       "version_minor": 0
      },
      "text/plain": [
       "7/10 * Epoch (valid):   0%|          | 0/5 [00:00<?, ?it/s]"
      ]
     },
     "metadata": {},
     "output_type": "display_data"
    },
    {
     "name": "stdout",
     "output_type": "stream",
     "text": [
      "valid (7/10) loss: 0.6953249216079712 | loss/mean: 0.6953249216079712 | loss/std: 0.06973355072009223 | lr: 0.02 | momentum: 0.9\n",
      "* Epoch (7/10) \n"
     ]
    },
    {
     "data": {
      "application/vnd.jupyter.widget-view+json": {
       "model_id": "2b7f8d94a8044eb899cb52ddedf4be36",
       "version_major": 2,
       "version_minor": 0
      },
      "text/plain": [
       "8/10 * Epoch (train):   0%|          | 0/10 [00:00<?, ?it/s]"
      ]
     },
     "metadata": {},
     "output_type": "display_data"
    },
    {
     "name": "stdout",
     "output_type": "stream",
     "text": [
      "train (8/10) loss: 0.6915811598300934 | loss/mean: 0.6915811598300934 | loss/std: 0.06945356192315759 | lr: 0.02 | momentum: 0.9\n"
     ]
    },
    {
     "data": {
      "application/vnd.jupyter.widget-view+json": {
       "model_id": "4b749d107dad4c28a4ef62f1d2d57a37",
       "version_major": 2,
       "version_minor": 0
      },
      "text/plain": [
       "8/10 * Epoch (valid):   0%|          | 0/5 [00:00<?, ?it/s]"
      ]
     },
     "metadata": {},
     "output_type": "display_data"
    },
    {
     "name": "stdout",
     "output_type": "stream",
     "text": [
      "valid (8/10) loss: 0.6044048309326172 | loss/mean: 0.6044048309326172 | loss/std: 0.07595842888584106 | lr: 0.02 | momentum: 0.9\n",
      "* Epoch (8/10) \n"
     ]
    },
    {
     "data": {
      "application/vnd.jupyter.widget-view+json": {
       "model_id": "8a2a9480e3464b7d83ab9d7307ca61fb",
       "version_major": 2,
       "version_minor": 0
      },
      "text/plain": [
       "9/10 * Epoch (train):   0%|          | 0/10 [00:00<?, ?it/s]"
      ]
     },
     "metadata": {},
     "output_type": "display_data"
    },
    {
     "name": "stdout",
     "output_type": "stream",
     "text": [
      "train (9/10) loss: 0.6582734167575838 | loss/mean: 0.6582734167575838 | loss/std: 0.10594252284976946 | lr: 0.02 | momentum: 0.9\n"
     ]
    },
    {
     "data": {
      "application/vnd.jupyter.widget-view+json": {
       "model_id": "dfb908b24585491bbbf2eaf779f06d9b",
       "version_major": 2,
       "version_minor": 0
      },
      "text/plain": [
       "9/10 * Epoch (valid):   0%|          | 0/5 [00:00<?, ?it/s]"
      ]
     },
     "metadata": {},
     "output_type": "display_data"
    },
    {
     "name": "stdout",
     "output_type": "stream",
     "text": [
      "valid (9/10) loss: 0.6839355945587158 | loss/mean: 0.6839355945587158 | loss/std: 0.1168070292570471 | lr: 0.02 | momentum: 0.9\n",
      "* Epoch (9/10) \n"
     ]
    },
    {
     "data": {
      "application/vnd.jupyter.widget-view+json": {
       "model_id": "d1d7f3c6da6e40af886a4f95c13b0806",
       "version_major": 2,
       "version_minor": 0
      },
      "text/plain": [
       "10/10 * Epoch (train):   0%|          | 0/10 [00:00<?, ?it/s]"
      ]
     },
     "metadata": {},
     "output_type": "display_data"
    },
    {
     "name": "stdout",
     "output_type": "stream",
     "text": [
      "train (10/10) loss: 0.6127218782901763 | loss/mean: 0.6127218782901763 | loss/std: 0.06151893773915716 | lr: 0.02 | momentum: 0.9\n"
     ]
    },
    {
     "data": {
      "application/vnd.jupyter.widget-view+json": {
       "model_id": "ae67ac0acd814c62b0069e91ebc49ed5",
       "version_major": 2,
       "version_minor": 0
      },
      "text/plain": [
       "10/10 * Epoch (valid):   0%|          | 0/5 [00:00<?, ?it/s]"
      ]
     },
     "metadata": {},
     "output_type": "display_data"
    },
    {
     "name": "stdout",
     "output_type": "stream",
     "text": [
      "valid (10/10) loss: 0.5952696204185486 | loss/mean: 0.5952696204185486 | loss/std: 0.07733629271737244 | lr: 0.02 | momentum: 0.9\n",
      "* Epoch (10/10) \n",
      "Top models:\n",
      "experiments/model.0010.pth\t10.0000\n"
     ]
    },
    {
     "data": {
      "application/vnd.jupyter.widget-view+json": {
       "model_id": "0b59e1ce161049069ea326bc4dcc38a0",
       "version_major": 2,
       "version_minor": 0
      },
      "text/plain": [
       "1/10 * Epoch (train):   0%|          | 0/10 [00:00<?, ?it/s]"
      ]
     },
     "metadata": {},
     "output_type": "display_data"
    },
    {
     "name": "stdout",
     "output_type": "stream",
     "text": [
      "train (1/10) loss: 1.0652336716651913 | loss/mean: 1.0652336716651913 | loss/std: 0.03392065730787069 | lr: 0.02 | momentum: 0.9\n"
     ]
    },
    {
     "data": {
      "application/vnd.jupyter.widget-view+json": {
       "model_id": "a92aa82d2de54b80aa49fbe69a7502b3",
       "version_major": 2,
       "version_minor": 0
      },
      "text/plain": [
       "1/10 * Epoch (valid):   0%|          | 0/5 [00:00<?, ?it/s]"
      ]
     },
     "metadata": {},
     "output_type": "display_data"
    },
    {
     "name": "stdout",
     "output_type": "stream",
     "text": [
      "valid (1/10) loss: 0.9201510667800903 | loss/mean: 0.9201510667800903 | loss/std: 0.062232362982389156 | lr: 0.02 | momentum: 0.9\n",
      "* Epoch (1/10) \n"
     ]
    },
    {
     "data": {
      "application/vnd.jupyter.widget-view+json": {
       "model_id": "12d53ba69ae842fdad250199dfe83172",
       "version_major": 2,
       "version_minor": 0
      },
      "text/plain": [
       "2/10 * Epoch (train):   0%|          | 0/10 [00:00<?, ?it/s]"
      ]
     },
     "metadata": {},
     "output_type": "display_data"
    },
    {
     "name": "stdout",
     "output_type": "stream",
     "text": [
      "train (2/10) loss: 0.8438780903816223 | loss/mean: 0.8438780903816223 | loss/std: 0.055747641298231884 | lr: 0.02 | momentum: 0.9\n"
     ]
    },
    {
     "data": {
      "application/vnd.jupyter.widget-view+json": {
       "model_id": "9f6898092c244d44967afaa5c5ffc52e",
       "version_major": 2,
       "version_minor": 0
      },
      "text/plain": [
       "2/10 * Epoch (valid):   0%|          | 0/5 [00:00<?, ?it/s]"
      ]
     },
     "metadata": {},
     "output_type": "display_data"
    },
    {
     "name": "stdout",
     "output_type": "stream",
     "text": [
      "valid (2/10) loss: 0.7524623394012451 | loss/mean: 0.7524623394012451 | loss/std: 0.09126937094538058 | lr: 0.02 | momentum: 0.9\n",
      "* Epoch (2/10) \n"
     ]
    },
    {
     "data": {
      "application/vnd.jupyter.widget-view+json": {
       "model_id": "ee7f83bf634244f6bebc1564fac59a83",
       "version_major": 2,
       "version_minor": 0
      },
      "text/plain": [
       "3/10 * Epoch (train):   0%|          | 0/10 [00:00<?, ?it/s]"
      ]
     },
     "metadata": {},
     "output_type": "display_data"
    },
    {
     "name": "stdout",
     "output_type": "stream",
     "text": [
      "train (3/10) loss: 0.723194706439972 | loss/mean: 0.723194706439972 | loss/std: 0.04485077314436222 | lr: 0.02 | momentum: 0.9\n"
     ]
    },
    {
     "data": {
      "application/vnd.jupyter.widget-view+json": {
       "model_id": "7383c255b97641c0b4df43a1ea1137f7",
       "version_major": 2,
       "version_minor": 0
      },
      "text/plain": [
       "3/10 * Epoch (valid):   0%|          | 0/5 [00:00<?, ?it/s]"
      ]
     },
     "metadata": {},
     "output_type": "display_data"
    },
    {
     "name": "stdout",
     "output_type": "stream",
     "text": [
      "valid (3/10) loss: 0.6303250670433045 | loss/mean: 0.6303250670433045 | loss/std: 0.0540282371006904 | lr: 0.02 | momentum: 0.9\n",
      "* Epoch (3/10) \n"
     ]
    },
    {
     "data": {
      "application/vnd.jupyter.widget-view+json": {
       "model_id": "019e2f9350494e3183856d66d4494c0b",
       "version_major": 2,
       "version_minor": 0
      },
      "text/plain": [
       "4/10 * Epoch (train):   0%|          | 0/10 [00:00<?, ?it/s]"
      ]
     },
     "metadata": {},
     "output_type": "display_data"
    },
    {
     "name": "stdout",
     "output_type": "stream",
     "text": [
      "train (4/10) loss: 0.6246481001377105 | loss/mean: 0.6246481001377105 | loss/std: 0.04726309721077959 | lr: 0.02 | momentum: 0.9\n"
     ]
    },
    {
     "data": {
      "application/vnd.jupyter.widget-view+json": {
       "model_id": "5177264cfeb843c582ac9fa559e558f4",
       "version_major": 2,
       "version_minor": 0
      },
      "text/plain": [
       "4/10 * Epoch (valid):   0%|          | 0/5 [00:00<?, ?it/s]"
      ]
     },
     "metadata": {},
     "output_type": "display_data"
    },
    {
     "name": "stdout",
     "output_type": "stream",
     "text": [
      "valid (4/10) loss: 0.6198530435562134 | loss/mean: 0.6198530435562134 | loss/std: 0.08066318731047406 | lr: 0.02 | momentum: 0.9\n",
      "* Epoch (4/10) \n"
     ]
    },
    {
     "data": {
      "application/vnd.jupyter.widget-view+json": {
       "model_id": "b75c1f66fae4480faf48d354dd65bd57",
       "version_major": 2,
       "version_minor": 0
      },
      "text/plain": [
       "5/10 * Epoch (train):   0%|          | 0/10 [00:00<?, ?it/s]"
      ]
     },
     "metadata": {},
     "output_type": "display_data"
    },
    {
     "name": "stdout",
     "output_type": "stream",
     "text": [
      "train (5/10) loss: 0.6117484986782074 | loss/mean: 0.6117484986782074 | loss/std: 0.06741337858423746 | lr: 0.02 | momentum: 0.9\n"
     ]
    },
    {
     "data": {
      "application/vnd.jupyter.widget-view+json": {
       "model_id": "72df4f3671934cf1a3c1dec535332215",
       "version_major": 2,
       "version_minor": 0
      },
      "text/plain": [
       "5/10 * Epoch (valid):   0%|          | 0/5 [00:00<?, ?it/s]"
      ]
     },
     "metadata": {},
     "output_type": "display_data"
    },
    {
     "name": "stdout",
     "output_type": "stream",
     "text": [
      "valid (5/10) loss: 0.6184580326080322 | loss/mean: 0.6184580326080322 | loss/std: 0.08377852782798285 | lr: 0.02 | momentum: 0.9\n",
      "* Epoch (5/10) \n"
     ]
    },
    {
     "data": {
      "application/vnd.jupyter.widget-view+json": {
       "model_id": "73b10597df2243279a6f1907fb18b681",
       "version_major": 2,
       "version_minor": 0
      },
      "text/plain": [
       "6/10 * Epoch (train):   0%|          | 0/10 [00:00<?, ?it/s]"
      ]
     },
     "metadata": {},
     "output_type": "display_data"
    },
    {
     "name": "stdout",
     "output_type": "stream",
     "text": [
      "train (6/10) loss: 0.6201589107513428 | loss/mean: 0.6201589107513428 | loss/std: 0.05484140608025079 | lr: 0.02 | momentum: 0.9\n"
     ]
    },
    {
     "data": {
      "application/vnd.jupyter.widget-view+json": {
       "model_id": "8f087ef394124413aa8635e98657fd10",
       "version_major": 2,
       "version_minor": 0
      },
      "text/plain": [
       "6/10 * Epoch (valid):   0%|          | 0/5 [00:00<?, ?it/s]"
      ]
     },
     "metadata": {},
     "output_type": "display_data"
    },
    {
     "name": "stdout",
     "output_type": "stream",
     "text": [
      "valid (6/10) loss: 0.5946909546852112 | loss/mean: 0.5946909546852112 | loss/std: 0.068792970105379 | lr: 0.02 | momentum: 0.9\n",
      "* Epoch (6/10) \n"
     ]
    },
    {
     "data": {
      "application/vnd.jupyter.widget-view+json": {
       "model_id": "7abd02857fc74732a975d7384da35653",
       "version_major": 2,
       "version_minor": 0
      },
      "text/plain": [
       "7/10 * Epoch (train):   0%|          | 0/10 [00:00<?, ?it/s]"
      ]
     },
     "metadata": {},
     "output_type": "display_data"
    },
    {
     "name": "stdout",
     "output_type": "stream",
     "text": [
      "train (7/10) loss: 0.6655430555343628 | loss/mean: 0.6655430555343628 | loss/std: 0.0843529238355563 | lr: 0.02 | momentum: 0.9\n"
     ]
    },
    {
     "data": {
      "application/vnd.jupyter.widget-view+json": {
       "model_id": "9e0832d9a2df4259807dde4c860d4a96",
       "version_major": 2,
       "version_minor": 0
      },
      "text/plain": [
       "7/10 * Epoch (valid):   0%|          | 0/5 [00:00<?, ?it/s]"
      ]
     },
     "metadata": {},
     "output_type": "display_data"
    },
    {
     "name": "stdout",
     "output_type": "stream",
     "text": [
      "valid (7/10) loss: 0.6155053973197937 | loss/mean: 0.6155053973197937 | loss/std: 0.0646987594436279 | lr: 0.02 | momentum: 0.9\n",
      "* Epoch (7/10) \n"
     ]
    },
    {
     "data": {
      "application/vnd.jupyter.widget-view+json": {
       "model_id": "2bcd037c41ad4318819d7afdde6d31a0",
       "version_major": 2,
       "version_minor": 0
      },
      "text/plain": [
       "8/10 * Epoch (train):   0%|          | 0/10 [00:00<?, ?it/s]"
      ]
     },
     "metadata": {},
     "output_type": "display_data"
    },
    {
     "name": "stdout",
     "output_type": "stream",
     "text": [
      "train (8/10) loss: 0.5944459557533265 | loss/mean: 0.5944459557533265 | loss/std: 0.04532737899674422 | lr: 0.02 | momentum: 0.9\n"
     ]
    },
    {
     "data": {
      "application/vnd.jupyter.widget-view+json": {
       "model_id": "2460e398416c4c85a0d41e46d536d3ef",
       "version_major": 2,
       "version_minor": 0
      },
      "text/plain": [
       "8/10 * Epoch (valid):   0%|          | 0/5 [00:00<?, ?it/s]"
      ]
     },
     "metadata": {},
     "output_type": "display_data"
    },
    {
     "name": "stdout",
     "output_type": "stream",
     "text": [
      "valid (8/10) loss: 0.5791426301002502 | loss/mean: 0.5791426301002502 | loss/std: 0.04500185247262213 | lr: 0.02 | momentum: 0.9\n",
      "* Epoch (8/10) \n"
     ]
    },
    {
     "data": {
      "application/vnd.jupyter.widget-view+json": {
       "model_id": "5a6a2afe63924d5587366e284573ae85",
       "version_major": 2,
       "version_minor": 0
      },
      "text/plain": [
       "9/10 * Epoch (train):   0%|          | 0/10 [00:00<?, ?it/s]"
      ]
     },
     "metadata": {},
     "output_type": "display_data"
    },
    {
     "name": "stdout",
     "output_type": "stream",
     "text": [
      "train (9/10) loss: 0.6013752579689027 | loss/mean: 0.6013752579689027 | loss/std: 0.061679789716029644 | lr: 0.02 | momentum: 0.9\n"
     ]
    },
    {
     "data": {
      "application/vnd.jupyter.widget-view+json": {
       "model_id": "321efc0eeb6c4860a0b4c56498e4e0bb",
       "version_major": 2,
       "version_minor": 0
      },
      "text/plain": [
       "9/10 * Epoch (valid):   0%|          | 0/5 [00:00<?, ?it/s]"
      ]
     },
     "metadata": {},
     "output_type": "display_data"
    },
    {
     "name": "stdout",
     "output_type": "stream",
     "text": [
      "valid (9/10) loss: 0.5849131226539612 | loss/mean: 0.5849131226539612 | loss/std: 0.03732484928772136 | lr: 0.02 | momentum: 0.9\n",
      "* Epoch (9/10) \n"
     ]
    },
    {
     "data": {
      "application/vnd.jupyter.widget-view+json": {
       "model_id": "a74d2474264a4ab9bbbe04604219bd59",
       "version_major": 2,
       "version_minor": 0
      },
      "text/plain": [
       "10/10 * Epoch (train):   0%|          | 0/10 [00:00<?, ?it/s]"
      ]
     },
     "metadata": {},
     "output_type": "display_data"
    },
    {
     "name": "stdout",
     "output_type": "stream",
     "text": [
      "train (10/10) loss: 0.6033385872840882 | loss/mean: 0.6033385872840882 | loss/std: 0.06560368877598852 | lr: 0.02 | momentum: 0.9\n"
     ]
    },
    {
     "data": {
      "application/vnd.jupyter.widget-view+json": {
       "model_id": "b8acf2e846554235b15f7cabe30273cb",
       "version_major": 2,
       "version_minor": 0
      },
      "text/plain": [
       "10/10 * Epoch (valid):   0%|          | 0/5 [00:00<?, ?it/s]"
      ]
     },
     "metadata": {},
     "output_type": "display_data"
    },
    {
     "name": "stdout",
     "output_type": "stream",
     "text": [
      "valid (10/10) loss: 0.5877746701240539 | loss/mean: 0.5877746701240539 | loss/std: 0.03895815017278494 | lr: 0.02 | momentum: 0.9\n",
      "* Epoch (10/10) \n",
      "Top models:\n",
      "experiments/model.0010.pth\t10.0000\n"
     ]
    },
    {
     "data": {
      "application/vnd.jupyter.widget-view+json": {
       "model_id": "42a050b546944dc5b9c0873c8e527b93",
       "version_major": 2,
       "version_minor": 0
      },
      "text/plain": [
       "1/10 * Epoch (train):   0%|          | 0/10 [00:00<?, ?it/s]"
      ]
     },
     "metadata": {},
     "output_type": "display_data"
    },
    {
     "name": "stdout",
     "output_type": "stream",
     "text": [
      "train (1/10) loss: 1.075685405731201 | loss/mean: 1.075685405731201 | loss/std: 0.03178224726401924 | lr: 0.02 | momentum: 0.9\n"
     ]
    },
    {
     "data": {
      "application/vnd.jupyter.widget-view+json": {
       "model_id": "d3ad1a55ed5643a89a35fc34f4e51a5c",
       "version_major": 2,
       "version_minor": 0
      },
      "text/plain": [
       "1/10 * Epoch (valid):   0%|          | 0/5 [00:00<?, ?it/s]"
      ]
     },
     "metadata": {},
     "output_type": "display_data"
    },
    {
     "name": "stdout",
     "output_type": "stream",
     "text": [
      "valid (1/10) loss: 0.895913565158844 | loss/mean: 0.895913565158844 | loss/std: 0.06035832199513633 | lr: 0.02 | momentum: 0.9\n",
      "* Epoch (1/10) \n"
     ]
    },
    {
     "data": {
      "application/vnd.jupyter.widget-view+json": {
       "model_id": "1d8a080910094a878a065d8b426b66ff",
       "version_major": 2,
       "version_minor": 0
      },
      "text/plain": [
       "2/10 * Epoch (train):   0%|          | 0/10 [00:00<?, ?it/s]"
      ]
     },
     "metadata": {},
     "output_type": "display_data"
    },
    {
     "name": "stdout",
     "output_type": "stream",
     "text": [
      "train (2/10) loss: 0.8213372111320496 | loss/mean: 0.8213372111320496 | loss/std: 0.06998392927360224 | lr: 0.02 | momentum: 0.9\n"
     ]
    },
    {
     "data": {
      "application/vnd.jupyter.widget-view+json": {
       "model_id": "ba96efdd0ead42ff93af5e053d1f18a5",
       "version_major": 2,
       "version_minor": 0
      },
      "text/plain": [
       "2/10 * Epoch (valid):   0%|          | 0/5 [00:00<?, ?it/s]"
      ]
     },
     "metadata": {},
     "output_type": "display_data"
    },
    {
     "name": "stdout",
     "output_type": "stream",
     "text": [
      "valid (2/10) loss: 0.6649673342704773 | loss/mean: 0.6649673342704773 | loss/std: 0.058121312791242954 | lr: 0.02 | momentum: 0.9\n",
      "* Epoch (2/10) \n"
     ]
    },
    {
     "data": {
      "application/vnd.jupyter.widget-view+json": {
       "model_id": "12391a5c166e4d2481e3fad9d35fd831",
       "version_major": 2,
       "version_minor": 0
      },
      "text/plain": [
       "3/10 * Epoch (train):   0%|          | 0/10 [00:00<?, ?it/s]"
      ]
     },
     "metadata": {},
     "output_type": "display_data"
    },
    {
     "name": "stdout",
     "output_type": "stream",
     "text": [
      "train (3/10) loss: 0.6331037044525146 | loss/mean: 0.6331037044525146 | loss/std: 0.04670980227454376 | lr: 0.02 | momentum: 0.9\n"
     ]
    },
    {
     "data": {
      "application/vnd.jupyter.widget-view+json": {
       "model_id": "c812e2ea9eb74cce8dc5f2007f8d6f6d",
       "version_major": 2,
       "version_minor": 0
      },
      "text/plain": [
       "3/10 * Epoch (valid):   0%|          | 0/5 [00:00<?, ?it/s]"
      ]
     },
     "metadata": {},
     "output_type": "display_data"
    },
    {
     "name": "stdout",
     "output_type": "stream",
     "text": [
      "valid (3/10) loss: 0.6122995257377625 | loss/mean: 0.6122995257377625 | loss/std: 0.04855859474421712 | lr: 0.02 | momentum: 0.9\n",
      "* Epoch (3/10) \n"
     ]
    },
    {
     "data": {
      "application/vnd.jupyter.widget-view+json": {
       "model_id": "2dc6860c76d648c6976bcdb5ca11e493",
       "version_major": 2,
       "version_minor": 0
      },
      "text/plain": [
       "4/10 * Epoch (train):   0%|          | 0/10 [00:00<?, ?it/s]"
      ]
     },
     "metadata": {},
     "output_type": "display_data"
    },
    {
     "name": "stdout",
     "output_type": "stream",
     "text": [
      "train (4/10) loss: 0.6583375811576843 | loss/mean: 0.6583375811576843 | loss/std: 0.1062352413924385 | lr: 0.02 | momentum: 0.9\n"
     ]
    },
    {
     "data": {
      "application/vnd.jupyter.widget-view+json": {
       "model_id": "e47c7331984a40f9b9a57fc3007d5408",
       "version_major": 2,
       "version_minor": 0
      },
      "text/plain": [
       "4/10 * Epoch (valid):   0%|          | 0/5 [00:00<?, ?it/s]"
      ]
     },
     "metadata": {},
     "output_type": "display_data"
    },
    {
     "name": "stdout",
     "output_type": "stream",
     "text": [
      "valid (4/10) loss: 0.6220185875892639 | loss/mean: 0.6220185875892639 | loss/std: 0.10374422445263246 | lr: 0.02 | momentum: 0.9\n",
      "* Epoch (4/10) \n"
     ]
    },
    {
     "data": {
      "application/vnd.jupyter.widget-view+json": {
       "model_id": "0da57f4ab8c7490ca2fc8a5cf792a0da",
       "version_major": 2,
       "version_minor": 0
      },
      "text/plain": [
       "5/10 * Epoch (train):   0%|          | 0/10 [00:00<?, ?it/s]"
      ]
     },
     "metadata": {},
     "output_type": "display_data"
    },
    {
     "name": "stdout",
     "output_type": "stream",
     "text": [
      "train (5/10) loss: 0.6146392464637757 | loss/mean: 0.6146392464637757 | loss/std: 0.05761296953331951 | lr: 0.02 | momentum: 0.9\n"
     ]
    },
    {
     "data": {
      "application/vnd.jupyter.widget-view+json": {
       "model_id": "ce6eb93998564b728d4f752bd4041341",
       "version_major": 2,
       "version_minor": 0
      },
      "text/plain": [
       "5/10 * Epoch (valid):   0%|          | 0/5 [00:00<?, ?it/s]"
      ]
     },
     "metadata": {},
     "output_type": "display_data"
    },
    {
     "name": "stdout",
     "output_type": "stream",
     "text": [
      "valid (5/10) loss: 0.6057592868804932 | loss/mean: 0.6057592868804932 | loss/std: 0.09983176585190258 | lr: 0.02 | momentum: 0.9\n",
      "* Epoch (5/10) \n"
     ]
    },
    {
     "data": {
      "application/vnd.jupyter.widget-view+json": {
       "model_id": "71d8ac011a6148a0b940b5de7ae1d43d",
       "version_major": 2,
       "version_minor": 0
      },
      "text/plain": [
       "6/10 * Epoch (train):   0%|          | 0/10 [00:00<?, ?it/s]"
      ]
     },
     "metadata": {},
     "output_type": "display_data"
    },
    {
     "name": "stdout",
     "output_type": "stream",
     "text": [
      "train (6/10) loss: 0.6763321042060852 | loss/mean: 0.6763321042060852 | loss/std: 0.12083293098204732 | lr: 0.02 | momentum: 0.9\n"
     ]
    },
    {
     "data": {
      "application/vnd.jupyter.widget-view+json": {
       "model_id": "3394f12194c148308644923b4deda7d5",
       "version_major": 2,
       "version_minor": 0
      },
      "text/plain": [
       "6/10 * Epoch (valid):   0%|          | 0/5 [00:00<?, ?it/s]"
      ]
     },
     "metadata": {},
     "output_type": "display_data"
    },
    {
     "name": "stdout",
     "output_type": "stream",
     "text": [
      "valid (6/10) loss: 0.8512117505073548 | loss/mean: 0.8512117505073548 | loss/std: 0.20175280548470007 | lr: 0.02 | momentum: 0.9\n",
      "* Epoch (6/10) \n"
     ]
    },
    {
     "data": {
      "application/vnd.jupyter.widget-view+json": {
       "model_id": "17b4c1b2b3dc4a909b50f0a35acf4149",
       "version_major": 2,
       "version_minor": 0
      },
      "text/plain": [
       "7/10 * Epoch (train):   0%|          | 0/10 [00:00<?, ?it/s]"
      ]
     },
     "metadata": {},
     "output_type": "display_data"
    },
    {
     "name": "stdout",
     "output_type": "stream",
     "text": [
      "train (7/10) loss: 0.9012219786643981 | loss/mean: 0.9012219786643981 | loss/std: 0.10288263399091986 | lr: 0.02 | momentum: 0.9\n"
     ]
    },
    {
     "data": {
      "application/vnd.jupyter.widget-view+json": {
       "model_id": "82883dfa60f44a0f869be5ffb1f0e2ef",
       "version_major": 2,
       "version_minor": 0
      },
      "text/plain": [
       "7/10 * Epoch (valid):   0%|          | 0/5 [00:00<?, ?it/s]"
      ]
     },
     "metadata": {},
     "output_type": "display_data"
    },
    {
     "name": "stdout",
     "output_type": "stream",
     "text": [
      "valid (7/10) loss: 0.851444685459137 | loss/mean: 0.851444685459137 | loss/std: 0.20203052697338075 | lr: 0.02 | momentum: 0.9\n",
      "* Epoch (7/10) \n"
     ]
    },
    {
     "data": {
      "application/vnd.jupyter.widget-view+json": {
       "model_id": "9bc0bed8f1cc4834bb6e917b568eb53a",
       "version_major": 2,
       "version_minor": 0
      },
      "text/plain": [
       "8/10 * Epoch (train):   0%|          | 0/10 [00:00<?, ?it/s]"
      ]
     },
     "metadata": {},
     "output_type": "display_data"
    },
    {
     "name": "stdout",
     "output_type": "stream",
     "text": [
      "train (8/10) loss: 0.9014447152614593 | loss/mean: 0.9014447152614593 | loss/std: 0.10298576927790941 | lr: 0.02 | momentum: 0.9\n"
     ]
    },
    {
     "data": {
      "application/vnd.jupyter.widget-view+json": {
       "model_id": "5bed1c7631394895a40073caa90e4433",
       "version_major": 2,
       "version_minor": 0
      },
      "text/plain": [
       "8/10 * Epoch (valid):   0%|          | 0/5 [00:00<?, ?it/s]"
      ]
     },
     "metadata": {},
     "output_type": "display_data"
    },
    {
     "name": "stdout",
     "output_type": "stream",
     "text": [
      "valid (8/10) loss: 0.851444685459137 | loss/mean: 0.851444685459137 | loss/std: 0.20203052697338075 | lr: 0.02 | momentum: 0.9\n",
      "* Epoch (8/10) \n"
     ]
    },
    {
     "data": {
      "application/vnd.jupyter.widget-view+json": {
       "model_id": "5b15972b1ea84f33ad653eaedaa7bdac",
       "version_major": 2,
       "version_minor": 0
      },
      "text/plain": [
       "9/10 * Epoch (train):   0%|          | 0/10 [00:00<?, ?it/s]"
      ]
     },
     "metadata": {},
     "output_type": "display_data"
    },
    {
     "name": "stdout",
     "output_type": "stream",
     "text": [
      "train (9/10) loss: 0.9014447271823883 | loss/mean: 0.9014447271823883 | loss/std: 0.10298576343178274 | lr: 0.02 | momentum: 0.9\n"
     ]
    },
    {
     "data": {
      "application/vnd.jupyter.widget-view+json": {
       "model_id": "f06750678e0948009abbd8a358294221",
       "version_major": 2,
       "version_minor": 0
      },
      "text/plain": [
       "9/10 * Epoch (valid):   0%|          | 0/5 [00:00<?, ?it/s]"
      ]
     },
     "metadata": {},
     "output_type": "display_data"
    },
    {
     "name": "stdout",
     "output_type": "stream",
     "text": [
      "valid (9/10) loss: 0.851444685459137 | loss/mean: 0.851444685459137 | loss/std: 0.20203052697338075 | lr: 0.02 | momentum: 0.9\n",
      "* Epoch (9/10) \n"
     ]
    },
    {
     "data": {
      "application/vnd.jupyter.widget-view+json": {
       "model_id": "aec6df7345224cd49404562fa63d3d75",
       "version_major": 2,
       "version_minor": 0
      },
      "text/plain": [
       "10/10 * Epoch (train):   0%|          | 0/10 [00:00<?, ?it/s]"
      ]
     },
     "metadata": {},
     "output_type": "display_data"
    },
    {
     "name": "stdout",
     "output_type": "stream",
     "text": [
      "train (10/10) loss: 0.9014447271823883 | loss/mean: 0.9014447271823883 | loss/std: 0.10298576343178274 | lr: 0.02 | momentum: 0.9\n"
     ]
    },
    {
     "data": {
      "application/vnd.jupyter.widget-view+json": {
       "model_id": "5fd17e00ebaa48b788b83c4496b71f03",
       "version_major": 2,
       "version_minor": 0
      },
      "text/plain": [
       "10/10 * Epoch (valid):   0%|          | 0/5 [00:00<?, ?it/s]"
      ]
     },
     "metadata": {},
     "output_type": "display_data"
    },
    {
     "name": "stdout",
     "output_type": "stream",
     "text": [
      "valid (10/10) loss: 0.851444685459137 | loss/mean: 0.851444685459137 | loss/std: 0.20203052697338075 | lr: 0.02 | momentum: 0.9\n",
      "* Epoch (10/10) \n",
      "Top models:\n",
      "experiments/model.0010.pth\t10.0000\n"
     ]
    },
    {
     "data": {
      "application/vnd.jupyter.widget-view+json": {
       "model_id": "cef5691b81f145be8e82e15102ad083b",
       "version_major": 2,
       "version_minor": 0
      },
      "text/plain": [
       "1/10 * Epoch (train):   0%|          | 0/10 [00:00<?, ?it/s]"
      ]
     },
     "metadata": {},
     "output_type": "display_data"
    },
    {
     "name": "stdout",
     "output_type": "stream",
     "text": [
      "train (1/10) loss: 1.0962778449058532 | loss/mean: 1.0962778449058532 | loss/std: 0.027680003802684178 | lr: 0.02 | momentum: 0.9\n"
     ]
    },
    {
     "data": {
      "application/vnd.jupyter.widget-view+json": {
       "model_id": "10995fc47e3f450dab9c8f7442fb4cc0",
       "version_major": 2,
       "version_minor": 0
      },
      "text/plain": [
       "1/10 * Epoch (valid):   0%|          | 0/5 [00:00<?, ?it/s]"
      ]
     },
     "metadata": {},
     "output_type": "display_data"
    },
    {
     "name": "stdout",
     "output_type": "stream",
     "text": [
      "valid (1/10) loss: 1.0453269958496094 | loss/mean: 1.0453269958496094 | loss/std: 0.035175976124892004 | lr: 0.02 | momentum: 0.9\n",
      "* Epoch (1/10) \n"
     ]
    },
    {
     "data": {
      "application/vnd.jupyter.widget-view+json": {
       "model_id": "3464f819d0ea409d8e5e529a0cdcceae",
       "version_major": 2,
       "version_minor": 0
      },
      "text/plain": [
       "2/10 * Epoch (train):   0%|          | 0/10 [00:00<?, ?it/s]"
      ]
     },
     "metadata": {},
     "output_type": "display_data"
    },
    {
     "name": "stdout",
     "output_type": "stream",
     "text": [
      "train (2/10) loss: 0.9754522919654844 | loss/mean: 0.9754522919654844 | loss/std: 0.05695535879922668 | lr: 0.02 | momentum: 0.9\n"
     ]
    },
    {
     "data": {
      "application/vnd.jupyter.widget-view+json": {
       "model_id": "f9ae601b1a7c401790b976f12b7826ae",
       "version_major": 2,
       "version_minor": 0
      },
      "text/plain": [
       "2/10 * Epoch (valid):   0%|          | 0/5 [00:00<?, ?it/s]"
      ]
     },
     "metadata": {},
     "output_type": "display_data"
    },
    {
     "name": "stdout",
     "output_type": "stream",
     "text": [
      "valid (2/10) loss: 0.8232440948486328 | loss/mean: 0.8232440948486328 | loss/std: 0.07057036592329 | lr: 0.02 | momentum: 0.9\n",
      "* Epoch (2/10) \n"
     ]
    },
    {
     "data": {
      "application/vnd.jupyter.widget-view+json": {
       "model_id": "64465b20a4314e6fb563434b7279a75d",
       "version_major": 2,
       "version_minor": 0
      },
      "text/plain": [
       "3/10 * Epoch (train):   0%|          | 0/10 [00:00<?, ?it/s]"
      ]
     },
     "metadata": {},
     "output_type": "display_data"
    },
    {
     "name": "stdout",
     "output_type": "stream",
     "text": [
      "train (3/10) loss: 0.7767148554325104 | loss/mean: 0.7767148554325104 | loss/std: 0.04823939908546852 | lr: 0.02 | momentum: 0.9\n"
     ]
    },
    {
     "data": {
      "application/vnd.jupyter.widget-view+json": {
       "model_id": "ba26c2c0b47f430aa495566af669c40c",
       "version_major": 2,
       "version_minor": 0
      },
      "text/plain": [
       "3/10 * Epoch (valid):   0%|          | 0/5 [00:00<?, ?it/s]"
      ]
     },
     "metadata": {},
     "output_type": "display_data"
    },
    {
     "name": "stdout",
     "output_type": "stream",
     "text": [
      "valid (3/10) loss: 0.6781964421272277 | loss/mean: 0.6781964421272277 | loss/std: 0.060763248053669956 | lr: 0.02 | momentum: 0.9\n",
      "* Epoch (3/10) \n"
     ]
    },
    {
     "data": {
      "application/vnd.jupyter.widget-view+json": {
       "model_id": "ba1708902d55474e89144d54cd8d6716",
       "version_major": 2,
       "version_minor": 0
      },
      "text/plain": [
       "4/10 * Epoch (train):   0%|          | 0/10 [00:00<?, ?it/s]"
      ]
     },
     "metadata": {},
     "output_type": "display_data"
    },
    {
     "name": "stdout",
     "output_type": "stream",
     "text": [
      "train (4/10) loss: 0.6582090258598328 | loss/mean: 0.6582090258598328 | loss/std: 0.03622252899968127 | lr: 0.02 | momentum: 0.9\n"
     ]
    },
    {
     "data": {
      "application/vnd.jupyter.widget-view+json": {
       "model_id": "df700794b2bd42d8835b46af0da68820",
       "version_major": 2,
       "version_minor": 0
      },
      "text/plain": [
       "4/10 * Epoch (valid):   0%|          | 0/5 [00:00<?, ?it/s]"
      ]
     },
     "metadata": {},
     "output_type": "display_data"
    },
    {
     "name": "stdout",
     "output_type": "stream",
     "text": [
      "valid (4/10) loss: 0.6289604783058167 | loss/mean: 0.6289604783058167 | loss/std: 0.07010127250751018 | lr: 0.02 | momentum: 0.9\n",
      "* Epoch (4/10) \n"
     ]
    },
    {
     "data": {
      "application/vnd.jupyter.widget-view+json": {
       "model_id": "302bec3258c44e35b1381fc95b6c3fef",
       "version_major": 2,
       "version_minor": 0
      },
      "text/plain": [
       "5/10 * Epoch (train):   0%|          | 0/10 [00:00<?, ?it/s]"
      ]
     },
     "metadata": {},
     "output_type": "display_data"
    },
    {
     "name": "stdout",
     "output_type": "stream",
     "text": [
      "train (5/10) loss: 0.6174744248390197 | loss/mean: 0.6174744248390197 | loss/std: 0.03853228873084861 | lr: 0.02 | momentum: 0.9\n"
     ]
    },
    {
     "data": {
      "application/vnd.jupyter.widget-view+json": {
       "model_id": "957d6546b9054e0e8b7712efb6d89674",
       "version_major": 2,
       "version_minor": 0
      },
      "text/plain": [
       "5/10 * Epoch (valid):   0%|          | 0/5 [00:00<?, ?it/s]"
      ]
     },
     "metadata": {},
     "output_type": "display_data"
    },
    {
     "name": "stdout",
     "output_type": "stream",
     "text": [
      "valid (5/10) loss: 0.6096050858497619 | loss/mean: 0.6096050858497619 | loss/std: 0.07129125460186055 | lr: 0.02 | momentum: 0.9\n",
      "* Epoch (5/10) \n"
     ]
    },
    {
     "data": {
      "application/vnd.jupyter.widget-view+json": {
       "model_id": "376f3b5e5102485fbb3f6ca456c91c3b",
       "version_major": 2,
       "version_minor": 0
      },
      "text/plain": [
       "6/10 * Epoch (train):   0%|          | 0/10 [00:00<?, ?it/s]"
      ]
     },
     "metadata": {},
     "output_type": "display_data"
    },
    {
     "name": "stdout",
     "output_type": "stream",
     "text": [
      "train (6/10) loss: 0.6001222729682922 | loss/mean: 0.6001222729682922 | loss/std: 0.048040824024589326 | lr: 0.02 | momentum: 0.9\n"
     ]
    },
    {
     "data": {
      "application/vnd.jupyter.widget-view+json": {
       "model_id": "8ea3edcea2e24d6bbdcc363c749da995",
       "version_major": 2,
       "version_minor": 0
      },
      "text/plain": [
       "6/10 * Epoch (valid):   0%|          | 0/5 [00:00<?, ?it/s]"
      ]
     },
     "metadata": {},
     "output_type": "display_data"
    },
    {
     "name": "stdout",
     "output_type": "stream",
     "text": [
      "valid (6/10) loss: 0.6058455824851989 | loss/mean: 0.6058455824851989 | loss/std: 0.07370464744591872 | lr: 0.02 | momentum: 0.9\n",
      "* Epoch (6/10) \n"
     ]
    },
    {
     "data": {
      "application/vnd.jupyter.widget-view+json": {
       "model_id": "206d8f12efae40bc897db49447398ad4",
       "version_major": 2,
       "version_minor": 0
      },
      "text/plain": [
       "7/10 * Epoch (train):   0%|          | 0/10 [00:00<?, ?it/s]"
      ]
     },
     "metadata": {},
     "output_type": "display_data"
    },
    {
     "name": "stdout",
     "output_type": "stream",
     "text": [
      "train (7/10) loss: 0.6184334397315979 | loss/mean: 0.6184334397315979 | loss/std: 0.06254564528301507 | lr: 0.02 | momentum: 0.9\n"
     ]
    },
    {
     "data": {
      "application/vnd.jupyter.widget-view+json": {
       "model_id": "fbde9103f0074aac8a0322d5b5c5d529",
       "version_major": 2,
       "version_minor": 0
      },
      "text/plain": [
       "7/10 * Epoch (valid):   0%|          | 0/5 [00:00<?, ?it/s]"
      ]
     },
     "metadata": {},
     "output_type": "display_data"
    },
    {
     "name": "stdout",
     "output_type": "stream",
     "text": [
      "valid (7/10) loss: 0.6231663346290588 | loss/mean: 0.6231663346290588 | loss/std: 0.08440586053255185 | lr: 0.02 | momentum: 0.9\n",
      "* Epoch (7/10) \n"
     ]
    },
    {
     "data": {
      "application/vnd.jupyter.widget-view+json": {
       "model_id": "8f69f7612cba44d6a50736ac3fdaaf26",
       "version_major": 2,
       "version_minor": 0
      },
      "text/plain": [
       "8/10 * Epoch (train):   0%|          | 0/10 [00:00<?, ?it/s]"
      ]
     },
     "metadata": {},
     "output_type": "display_data"
    },
    {
     "name": "stdout",
     "output_type": "stream",
     "text": [
      "train (8/10) loss: 0.6528749883174896 | loss/mean: 0.6528749883174896 | loss/std: 0.07413754899420924 | lr: 0.02 | momentum: 0.9\n"
     ]
    },
    {
     "data": {
      "application/vnd.jupyter.widget-view+json": {
       "model_id": "1442b5261a4242dc8b1e6ce26840f9fe",
       "version_major": 2,
       "version_minor": 0
      },
      "text/plain": [
       "8/10 * Epoch (valid):   0%|          | 0/5 [00:00<?, ?it/s]"
      ]
     },
     "metadata": {},
     "output_type": "display_data"
    },
    {
     "name": "stdout",
     "output_type": "stream",
     "text": [
      "valid (8/10) loss: 0.6139261841773986 | loss/mean: 0.6139261841773986 | loss/std: 0.05789440845061788 | lr: 0.02 | momentum: 0.9\n",
      "* Epoch (8/10) \n"
     ]
    },
    {
     "data": {
      "application/vnd.jupyter.widget-view+json": {
       "model_id": "ba9346d490684c5b88282bcf47466270",
       "version_major": 2,
       "version_minor": 0
      },
      "text/plain": [
       "9/10 * Epoch (train):   0%|          | 0/10 [00:00<?, ?it/s]"
      ]
     },
     "metadata": {},
     "output_type": "display_data"
    },
    {
     "name": "stdout",
     "output_type": "stream",
     "text": [
      "train (9/10) loss: 0.6003472089767456 | loss/mean: 0.6003472089767456 | loss/std: 0.03392144681106708 | lr: 0.02 | momentum: 0.9\n"
     ]
    },
    {
     "data": {
      "application/vnd.jupyter.widget-view+json": {
       "model_id": "aa2c332cdcc241c1bd8969f998acdc9a",
       "version_major": 2,
       "version_minor": 0
      },
      "text/plain": [
       "9/10 * Epoch (valid):   0%|          | 0/5 [00:00<?, ?it/s]"
      ]
     },
     "metadata": {},
     "output_type": "display_data"
    },
    {
     "name": "stdout",
     "output_type": "stream",
     "text": [
      "valid (9/10) loss: 0.578070855140686 | loss/mean: 0.578070855140686 | loss/std: 0.032555432216101125 | lr: 0.02 | momentum: 0.9\n",
      "* Epoch (9/10) \n"
     ]
    },
    {
     "data": {
      "application/vnd.jupyter.widget-view+json": {
       "model_id": "bd507fc8a23f4ee08a054233a5efb9e9",
       "version_major": 2,
       "version_minor": 0
      },
      "text/plain": [
       "10/10 * Epoch (train):   0%|          | 0/10 [00:00<?, ?it/s]"
      ]
     },
     "metadata": {},
     "output_type": "display_data"
    },
    {
     "name": "stdout",
     "output_type": "stream",
     "text": [
      "train (10/10) loss: 0.6397575318813323 | loss/mean: 0.6397575318813323 | loss/std: 0.08284234013907164 | lr: 0.02 | momentum: 0.9\n"
     ]
    },
    {
     "data": {
      "application/vnd.jupyter.widget-view+json": {
       "model_id": "f1e6c842489d4763b8934dc5899722da",
       "version_major": 2,
       "version_minor": 0
      },
      "text/plain": [
       "10/10 * Epoch (valid):   0%|          | 0/5 [00:00<?, ?it/s]"
      ]
     },
     "metadata": {},
     "output_type": "display_data"
    },
    {
     "name": "stdout",
     "output_type": "stream",
     "text": [
      "valid (10/10) loss: 0.5987631440162658 | loss/mean: 0.5987631440162658 | loss/std: 0.047015668781552104 | lr: 0.02 | momentum: 0.9\n",
      "* Epoch (10/10) \n",
      "Top models:\n",
      "experiments/model.0010.pth\t10.0000\n"
     ]
    }
   ],
   "source": [
    "for idx, layer_config in enumerate(layer_configurations):\n",
    "     train_and_evaluate_mlp(\n",
    "         idx, layer_config, epochs=10,\n",
    "     )"
   ]
  },
  {
   "cell_type": "code",
   "execution_count": null,
   "id": "255875d3-93af-4a57-aa0a-d4f4d21f6327",
   "metadata": {},
   "outputs": [],
   "source": []
  },
  {
   "cell_type": "code",
   "execution_count": null,
   "id": "10b57649-e5dd-42e2-8c90-02dc499156a0",
   "metadata": {},
   "outputs": [],
   "source": []
  },
  {
   "cell_type": "code",
   "execution_count": null,
   "id": "3df76dbf-7ade-4981-aa82-06b204f5171a",
   "metadata": {},
   "outputs": [],
   "source": []
  }
 ],
 "metadata": {
  "kernelspec": {
   "display_name": "Python (py310)",
   "language": "python",
   "name": "py310"
  },
  "language_info": {
   "codemirror_mode": {
    "name": "ipython",
    "version": 3
   },
   "file_extension": ".py",
   "mimetype": "text/x-python",
   "name": "python",
   "nbconvert_exporter": "python",
   "pygments_lexer": "ipython3",
   "version": "3.10.12"
  }
 },
 "nbformat": 4,
 "nbformat_minor": 5
}
