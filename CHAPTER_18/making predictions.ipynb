{
 "cells": [
  {
   "cell_type": "code",
   "execution_count": 1,
   "id": "07e7b15b-ace8-4eba-93d7-c2c2e671a501",
   "metadata": {},
   "outputs": [],
   "source": [
    "import datarobotx as drx\n",
    "import pandas as pd"
   ]
  },
  {
   "cell_type": "code",
   "execution_count": 2,
   "id": "2f484a15-fc62-419c-b12e-9ec68288caff",
   "metadata": {},
   "outputs": [],
   "source": [
    "deployment_id = \"651cd9f7cca2f7e017c91dda\"\n",
    "d = drx.Deployment(deployment_id)"
   ]
  },
  {
   "cell_type": "code",
   "execution_count": 12,
   "id": "2e45da6a-546e-491c-af06-95b3f469349f",
   "metadata": {},
   "outputs": [
    {
     "data": {
      "text/plain": [
       "{'token': 'NjA2ZTEwZjI2ZDM2ZTVmMTVjOTgxZDQ4OlQxc1lTRWtTOEJqUmx4SnZLTVVLdWN0VGFORnpCYTY0UjFlR3pmcW1VSDg9', 'endpoint': 'https://app.datarobot.com/api/v2', 'pred_server_id': '', 'enable_api_consumer_tracking': True, 'trace_context': None}"
      ]
     },
     "execution_count": 12,
     "metadata": {},
     "output_type": "execute_result"
    }
   ],
   "source": [
    "drx.Context(\n",
    "    token=\"NjA2ZTEwZjI2ZDM2ZTVmMTVjOTgxZDQ4OlQxc1lTRWtTOEJqUmx4SnZLTVVLdWN0VGFORnpCYTY0UjFlR3pmcW1VSDg9\",  # replace with your own token\n",
    "    endpoint=\"https://app.datarobot.com/api/v2\",\n",
    ")"
   ]
  },
  {
   "cell_type": "code",
   "execution_count": 13,
   "id": "327fab07-d30d-46d4-a3d8-19558baace34",
   "metadata": {},
   "outputs": [],
   "source": [
    "one_row_df = pd.read_csv(\"trulia_one_row.csv\")"
   ]
  },
  {
   "cell_type": "code",
   "execution_count": 14,
   "id": "14a2c4c8-8d83-4b82-b9a4-ed6b6fb98531",
   "metadata": {},
   "outputs": [
    {
     "data": {
      "application/vnd.jupyter.widget-view+json": {
       "model_id": "1ebcff31a1914fa78f36488a686f93a2",
       "version_major": 2,
       "version_minor": 0
      },
      "text/plain": [
       "VBox()"
      ]
     },
     "metadata": {},
     "output_type": "display_data"
    }
   ],
   "source": [
    "prediction_results = d.predict(one_row_df, max_explanations=3)"
   ]
  },
  {
   "cell_type": "code",
   "execution_count": 22,
   "id": "3e7aa6b2-2ecc-470d-baa9-859246f9b713",
   "metadata": {},
   "outputs": [
    {
     "name": "stdout",
     "output_type": "stream",
     "text": [
      "{\"prediction\":{\"0\":1020288.625},\"explanation_1_feature_name\":{\"0\":\"Price Sqr Ft\"},\"explanation_1_strength\":{\"0\":0.4690563465},\"explanation_1_actual_value\":{\"0\":\"$359\\/sqft\"},\"explanation_1_qualitative_strength\":{\"0\":\"+++\"},\"explanation_2_feature_name\":{\"0\":\"Description\"},\"explanation_2_strength\":{\"0\":0.3055447842},\"explanation_2_actual_value\":{\"0\":\" The table is set in this large Plan 4 with its top two levels of interactive living spaces for educating and engaging. Four bedrooms suit home-based entrepreneurs, stepchildren and a widowed parent who can come together in an expansive gathering room. An elongated deck invites open-air grilling and entertaining. A side-by-side garage adds valuable storage. \"},\"explanation_2_qualitative_strength\":{\"0\":\"++\"},\"explanation_3_feature_name\":{\"0\":\"Bath\"},\"explanation_3_strength\":{\"0\":0.2212744913},\"explanation_3_actual_value\":{\"0\":3.0},\"explanation_3_qualitative_strength\":{\"0\":\"++\"}}\n"
     ]
    }
   ],
   "source": [
    "print(prediction_results.to_json())"
   ]
  },
  {
   "cell_type": "code",
   "execution_count": null,
   "id": "ed006d71-0228-4bcd-8bf9-87c232a7532c",
   "metadata": {},
   "outputs": [],
   "source": []
  }
 ],
 "metadata": {
  "kernelspec": {
   "display_name": "Python (py310)",
   "language": "python",
   "name": "py310"
  },
  "language_info": {
   "codemirror_mode": {
    "name": "ipython",
    "version": 3
   },
   "file_extension": ".py",
   "mimetype": "text/x-python",
   "name": "python",
   "nbconvert_exporter": "python",
   "pygments_lexer": "ipython3",
   "version": "3.10.12"
  }
 },
 "nbformat": 4,
 "nbformat_minor": 5
}
