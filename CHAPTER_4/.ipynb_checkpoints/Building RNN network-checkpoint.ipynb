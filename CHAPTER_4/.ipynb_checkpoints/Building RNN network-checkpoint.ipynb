{
 "cells": [
  {
   "cell_type": "code",
   "execution_count": null,
   "id": "0a22270e-9aae-4c07-a1c3-e5c690f61746",
   "metadata": {},
   "outputs": [],
   "source": [
    "import torch.nn as nn"
   ]
  },
  {
   "cell_type": "markdown",
   "id": "a62b8132-f1c0-45c6-a356-d7356ba3affe",
   "metadata": {},
   "source": [
    "# LSTM"
   ]
  },
  {
   "cell_type": "code",
   "execution_count": null,
   "id": "8cb9b487-1dfb-4f63-9257-5d2f5bc839a9",
   "metadata": {},
   "outputs": [],
   "source": [
    "RNN = nn.Sequential(\n",
    "    nn.LSTM(\n",
    "        input_size=10, hidden_size=20, num_layers=2, dropout=0,\n",
    "    ),\n",
    "    nn.Linear(in_features=10, out_features=10),\n",
    "    nn.Softmax(),\n",
    ")"
   ]
  },
  {
   "cell_type": "markdown",
   "id": "7b0aeda8-502b-4bf7-bc8f-78c014ddfcf9",
   "metadata": {},
   "source": [
    "# GRU"
   ]
  },
  {
   "cell_type": "code",
   "execution_count": null,
   "id": "0ab8ce9b-a1c0-4f1d-a324-dfb7fc4ae66d",
   "metadata": {},
   "outputs": [],
   "source": [
    "RNN = nn.Sequential(\n",
    "    nn.GRU(input_size=10, hidden_size=20, num_layers=2, bidirectional=True),\n",
    "    nn.Linear(in_features=10, out_features=10),\n",
    "    nn.Softmax(),\n",
    ")"
   ]
  }
 ],
 "metadata": {
  "kernelspec": {
   "display_name": "Python (py310)",
   "language": "python",
   "name": "py310"
  },
  "language_info": {
   "codemirror_mode": {
    "name": "ipython",
    "version": 3
   },
   "file_extension": ".py",
   "mimetype": "text/x-python",
   "name": "python",
   "nbconvert_exporter": "python",
   "pygments_lexer": "ipython3",
   "version": "3.10.12"
  }
 },
 "nbformat": 4,
 "nbformat_minor": 5
}
