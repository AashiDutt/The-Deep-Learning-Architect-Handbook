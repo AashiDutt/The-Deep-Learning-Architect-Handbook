{
 "cells": [
  {
   "cell_type": "code",
   "execution_count": 10,
   "id": "0a22270e-9aae-4c07-a1c3-e5c690f61746",
   "metadata": {},
   "outputs": [],
   "source": [
    "import torch.nn as nn\n",
    "import torch"
   ]
  },
  {
   "cell_type": "markdown",
   "id": "a62b8132-f1c0-45c6-a356-d7356ba3affe",
   "metadata": {},
   "source": [
    "# LSTM"
   ]
  },
  {
   "cell_type": "code",
   "execution_count": 7,
   "id": "7b221c12-2b8d-45d4-b49d-ab2e1ad26ccf",
   "metadata": {},
   "outputs": [],
   "source": [
    "class LSTMOnlyOutput(nn.LSTM):\n",
    "    def forward(self,x):\n",
    "        return super(LSTMOnlyOutput, self).forward(x)[0]"
   ]
  },
  {
   "cell_type": "code",
   "execution_count": 12,
   "id": "8cb9b487-1dfb-4f63-9257-5d2f5bc839a9",
   "metadata": {},
   "outputs": [],
   "source": [
    "RNN = nn.Sequential(\n",
    "    LSTMOnlyOutput(\n",
    "        input_size=10, hidden_size=20, num_layers=2, dropout=0,\n",
    "    ),\n",
    "    nn.Linear(in_features=20, out_features=10),\n",
    "    nn.Softmax(),\n",
    ")"
   ]
  },
  {
   "cell_type": "code",
   "execution_count": 13,
   "id": "97597e75-0da9-403a-8f2b-ef6478036d8e",
   "metadata": {},
   "outputs": [
    {
     "name": "stderr",
     "output_type": "stream",
     "text": [
      "/home/chineekin/anaconda3/envs/py310/lib/python3.10/site-packages/torch/nn/modules/container.py:217: UserWarning: Implicit dimension choice for softmax has been deprecated. Change the call to include dim=X as an argument.\n",
      "  input = module(input)\n"
     ]
    }
   ],
   "source": [
    "input = torch.randn(5, 2, 10)\n",
    "output = RNN(input)"
   ]
  },
  {
   "cell_type": "markdown",
   "id": "7b0aeda8-502b-4bf7-bc8f-78c014ddfcf9",
   "metadata": {},
   "source": [
    "# GRU"
   ]
  },
  {
   "cell_type": "code",
   "execution_count": 16,
   "id": "469d8ecb-4b21-4203-93a7-0c927d603206",
   "metadata": {},
   "outputs": [],
   "source": [
    "class GRUOnlyOutput(nn.GRU):\n",
    "    def forward(self,x):\n",
    "        return super(GRUOnlyOutput, self).forward(x)[0]"
   ]
  },
  {
   "cell_type": "code",
   "execution_count": 22,
   "id": "0ab8ce9b-a1c0-4f1d-a324-dfb7fc4ae66d",
   "metadata": {},
   "outputs": [],
   "source": [
    "RNN = nn.Sequential(\n",
    "    GRUOnlyOutput(input_size=10, hidden_size=20, num_layers=2, bidirectional=True),\n",
    "    nn.Linear(in_features=40, out_features=10),\n",
    "    nn.Softmax(),\n",
    ")"
   ]
  },
  {
   "cell_type": "code",
   "execution_count": 23,
   "id": "92a7db1a-138d-4cda-8539-663164ae158f",
   "metadata": {
    "scrolled": true
   },
   "outputs": [],
   "source": [
    "input = torch.randn(5, 2, 10)\n",
    "output = RNN(input)"
   ]
  },
  {
   "cell_type": "code",
   "execution_count": null,
   "id": "e5732785-b940-4aef-b5cd-a90bd0d2e6c4",
   "metadata": {},
   "outputs": [],
   "source": []
  },
  {
   "cell_type": "code",
   "execution_count": null,
   "id": "7e13dec3-e920-4205-9775-eb6703e6b015",
   "metadata": {},
   "outputs": [],
   "source": []
  }
 ],
 "metadata": {
  "kernelspec": {
   "display_name": "Python (py310)",
   "language": "python",
   "name": "py310"
  },
  "language_info": {
   "codemirror_mode": {
    "name": "ipython",
    "version": 3
   },
   "file_extension": ".py",
   "mimetype": "text/x-python",
   "name": "python",
   "nbconvert_exporter": "python",
   "pygments_lexer": "ipython3",
   "version": "3.10.12"
  }
 },
 "nbformat": 4,
 "nbformat_minor": 5
}
