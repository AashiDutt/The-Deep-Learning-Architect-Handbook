{
 "cells": [
  {
   "cell_type": "markdown",
   "id": "d4174595-b448-4964-9320-075f0fcf6822",
   "metadata": {},
   "source": [
    "# Implementing an MLP from scratch"
   ]
  },
  {
   "cell_type": "code",
   "execution_count": 1,
   "id": "26966215-c8bb-4d4b-a8e2-0c00c8eb7962",
   "metadata": {},
   "outputs": [],
   "source": [
    "import numpy as np \n",
    "from sklearn import datasets  \n",
    "from sklearn.model_selection import train_test_split \n",
    "from sklearn.metrics import mean_squared_error\n",
    "import matplotlib.pyplot as plt"
   ]
  },
  {
   "cell_type": "code",
   "execution_count": 2,
   "id": "ef9b2b73-0b9c-447f-aa9d-3952a625a715",
   "metadata": {},
   "outputs": [],
   "source": [
    "def ReLU(x): \n",
    "  return np.maximum(x, 0) "
   ]
  },
  {
   "cell_type": "code",
   "execution_count": 3,
   "id": "4d179640-050a-4adf-9cc4-a80867bb9423",
   "metadata": {},
   "outputs": [],
   "source": [
    "class MLP(object): \n",
    "    def __init__( self, input_layer_size, hidden_layer_size, output_layer_size, seed=1234 ): \n",
    "        rng = np.random.RandomState(seed) \n",
    "        self.w1 = rng.normal( \n",
    "          size=(input_layer_size, hidden_layer_size) \n",
    "        ) \n",
    "        self.b1 = np.zeros(hidden_layer_size) \n",
    "        self.w2 = rng.normal( \n",
    "          size=(hidden_layer_size, output_layer_size) \n",
    "        ) \n",
    "        self.b2 = np.zeros(output_layer_size) \n",
    "        self.output_layer_size = output_layer_size \n",
    "        self.hidden_layer_size = hidden_layer_size \n",
    "\n",
    "    def forward_pass(self, x): \n",
    "        z1 = np.dot(x, self.w1) + self.b1 \n",
    "        a1 = ReLU(z1) \n",
    "        z2 = np.dot(a1, self.w2)  + self.b2 \n",
    "        a2 = z2 \n",
    "        return z1, a1, z2, a2 \n",
    "    def backward_pass(self, a0, z1, a1, z2, a2, y): \n",
    "        number_of_samples = len(a2) \n",
    "        average_gradient_w2 = ( \n",
    "          np.dot(a1.T, (a2 - y)) *  \n",
    "          (2 / (number_of_samples * self.output_layer_size)) \n",
    "        )  \n",
    "        average_gradient_b2 = ( \n",
    "          np.mean((a2 - y), axis=0) * (2 / self.output_layer_size) \n",
    "        )  \n",
    "        average_gradient_w1 = np.dot( \n",
    "          a0.T, np.dot((a2 - y), self.w2.T) * ReLU_gradient(z1) \n",
    "        ) * 2 / (number_of_samples * self.output_layer_size) \n",
    "        average_gradient_b1 = np.mean( \n",
    "          np.dot((a2 - y), self.w2.T) * ReLU_gradient(z1), axis=0 \n",
    "        ) *  2 / self.output_layer_size \n",
    "    \n",
    "        return ( \n",
    "          average_gradient_w2, average_gradient_b2, average_gradient_w1, average_gradient_b1 \n",
    "        ) \n",
    "    def gradient_descent_step(\n",
    "        self, learning_rate, average_gradient_w2, average_gradient_b2, average_gradient_w1, average_gradient_b1 \n",
    "    ): \n",
    "        self.w2 = self.w2 - learning_rate * average_gradient_w2 \n",
    "        self.b2 = self.b2 - learning_rate * average_gradient_b2 \n",
    "        self.w1 = self.w1 - learning_rate * average_gradient_w1 \n",
    "        self.b1 = self.b1 - learning_rate * average_gradient_b1 "
   ]
  },
  {
   "cell_type": "code",
   "execution_count": 4,
   "id": "5346d66a-04dd-49f5-a793-a51a7c38e0b0",
   "metadata": {},
   "outputs": [],
   "source": [
    "def ReLU_gradient(x):  \n",
    "\treturn np.where(x > 0, 1, 0) \n",
    "\n",
    " "
   ]
  },
  {
   "cell_type": "code",
   "execution_count": 5,
   "id": "c5f62e54-342d-45be-af7a-5db43d997124",
   "metadata": {},
   "outputs": [],
   "source": [
    "diabetes_data = datasets.load_diabetes(as_frame=True) \n",
    "diabetes_df = diabetes_data['data'] "
   ]
  },
  {
   "cell_type": "code",
   "execution_count": 6,
   "id": "5a5f39d9-e956-444e-9ca9-31e32a0c4a20",
   "metadata": {},
   "outputs": [],
   "source": [
    "X = diabetes_df.values "
   ]
  },
  {
   "cell_type": "code",
   "execution_count": 7,
   "id": "92be8f91-dda6-4e76-80a1-77ee36328f38",
   "metadata": {},
   "outputs": [],
   "source": [
    "target = np.expand_dims(diabetes_data['target'], 1) "
   ]
  },
  {
   "cell_type": "code",
   "execution_count": 8,
   "id": "f0bd1864-fef0-4884-a3c6-d40c02a69153",
   "metadata": {},
   "outputs": [],
   "source": [
    "X_train, X_val, y_train, y_val = train_test_split( \n",
    "  X, target, test_size=0.20, random_state=42 \n",
    ") "
   ]
  },
  {
   "cell_type": "code",
   "execution_count": 9,
   "id": "5720917a-65f5-4673-a7c6-08ac1f8c2b35",
   "metadata": {},
   "outputs": [],
   "source": [
    "mlp_model = MLP( \n",
    "  input_layer_size=len(diabetes_df.columns),  \n",
    "  hidden_layer_size=20, \n",
    "  output_layer_size=target.shape[1] \n",
    ") "
   ]
  },
  {
   "cell_type": "code",
   "execution_count": 10,
   "id": "d124c4aa-abf3-44a1-97f4-6c83c7011400",
   "metadata": {},
   "outputs": [],
   "source": [
    "iterations = 100 \n",
    "training_error_per_epoch = [] \n",
    "validation_error_per_epoch = [] \n",
    "\n",
    "for i in range(iterations): \n",
    "  z1, a1, z2, a2 = mlp_model.forward_pass(X_train) \n",
    "  ( \n",
    "    average_gradient_w2, \n",
    "    average_gradient_b2, \n",
    "    average_gradient_w1, \n",
    "    average_gradient_b1 \n",
    "  ) = mlp_model.backward_pass(X_train, z1, a1, z2, a2, y_train) \n",
    "  mlp_model.gradient_descent_step( \n",
    "    learning_rate=0.1, \n",
    "    average_gradient_w2=average_gradient_w2, \n",
    "    average_gradient_b2=average_gradient_b2, \n",
    "    average_gradient_w1=average_gradient_w1, \n",
    "    average_gradient_b1=average_gradient_b1, \n",
    "  ) \n",
    "  _, _, _, a2_val = mlp_model.forward_pass(X_val) \n",
    "  training_error_per_epoch.append(mean_squared_error(y_train, a2))\n",
    "  validation_error_per_epoch.append( \n",
    "    mean_squared_error(y_val, a2_val) \n",
    "  ) "
   ]
  },
  {
   "cell_type": "code",
   "execution_count": 11,
   "id": "21b29be8-aa83-41ea-acef-83130d279f85",
   "metadata": {},
   "outputs": [
    {
     "data": {
      "image/png": "[encoded data removed]",
      "text/plain": [
       "<Figure size 1000x600 with 1 Axes>"
      ]
     },
     "metadata": {},
     "output_type": "display_data"
    }
   ],
   "source": [
    "plt.figure(figsize=(10, 6)) \n",
    "plt.plot(training_error_per_epoch) \n",
    "plt.plot(validation_error_per_epoch,  linestyle = 'dotted') \n",
    "plt.show() "
   ]
  },
  {
   "cell_type": "markdown",
   "id": "8a711aa5-b4fd-424a-bf27-8a26304113be",
   "metadata": {},
   "source": [
    "# Implementing MLP using deep learning frameworks "
   ]
  },
  {
   "cell_type": "code",
   "execution_count": 12,
   "id": "2f0015a1-14aa-4ec4-9633-900e34a6b93b",
   "metadata": {},
   "outputs": [],
   "source": [
    "import torch \n",
    "import torch.nn as nn \n",
    "import torch.nn.functional as F "
   ]
  },
  {
   "cell_type": "code",
   "execution_count": 13,
   "id": "065bdb76-9716-4765-9790-199dbcfa850c",
   "metadata": {},
   "outputs": [],
   "source": [
    "class MLPPytorch(nn.Module): \n",
    "  def __init__( \n",
    "    self, input_layer_size, hidden_layer_size, output_layer_size \n",
    "  ): \n",
    "    super(MLPPytorch, self).__init__() \n",
    "    self.fc1 = nn.Linear(input_layer_size, hidden_layer_size) \n",
    "    self.fc2 = nn.Linear(hidden_layer_size, output_layer_size) \n",
    "\n",
    "  def forward(self, x): \n",
    "    x = F.relu(self.fc1(x)) \n",
    "    x = self.fc2(x) \n",
    "    return x \n",
    " "
   ]
  },
  {
   "cell_type": "code",
   "execution_count": 16,
   "id": "1049cd89-7916-4e01-9f82-dfea100e64e1",
   "metadata": {},
   "outputs": [],
   "source": [
    "net = MLPPytorch( \n",
    "  input_layer_size=len(diabetes_df.columns), \n",
    "  hidden_layer_size=20, \n",
    "  output_layer_size=y_train.shape[1], \n",
    ") \n"
   ]
  },
  {
   "cell_type": "code",
   "execution_count": 17,
   "id": "31966ef4-9d0f-4aa4-8ede-88ae51d6f62d",
   "metadata": {},
   "outputs": [],
   "source": [
    "with torch.no_grad(): \n",
    "    net.fc1.weight.copy_(torch.from_numpy(mlp_model.w1.T)) \n",
    "    net.fc1.bias.copy_(torch.from_numpy(mlp_model.b1)) \n",
    "    net.fc2.weight.copy_(torch.from_numpy(mlp_model.w2.T)) \n",
    "    net.fc2.bias.copy_(torch.from_numpy(mlp_model.b2)) "
   ]
  },
  {
   "cell_type": "code",
   "execution_count": 18,
   "id": "66c74c8e-8160-4d55-8fe0-034f82fd5074",
   "metadata": {},
   "outputs": [],
   "source": [
    "torch_input = torch.from_numpy(X_train) \n",
    "torch_target = torch.from_numpy(y_train) "
   ]
  },
  {
   "cell_type": "code",
   "execution_count": 19,
   "id": "34526c69-13d0-4e15-91d9-892463ee6ed4",
   "metadata": {},
   "outputs": [],
   "source": [
    "criterion = nn.MSELoss() \n",
    "output = net(torch_input.float()) \n",
    "loss = criterion(output, torch_target.float()) \n",
    "loss.backward() "
   ]
  },
  {
   "cell_type": "code",
   "execution_count": 20,
   "id": "aec59eb9-2b2c-44c7-9751-609afdcc3f53",
   "metadata": {},
   "outputs": [],
   "source": [
    "np.testing.assert_almost_equal(output.detach().numpy(), a2, decimal=3) \n",
    "np.testing.assert_almost_equal(net.fc2.weight.grad.numpy(), average_gradient_w2.T, decimal=3) \n",
    "np.testing.assert_almost_equal(net.fc2.bias.grad.numpy(), average_gradient_b2, decimal=3) \n",
    "np.testing.assert_almost_equal(net.fc1.weight.grad.numpy(), average_gradient_w1.T, decimal=3) \n",
    "np.testing.assert_almost_equal(net.fc1.bias.grad.numpy(), average_gradient_b1, decimal=3) "
   ]
  },
  {
   "cell_type": "code",
   "execution_count": null,
   "id": "28f1fb1d-9bf8-46eb-8bb8-91a7f066f89a",
   "metadata": {},
   "outputs": [],
   "source": []
  }
 ],
 "metadata": {
  "kernelspec": {
   "display_name": "Python (py310)",
   "language": "python",
   "name": "py310"
  },
  "language_info": {
   "codemirror_mode": {
    "name": "ipython",
    "version": 3
   },
   "file_extension": ".py",
   "mimetype": "text/x-python",
   "name": "python",
   "nbconvert_exporter": "python",
   "pygments_lexer": "ipython3",
   "version": "3.10.12"
  }
 },
 "nbformat": 4,
 "nbformat_minor": 5
}
